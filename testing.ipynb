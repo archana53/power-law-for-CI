{
 "cells": [
  {
   "cell_type": "code",
   "execution_count": 37,
   "metadata": {},
   "outputs": [],
   "source": [
    "import torch\n",
    "from torchvision import datasets,transforms\n",
    "from torch.utils.data import Dataset\n",
    "import matplotlib.pyplot as plt\n",
    "import numpy as np"
   ]
  },
  {
   "cell_type": "code",
   "execution_count": 38,
   "metadata": {},
   "outputs": [],
   "source": [
    "TRANSFORMS = [\n",
    "        transforms.Pad(2),\n",
    "        transforms.ToTensor(),\n",
    "    ]\n",
    "\n",
    "dataset_tranforms = transforms.Compose(TRANSFORMS)"
   ]
  },
  {
   "cell_type": "code",
   "execution_count": 39,
   "metadata": {},
   "outputs": [],
   "source": [
    "mnist_trainset = datasets.MNIST(root='./data', train=True, download=True, transform=dataset_tranforms)\n",
    "mnist_testset = datasets.MNIST(root='./data', train=False, download=True, transform=dataset_tranforms)"
   ]
  },
  {
   "cell_type": "code",
   "execution_count": 40,
   "metadata": {},
   "outputs": [
    {
     "data": {
      "image/png": "[encoded data removed]",
      "text/plain": [
       "<Figure size 800x800 with 9 Axes>"
      ]
     },
     "metadata": {},
     "output_type": "display_data"
    }
   ],
   "source": [
    "figure = plt.figure(figsize=(8, 8))\n",
    "cols, rows = 3, 3\n",
    "for i in range(1, cols * rows + 1):\n",
    "    sample_idx = torch.randint(len(mnist_trainset), size=(1,)).item()\n",
    "    img, label = mnist_trainset[sample_idx]\n",
    "    figure.add_subplot(rows, cols, i)\n",
    "    plt.axis(\"off\")\n",
    "    plt.imshow(img.squeeze(), cmap=\"gray\")\n",
    "plt.show()"
   ]
  },
  {
   "cell_type": "code",
   "execution_count": 41,
   "metadata": {},
   "outputs": [],
   "source": [
    "class TransformedDataset(Dataset):\n",
    "    '''To modify an existing dataset with a transform.\n",
    "    This is useful for creating different permutations of MNIST without loading the data multiple times.'''\n",
    "\n",
    "    def __init__(self, original_dataset, transform=None, target_transform=None):\n",
    "        super().__init__()\n",
    "        self.dataset = original_dataset\n",
    "        self.transform = transform\n",
    "        self.target_transform = target_transform\n",
    "\n",
    "    def __len__(self):\n",
    "        return len(self.dataset)\n",
    "\n",
    "    def __getitem__(self, index):\n",
    "        (input, target) = self.dataset[index]\n",
    "        if self.transform:\n",
    "            input = self.transform(input)\n",
    "        if self.target_transform:\n",
    "            target = self.target_transform(target)\n",
    "        return (input, target)\n",
    "\n",
    "\n",
    "def permute_train_test_data(trainset,testset) :\n",
    "        # get train and test datasets\n",
    "        mnist_trainset = trainset\n",
    "        mnist_testset = testset\n",
    "\n",
    "        # generate pixel-permutations\n",
    "        permutations = [np.random.permutation(32**2) for _ in range(10)]\n",
    "        # specify transformed datasets per context\n",
    "        train_datasets = []\n",
    "        test_datasets = []\n",
    "        for perm in enumerate(permutations):\n",
    "            target_transform = None\n",
    "            train_datasets.append(TransformedDataset(\n",
    "                mnist_trainset, transform=transforms.Lambda(lambda x, p=perm: permutate_image_pixels(x, p)),\n",
    "                target_transform=target_transform\n",
    "            ))\n",
    "            test_datasets.append(TransformedDataset(\n",
    "                mnist_testset, transform=transforms.Lambda(lambda x, p=perm: permutate_image_pixels(x, p)),\n",
    "                target_transform=target_transform\n",
    "            ))\n",
    "\n",
    "        return train_datasets, test_datasets"
   ]
  },
  {
   "cell_type": "code",
   "execution_count": null,
   "metadata": {},
   "outputs": [],
   "source": []
  }
 ],
 "metadata": {
  "kernelspec": {
   "display_name": "Python 3.10.8 ('hml_project')",
   "language": "python",
   "name": "python3"
  },
  "language_info": {
   "codemirror_mode": {
    "name": "ipython",
    "version": 3
   },
   "file_extension": ".py",
   "mimetype": "text/x-python",
   "name": "python",
   "nbconvert_exporter": "python",
   "pygments_lexer": "ipython3",
   "version": "3.10.8"
  },
  "orig_nbformat": 4,
  "vscode": {
   "interpreter": {
    "hash": "c06359541bab7741f5b8a7a51e0e45335cfb5c188357344206c64fc8f256a6c1"
   }
  }
 },
 "nbformat": 4,
 "nbformat_minor": 2
}
