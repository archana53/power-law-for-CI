{
 "cells": [
  {
   "cell_type": "code",
   "execution_count": 11,
   "metadata": {},
   "outputs": [],
   "source": [
    "import torch\n",
    "from torchvision import datasets,transforms\n",
    "from torch.utils.data import DataLoader\n",
    "from torch.utils.data import Dataset\n",
    "import matplotlib.pyplot as plt\n",
    "import numpy as np"
   ]
  },
  {
   "cell_type": "code",
   "execution_count": 12,
   "metadata": {},
   "outputs": [],
   "source": [
    "dataset_tranforms = transforms.Compose([\n",
    "        transforms.Pad(2),\n",
    "        transforms.ToTensor(),\n",
    "    ]\n",
    ")"
   ]
  },
  {
   "cell_type": "code",
   "execution_count": 13,
   "metadata": {},
   "outputs": [],
   "source": [
    "mnist_trainset = datasets.MNIST(root='./data', train=True, download=True, transform=dataset_tranforms)\n",
    "mnist_testset = datasets.MNIST(root='./data', train=False, download=True, transform=dataset_tranforms)"
   ]
  },
  {
   "cell_type": "code",
   "execution_count": 14,
   "metadata": {},
   "outputs": [
    {
     "data": {
      "image/png": "[encoded data removed]",
      "text/plain": [
       "<Figure size 800x800 with 9 Axes>"
      ]
     },
     "metadata": {},
     "output_type": "display_data"
    }
   ],
   "source": [
    "figure = plt.figure(figsize=(8, 8))\n",
    "cols, rows = 3, 3\n",
    "for i in range(1, cols * rows + 1):\n",
    "    sample_idx = torch.randint(len(mnist_trainset), size=(1,)).item()\n",
    "    img, label = mnist_trainset[sample_idx]\n",
    "    figure.add_subplot(rows, cols, i)\n",
    "    plt.axis(\"off\")\n",
    "    plt.imshow(img.squeeze(), cmap=\"gray\")\n",
    "plt.show()"
   ]
  },
  {
   "cell_type": "code",
   "execution_count": 15,
   "metadata": {},
   "outputs": [],
   "source": [
    "from data_loading import permute_train_test_data"
   ]
  },
  {
   "cell_type": "code",
   "execution_count": 16,
   "metadata": {},
   "outputs": [],
   "source": [
    "training_permutations , test_permutations = permute_train_test_data(list(mnist_trainset)[:1000],list(mnist_testset)[:1000])"
   ]
  },
  {
   "cell_type": "code",
   "execution_count": 17,
   "metadata": {},
   "outputs": [
    {
     "data": {
      "image/png": "[encoded data removed]",
      "text/plain": [
       "<Figure size 800x800 with 9 Axes>"
      ]
     },
     "metadata": {},
     "output_type": "display_data"
    }
   ],
   "source": [
    "figure = plt.figure(figsize=(8, 8))\n",
    "cols, rows = 3, 3\n",
    "for i in range(1, cols * rows + 1):\n",
    "    sample_idx = torch.randint(len(training_permutations[0]), size=(1,)).item()\n",
    "    img, label = training_permutations[0][sample_idx]\n",
    "    figure.add_subplot(rows, cols, i)\n",
    "    plt.axis(\"off\")\n",
    "    plt.imshow(img.squeeze(), cmap=\"gray\")\n",
    "plt.show()"
   ]
  },
  {
   "cell_type": "code",
   "execution_count": 18,
   "metadata": {},
   "outputs": [],
   "source": [
    "from EWC_model import *\n",
    "from train import * "
   ]
  },
  {
   "cell_type": "code",
   "execution_count": 19,
   "metadata": {},
   "outputs": [
    {
     "name": "stdout",
     "output_type": "stream",
     "text": [
      "[LinearExcitability(in_features=1024, out_features=1000), LinearExcitability(in_features=1000, out_features=1000), LinearExcitability(in_features=1000, out_features=1000), LinearExcitability(in_features=1000, out_features=10)]\n"
     ]
    },
    {
     "data": {
      "text/plain": [
       "Classifier(\n",
       "  (convE): ConvLayers(\n",
       "    (pooling): Identity()\n",
       "  )\n",
       "  (flatten): Flatten()\n",
       "  (fcE): MLP(\n",
       "    (fcLayer1): fc_layer(\n",
       "      (linear): LinearExcitability(in_features=1024, out_features=1000)\n",
       "      (bn): BatchNorm1d(1000, eps=1e-05, momentum=0.1, affine=True, track_running_stats=True)\n",
       "      (nl): ReLU()\n",
       "    )\n",
       "    (fcLayer2): fc_layer(\n",
       "      (dropout): Dropout(p=0.2, inplace=False)\n",
       "      (linear): LinearExcitability(in_features=1000, out_features=1000)\n",
       "      (bn): BatchNorm1d(1000, eps=1e-05, momentum=0.1, affine=True, track_running_stats=True)\n",
       "      (nl): ReLU()\n",
       "    )\n",
       "    (fcLayer3): fc_layer(\n",
       "      (dropout): Dropout(p=0.2, inplace=False)\n",
       "      (linear): LinearExcitability(in_features=1000, out_features=1000)\n",
       "      (bn): BatchNorm1d(1000, eps=1e-05, momentum=0.1, affine=True, track_running_stats=True)\n",
       "      (nl): ReLU()\n",
       "    )\n",
       "  )\n",
       "  (classifier): fc_layer(\n",
       "    (dropout): Dropout(p=0.2, inplace=False)\n",
       "    (linear): LinearExcitability(in_features=1000, out_features=10)\n",
       "  )\n",
       ")"
      ]
     },
     "execution_count": 19,
     "metadata": {},
     "output_type": "execute_result"
    }
   ],
   "source": [
    "# -conv-layers\n",
    "'''\n",
    "        depth=depth,\n",
    "        conv_type=args.conv_type if depth>0 else None,\n",
    "        start_channels=args.channels if depth>0 else None,\n",
    "        reducing_layers=args.rl if depth>0 else None,\n",
    "        num_blocks=args.n_blocks if depth>0 else None,\n",
    "        conv_bn=(True if args.conv_bn==\"yes\" else False) if depth>0 else None,\n",
    "        conv_nl=args.conv_nl if depth>0 else None,\n",
    "        no_fnl=True if depth>0 else None,\n",
    "        global_pooling=checkattr(args, 'gp') if depth>0 else None,\n",
    "'''\n",
    "model = Classifier(\n",
    "        image_size=32*32,\n",
    "        image_channels=1,\n",
    "        classes=10,\n",
    "        # -fc-layers\n",
    "        fc_units=1000,\n",
    "        fc_drop=0.2,\n",
    "        fc_layers = 4,\n",
    "        fc_bn=True\n",
    "\n",
    "    )\n",
    "\n",
    "model"
   ]
  },
  {
   "cell_type": "code",
   "execution_count": 20,
   "metadata": {},
   "outputs": [],
   "source": [
    "model.fisher_n = None\n",
    "model.fisher_labels = 'all'\n",
    "model.fisher_batch = 1\n",
    "# -options relating to 'Offline EWC' (Kirkpatrick et al., 2017) and 'Online EWC' (Schwarz et al., 2018)\n",
    "model.offline = True\n",
    "model.weight_penalty = True\n",
    "model.reg_strength = 500"
   ]
  },
  {
   "cell_type": "code",
   "execution_count": 21,
   "metadata": {},
   "outputs": [
    {
     "name": "stderr",
     "output_type": "stream",
     "text": [
      "context:   0%|          | 0/10 [00:00<?, ?it/s]"
     ]
    },
    {
     "name": "stdout",
     "output_type": "stream",
     "text": [
      "1\n"
     ]
    },
    {
     "name": "stderr",
     "output_type": "stream",
     "text": []
    },
    {
     "name": "stdout",
     "output_type": "stream",
     "text": [
      "accuracy for iteration  0  : 0.8421672952586207\n"
     ]
    },
    {
     "name": "stderr",
     "output_type": "stream",
     "text": []
    },
    {
     "name": "stdout",
     "output_type": "stream",
     "text": [
      "accuracy for iteration  100  : 0.973700161637931\n"
     ]
    },
    {
     "name": "stderr",
     "output_type": "stream",
     "text": []
    },
    {
     "name": "stdout",
     "output_type": "stream",
     "text": [
      "accuracy for iteration  200  : 0.9928609913793103\n"
     ]
    },
    {
     "name": "stderr",
     "output_type": "stream",
     "text": []
    }
   ],
   "source": [
    "train_cl(model, training_permutations, iters=500, batch_size=256)"
   ]
  },
  {
   "cell_type": "code",
   "execution_count": null,
   "metadata": {},
   "outputs": [
    {
     "ename": "NameError",
     "evalue": "name 'tqdm' is not defined",
     "output_type": "error",
     "traceback": [
      "\u001b[0;31m---------------------------------------------------------------------------\u001b[0m",
      "\u001b[0;31mNameError\u001b[0m                                 Traceback (most recent call last)",
      "Cell \u001b[0;32mIn [2], line 1\u001b[0m\n\u001b[0;32m----> 1\u001b[0m \u001b[38;5;28;01mfor\u001b[39;00m i, test_set \u001b[38;5;129;01min\u001b[39;00m \u001b[38;5;28menumerate\u001b[39m(\u001b[43mtqdm\u001b[49m(test_permutations)):\n\u001b[1;32m      2\u001b[0m     test_loader \u001b[38;5;241m=\u001b[39m DataLoader(test_set,batch_size\u001b[38;5;241m=\u001b[39m\u001b[38;5;241m256\u001b[39m, shuffle\u001b[38;5;241m=\u001b[39m\u001b[38;5;28;01mTrue\u001b[39;00m)\n\u001b[1;32m      3\u001b[0m     acc \u001b[38;5;241m=\u001b[39m []\n",
      "\u001b[0;31mNameError\u001b[0m: name 'tqdm' is not defined"
     ]
    }
   ],
   "source": [
    "for i, test_set in enumerate(tqdm(test_permutations)):\n",
    "    test_loader = DataLoader(test_set,batch_size=256, shuffle=True)\n",
    "    acc = []\n",
    "    for batch_idx, (data, y) in enumerate(tqdm(test_loader)):\n",
    "            # Perform training-step on this batch\n",
    "            y_hat = model(data)\n",
    "            acc.append((y == y_hat.max(1)[1]).sum().item() / data.size(0))\n",
    "    print(\"Accuracy for context \", i , \"is : \", np.mean(acc))"
   ]
  },
  {
   "cell_type": "code",
   "execution_count": null,
   "metadata": {},
   "outputs": [],
   "source": []
  },
  {
   "cell_type": "code",
   "execution_count": null,
   "metadata": {},
   "outputs": [],
   "source": []
  }
 ],
 "metadata": {
  "kernelspec": {
   "display_name": "Python 3.10.8 ('hml_project')",
   "language": "python",
   "name": "python3"
  },
  "language_info": {
   "codemirror_mode": {
    "name": "ipython",
    "version": 3
   },
   "file_extension": ".py",
   "mimetype": "text/x-python",
   "name": "python",
   "nbconvert_exporter": "python",
   "pygments_lexer": "ipython3",
   "version": "3.10.8"
  },
  "orig_nbformat": 4,
  "vscode": {
   "interpreter": {
    "hash": "c06359541bab7741f5b8a7a51e0e45335cfb5c188357344206c64fc8f256a6c1"
   }
  }
 },
 "nbformat": 4,
 "nbformat_minor": 2
}
