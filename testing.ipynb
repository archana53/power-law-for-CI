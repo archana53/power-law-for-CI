{
 "cells": [
  {
   "cell_type": "code",
   "execution_count": 1,
   "metadata": {},
   "outputs": [
    {
     "name": "stderr",
     "output_type": "stream",
     "text": [
      "/Users/arch/opt/anaconda3/envs/hml_project/lib/python3.10/site-packages/tqdm/auto.py:22: TqdmWarning: IProgress not found. Please update jupyter and ipywidgets. See https://ipywidgets.readthedocs.io/en/stable/user_install.html\n",
      "  from .autonotebook import tqdm as notebook_tqdm\n"
     ]
    }
   ],
   "source": [
    "import torch\n",
    "from torchvision import datasets,transforms\n",
    "from torch.utils.data import DataLoader\n",
    "from torch.utils.data import Dataset\n",
    "import matplotlib.pyplot as plt\n",
    "import numpy as np"
   ]
  },
  {
   "cell_type": "code",
   "execution_count": 2,
   "metadata": {},
   "outputs": [],
   "source": [
    "dataset_tranforms = transforms.Compose([\n",
    "        transforms.Pad(2),\n",
    "        transforms.ToTensor(),\n",
    "    ]\n",
    ")"
   ]
  },
  {
   "cell_type": "code",
   "execution_count": 3,
   "metadata": {},
   "outputs": [],
   "source": [
    "mnist_trainset = datasets.MNIST(root='./data', train=True, download=True, transform=dataset_tranforms)\n",
    "mnist_testset = datasets.MNIST(root='./data', train=False, download=True, transform=dataset_tranforms)"
   ]
  },
  {
   "cell_type": "code",
   "execution_count": 4,
   "metadata": {},
   "outputs": [
    {
     "data": {
      "image/png": "[encoded data removed]",
      "text/plain": [
       "<Figure size 800x800 with 9 Axes>"
      ]
     },
     "metadata": {},
     "output_type": "display_data"
    }
   ],
   "source": [
    "figure = plt.figure(figsize=(8, 8))\n",
    "cols, rows = 3, 3\n",
    "for i in range(1, cols * rows + 1):\n",
    "    sample_idx = torch.randint(len(mnist_trainset), size=(1,)).item()\n",
    "    img, label = mnist_trainset[sample_idx]\n",
    "    figure.add_subplot(rows, cols, i)\n",
    "    plt.axis(\"off\")\n",
    "    plt.imshow(img.squeeze(), cmap=\"gray\")\n",
    "plt.show()"
   ]
  },
  {
   "cell_type": "code",
   "execution_count": 5,
   "metadata": {},
   "outputs": [],
   "source": [
    "from data_loading import permute_train_test_data"
   ]
  },
  {
   "cell_type": "code",
   "execution_count": 12,
   "metadata": {},
   "outputs": [
    {
     "ename": "NameError",
     "evalue": "name 'no_permute_train_test_data' is not defined",
     "output_type": "error",
     "traceback": [
      "\u001b[0;31m---------------------------------------------------------------------------\u001b[0m",
      "\u001b[0;31mNameError\u001b[0m                                 Traceback (most recent call last)",
      "Cell \u001b[0;32mIn [12], line 2\u001b[0m\n\u001b[1;32m      1\u001b[0m training_permutations , test_permutations \u001b[38;5;241m=\u001b[39m permute_train_test_data(\u001b[38;5;28mlist\u001b[39m(mnist_trainset)[:\u001b[38;5;241m1000\u001b[39m],\u001b[38;5;28mlist\u001b[39m(mnist_testset)[:\u001b[38;5;241m1000\u001b[39m])\n\u001b[0;32m----> 2\u001b[0m no_permute_training , no_permute_test \u001b[38;5;241m=\u001b[39m \u001b[43mno_permute_train_test_data\u001b[49m(\u001b[38;5;28mlist\u001b[39m(mnist_trainset)[:\u001b[38;5;241m1000\u001b[39m],\u001b[38;5;28mlist\u001b[39m(mnist_testset)[:\u001b[38;5;241m1000\u001b[39m])\n",
      "\u001b[0;31mNameError\u001b[0m: name 'no_permute_train_test_data' is not defined"
     ]
    }
   ],
   "source": [
    "training_permutations , test_permutations = permute_train_test_data(list(mnist_trainset)[:1000],mnist_testset[:1000])"
   ]
  },
  {
   "cell_type": "code",
   "execution_count": 7,
   "metadata": {},
   "outputs": [
    {
     "data": {
      "image/png": "[encoded data removed]",
      "text/plain": [
       "<Figure size 800x800 with 9 Axes>"
      ]
     },
     "metadata": {},
     "output_type": "display_data"
    }
   ],
   "source": [
    "figure = plt.figure(figsize=(8, 8))\n",
    "cols, rows = 3, 3\n",
    "for i in range(1, cols * rows + 1):\n",
    "    sample_idx = torch.randint(len(training_permutations[0]), size=(1,)).item()\n",
    "    img, label = training_permutations[0][sample_idx]\n",
    "    figure.add_subplot(rows, cols, i)\n",
    "    plt.axis(\"off\")\n",
    "    plt.imshow(img.squeeze(), cmap=\"gray\")\n",
    "plt.show()"
   ]
  },
  {
   "cell_type": "code",
   "execution_count": 8,
   "metadata": {},
   "outputs": [],
   "source": [
    "from EWC_model import *\n",
    "from train import * "
   ]
  },
  {
   "cell_type": "code",
   "execution_count": 9,
   "metadata": {},
   "outputs": [],
   "source": [
    "# -conv-layers\n",
    "'''\n",
    "        depth=depth,\n",
    "        conv_type=args.conv_type if depth>0 else None,\n",
    "        start_channels=args.channels if depth>0 else None,\n",
    "        reducing_layers=args.rl if depth>0 else None,\n",
    "        num_blocks=args.n_blocks if depth>0 else None,\n",
    "        conv_bn=(True if args.conv_bn==\"yes\" else False) if depth>0 else None,\n",
    "        conv_nl=args.conv_nl if depth>0 else None,\n",
    "        no_fnl=True if depth>0 else None,\n",
    "        global_pooling=checkattr(args, 'gp') if depth>0 else None,\n",
    "'''\n",
    "model = Classifier(\n",
    "        image_size=32*32,\n",
    "        image_channels=1,\n",
    "        classes=10,\n",
    "        # -fc-layers\n",
    "        fc_units=400,\n",
    "        fc_drop=0.2,\n",
    "        fc_bn=True\n",
    "\n",
    "    )"
   ]
  },
  {
   "cell_type": "code",
   "execution_count": 10,
   "metadata": {},
   "outputs": [],
   "source": [
    "model.fisher_n = None\n",
    "model.fisher_labels = 'all'\n",
    "model.fisher_batch = 1\n",
    "# -options relating to 'Offline EWC' (Kirkpatrick et al., 2017) and 'Online EWC' (Schwarz et al., 2018)\n",
    "model.offline = True\n",
    "model.weight_penalty = False\n",
    "model.reg_strength = .5"
   ]
  },
  {
   "cell_type": "code",
   "execution_count": 14,
   "metadata": {},
   "outputs": [
    {
     "name": "stderr",
     "output_type": "stream",
     "text": [
      "context:   0%|          | 0/1 [00:00<?, ?it/s]"
     ]
    },
    {
     "name": "stdout",
     "output_type": "stream",
     "text": [
      "1\n"
     ]
    },
    {
     "name": "stderr",
     "output_type": "stream",
     "text": []
    },
    {
     "name": "stdout",
     "output_type": "stream",
     "text": [
      "accuracy for iteration  0  : 0.0595703125\n"
     ]
    },
    {
     "name": "stderr",
     "output_type": "stream",
     "text": []
    },
    {
     "name": "stdout",
     "output_type": "stream",
     "text": [
      "accuracy for iteration  100  : 0.0693359375\n"
     ]
    },
    {
     "name": "stderr",
     "output_type": "stream",
     "text": []
    },
    {
     "name": "stdout",
     "output_type": "stream",
     "text": [
      "accuracy for iteration  200  : 0.0927734375\n"
     ]
    },
    {
     "name": "stderr",
     "output_type": "stream",
     "text": []
    },
    {
     "name": "stdout",
     "output_type": "stream",
     "text": [
      "accuracy for iteration  300  : 0.0771484375\n"
     ]
    },
    {
     "name": "stderr",
     "output_type": "stream",
     "text": []
    },
    {
     "name": "stdout",
     "output_type": "stream",
     "text": [
      "accuracy for iteration  400  : 0.0810546875\n"
     ]
    },
    {
     "name": "stderr",
     "output_type": "stream",
     "text": []
    },
    {
     "name": "stdout",
     "output_type": "stream",
     "text": [
      "accuracy for iteration  500  : 0.0859375\n"
     ]
    },
    {
     "name": "stderr",
     "output_type": "stream",
     "text": []
    },
    {
     "name": "stdout",
     "output_type": "stream",
     "text": [
      "accuracy for iteration  600  : 0.087890625\n"
     ]
    },
    {
     "name": "stderr",
     "output_type": "stream",
     "text": []
    },
    {
     "name": "stdout",
     "output_type": "stream",
     "text": [
      "accuracy for iteration  700  : 0.0869140625\n"
     ]
    },
    {
     "name": "stderr",
     "output_type": "stream",
     "text": []
    },
    {
     "name": "stdout",
     "output_type": "stream",
     "text": [
      "accuracy for iteration  800  : 0.080078125\n"
     ]
    },
    {
     "name": "stderr",
     "output_type": "stream",
     "text": []
    },
    {
     "name": "stdout",
     "output_type": "stream",
     "text": [
      "accuracy for iteration  900  : 0.0625\n"
     ]
    },
    {
     "name": "stderr",
     "output_type": "stream",
     "text": []
    },
    {
     "name": "stdout",
     "output_type": "stream",
     "text": [
      "accuracy for iteration  1000  : 0.0771484375\n"
     ]
    },
    {
     "name": "stderr",
     "output_type": "stream",
     "text": []
    },
    {
     "name": "stdout",
     "output_type": "stream",
     "text": [
      "accuracy for iteration  1100  : 0.068359375\n"
     ]
    },
    {
     "name": "stderr",
     "output_type": "stream",
     "text": []
    },
    {
     "name": "stdout",
     "output_type": "stream",
     "text": [
      "accuracy for iteration  1200  : 0.0712890625\n"
     ]
    },
    {
     "name": "stderr",
     "output_type": "stream",
     "text": []
    },
    {
     "name": "stdout",
     "output_type": "stream",
     "text": [
      "accuracy for iteration  1300  : 0.0908203125\n"
     ]
    },
    {
     "name": "stderr",
     "output_type": "stream",
     "text": []
    },
    {
     "name": "stdout",
     "output_type": "stream",
     "text": [
      "accuracy for iteration  1400  : 0.0712890625\n"
     ]
    },
    {
     "name": "stderr",
     "output_type": "stream",
     "text": [
      "Iterations:  15%|█▍        | 1464/10000 [03:25<19:57,  7.13it/s]\n",
      "context:   0%|          | 0/1 [03:25<?, ?it/s]\n"
     ]
    },
    {
     "ename": "KeyboardInterrupt",
     "evalue": "",
     "output_type": "error",
     "traceback": [
      "\u001b[0;31m---------------------------------------------------------------------------\u001b[0m",
      "\u001b[0;31mKeyboardInterrupt\u001b[0m                         Traceback (most recent call last)",
      "Cell \u001b[0;32mIn [14], line 1\u001b[0m\n\u001b[0;32m----> 1\u001b[0m \u001b[43mtrain_cl\u001b[49m\u001b[43m(\u001b[49m\u001b[43mmodel\u001b[49m\u001b[43m,\u001b[49m\u001b[43m \u001b[49m\u001b[43m[\u001b[49m\u001b[38;5;28;43mlist\u001b[39;49m\u001b[43m(\u001b[49m\u001b[43mmnist_trainset\u001b[49m\u001b[43m)\u001b[49m\u001b[43m[\u001b[49m\u001b[43m:\u001b[49m\u001b[38;5;241;43m1000\u001b[39;49m\u001b[43m]\u001b[49m\u001b[43m]\u001b[49m\u001b[43m,\u001b[49m\u001b[43m \u001b[49m\u001b[43miters\u001b[49m\u001b[38;5;241;43m=\u001b[39;49m\u001b[38;5;241;43m10000\u001b[39;49m\u001b[43m,\u001b[49m\u001b[43m \u001b[49m\u001b[43mbatch_size\u001b[49m\u001b[38;5;241;43m=\u001b[39;49m\u001b[38;5;241;43m32\u001b[39;49m\u001b[43m)\u001b[49m\n",
      "File \u001b[0;32m~/Desktop/Academics/Fall 22/HML/Course Project/power-law-for-CI/train.py:71\u001b[0m, in \u001b[0;36mtrain_cl\u001b[0;34m(model, train_datasets, iters, batch_size, baseline, loss_cbs, eval_cbs, sample_cbs, context_cbs, generator, gen_iters, gen_loss_cbs, **kwargs)\u001b[0m\n\u001b[1;32m     66\u001b[0m     train_dataset \u001b[39m=\u001b[39m ConcatDataset(train_datasets[:context])\n\u001b[1;32m     68\u001b[0m dataloader \u001b[39m=\u001b[39m DataLoader(\n\u001b[1;32m     69\u001b[0m train_dataset, batch_size\u001b[39m=\u001b[39mbatch_size, shuffle\u001b[39m=\u001b[39m\u001b[39mTrue\u001b[39;00m)\n\u001b[0;32m---> 71\u001b[0m train(model, dataloader, iters, loss_cbs \u001b[39m=\u001b[39;49m loss_cbs, eval_cbs\u001b[39m=\u001b[39;49meval_cbs)\n\u001b[1;32m     72\u001b[0m \u001b[39m##----------> UPON FINISHING EACH CONTEXT...\u001b[39;00m\n\u001b[1;32m     73\u001b[0m \n\u001b[1;32m     74\u001b[0m \u001b[39m# Parameter regularization: update and compute the parameter importance estimates\u001b[39;00m\n\u001b[1;32m     75\u001b[0m \u001b[39mif\u001b[39;00m context\u001b[39m<\u001b[39m\u001b[39mlen\u001b[39m(train_datasets) \u001b[39mand\u001b[39;00m \u001b[39misinstance\u001b[39m(model, EWCModel):\n\u001b[1;32m     76\u001b[0m     \u001b[39m# -find allowed classes\u001b[39;00m\n",
      "File \u001b[0;32m~/Desktop/Academics/Fall 22/HML/Course Project/power-law-for-CI/train.py:29\u001b[0m, in \u001b[0;36mtrain\u001b[0;34m(model, train_loader, iters, loss_cbs, eval_cbs)\u001b[0m\n\u001b[1;32m     26\u001b[0m \u001b[39mfor\u001b[39;00m batch_idx, (data, y) \u001b[39min\u001b[39;00m \u001b[39menumerate\u001b[39m(train_loader):\n\u001b[1;32m     27\u001b[0m     \u001b[39m# Perform training-step on this batch\u001b[39;00m\n\u001b[1;32m     28\u001b[0m     data, y \u001b[39m=\u001b[39m data\u001b[39m.\u001b[39mto(device), y\u001b[39m.\u001b[39mto(device)\n\u001b[0;32m---> 29\u001b[0m     loss_dict \u001b[39m=\u001b[39m model\u001b[39m.\u001b[39;49mtrain_a_batch(data, y\u001b[39m=\u001b[39;49my)\n\u001b[1;32m     30\u001b[0m     y_hat \u001b[39m=\u001b[39m model(data)\n\u001b[1;32m     31\u001b[0m     acc\u001b[39m.\u001b[39mappend((y \u001b[39m==\u001b[39m y_hat\u001b[39m.\u001b[39mmax(\u001b[39m1\u001b[39m)[\u001b[39m1\u001b[39m])\u001b[39m.\u001b[39msum()\u001b[39m.\u001b[39mitem() \u001b[39m/\u001b[39m data\u001b[39m.\u001b[39msize(\u001b[39m0\u001b[39m))\n",
      "File \u001b[0;32m~/Desktop/Academics/Fall 22/HML/Course Project/power-law-for-CI/EWC_model.py:366\u001b[0m, in \u001b[0;36mClassifier.train_a_batch\u001b[0;34m(self, x, y, scores, x_, y_, scores_, rnt, active_classes, context, **kwargs)\u001b[0m\n\u001b[1;32m    360\u001b[0m     loss_total \u001b[39m+\u001b[39m\u001b[39m=\u001b[39m \u001b[39mself\u001b[39m\u001b[39m.\u001b[39mreg_strength \u001b[39m*\u001b[39m weight_penalty_loss\n\u001b[1;32m    363\u001b[0m \u001b[39m##--(4)-- COMPUTE (AND MANIPULATE) GRADIENTS --##\u001b[39;00m\n\u001b[1;32m    364\u001b[0m \n\u001b[1;32m    365\u001b[0m \u001b[39m# Backpropagate errors (for the part of the loss that has not yet been backpropagated)\u001b[39;00m\n\u001b[0;32m--> 366\u001b[0m loss_total\u001b[39m.\u001b[39;49mbackward()\n\u001b[1;32m    368\u001b[0m \u001b[39m# Precondition gradient of current data using projection matrix constructed from parameter importance estimates\u001b[39;00m\n\u001b[1;32m    369\u001b[0m \u001b[39mif\u001b[39;00m \u001b[39mself\u001b[39m\u001b[39m.\u001b[39mprecondition:\n",
      "File \u001b[0;32m~/opt/anaconda3/envs/hml_project/lib/python3.10/site-packages/torch/_tensor.py:487\u001b[0m, in \u001b[0;36mTensor.backward\u001b[0;34m(self, gradient, retain_graph, create_graph, inputs)\u001b[0m\n\u001b[1;32m    477\u001b[0m \u001b[39mif\u001b[39;00m has_torch_function_unary(\u001b[39mself\u001b[39m):\n\u001b[1;32m    478\u001b[0m     \u001b[39mreturn\u001b[39;00m handle_torch_function(\n\u001b[1;32m    479\u001b[0m         Tensor\u001b[39m.\u001b[39mbackward,\n\u001b[1;32m    480\u001b[0m         (\u001b[39mself\u001b[39m,),\n\u001b[0;32m   (...)\u001b[0m\n\u001b[1;32m    485\u001b[0m         inputs\u001b[39m=\u001b[39minputs,\n\u001b[1;32m    486\u001b[0m     )\n\u001b[0;32m--> 487\u001b[0m torch\u001b[39m.\u001b[39;49mautograd\u001b[39m.\u001b[39;49mbackward(\n\u001b[1;32m    488\u001b[0m     \u001b[39mself\u001b[39;49m, gradient, retain_graph, create_graph, inputs\u001b[39m=\u001b[39;49minputs\n\u001b[1;32m    489\u001b[0m )\n",
      "File \u001b[0;32m~/opt/anaconda3/envs/hml_project/lib/python3.10/site-packages/torch/autograd/__init__.py:197\u001b[0m, in \u001b[0;36mbackward\u001b[0;34m(tensors, grad_tensors, retain_graph, create_graph, grad_variables, inputs)\u001b[0m\n\u001b[1;32m    192\u001b[0m     retain_graph \u001b[39m=\u001b[39m create_graph\n\u001b[1;32m    194\u001b[0m \u001b[39m# The reason we repeat same the comment below is that\u001b[39;00m\n\u001b[1;32m    195\u001b[0m \u001b[39m# some Python versions print out the first line of a multi-line function\u001b[39;00m\n\u001b[1;32m    196\u001b[0m \u001b[39m# calls in the traceback and some print out the last line\u001b[39;00m\n\u001b[0;32m--> 197\u001b[0m Variable\u001b[39m.\u001b[39;49m_execution_engine\u001b[39m.\u001b[39;49mrun_backward(  \u001b[39m# Calls into the C++ engine to run the backward pass\u001b[39;49;00m\n\u001b[1;32m    198\u001b[0m     tensors, grad_tensors_, retain_graph, create_graph, inputs,\n\u001b[1;32m    199\u001b[0m     allow_unreachable\u001b[39m=\u001b[39;49m\u001b[39mTrue\u001b[39;49;00m, accumulate_grad\u001b[39m=\u001b[39;49m\u001b[39mTrue\u001b[39;49;00m)\n",
      "\u001b[0;31mKeyboardInterrupt\u001b[0m: "
     ]
    }
   ],
   "source": [
    "train_cl(model, [list(mnist_trainset)[:1000]], iters=10000, batch_size=32)"
   ]
  },
  {
   "cell_type": "code",
   "execution_count": null,
   "metadata": {},
   "outputs": [],
   "source": [
    "import torch.nn as nn\n",
    "input_layer = [] \n",
    "input_layer.append(nn.Linear(6, 1))\n",
    "input_layer.append(nn.Sigmoid())\n",
    "input_layer.append(nn.Linear(3, 5))\n",
    "input_layer.append(nn.Sigmoid())"
   ]
  },
  {
   "cell_type": "code",
   "execution_count": null,
   "metadata": {},
   "outputs": [],
   "source": []
  },
  {
   "cell_type": "code",
   "execution_count": null,
   "metadata": {},
   "outputs": [],
   "source": []
  }
 ],
 "metadata": {
  "kernelspec": {
   "display_name": "Python 3.10.8 ('hml_project')",
   "language": "python",
   "name": "python3"
  },
  "language_info": {
   "codemirror_mode": {
    "name": "ipython",
    "version": 3
   },
   "file_extension": ".py",
   "mimetype": "text/x-python",
   "name": "python",
   "nbconvert_exporter": "python",
   "pygments_lexer": "ipython3",
   "version": "3.10.8"
  },
  "orig_nbformat": 4,
  "vscode": {
   "interpreter": {
    "hash": "c06359541bab7741f5b8a7a51e0e45335cfb5c188357344206c64fc8f256a6c1"
   }
  }
 },
 "nbformat": 4,
 "nbformat_minor": 2
}
