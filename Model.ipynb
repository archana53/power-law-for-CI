{
  "nbformat": 4,
  "nbformat_minor": 0,
  "metadata": {
    "colab": {
      "provenance": []
    },
    "kernelspec": {
      "name": "python3",
      "display_name": "Python 3"
    },
    "accelerator": "GPU",
    "gpuClass": "standard",
    "widgets": {
      "application/vnd.jupyter.widget-state+json": {
        "4141a28a0ff04cd9a7d7b5e7e33fbb9e": {
          "model_module": "@jupyter-widgets/controls",
          "model_name": "HBoxModel",
          "model_module_version": "1.5.0",
          "state": {
            "_dom_classes": [],
            "_model_module": "@jupyter-widgets/controls",
            "_model_module_version": "1.5.0",
            "_model_name": "HBoxModel",
            "_view_count": null,
            "_view_module": "@jupyter-widgets/controls",
            "_view_module_version": "1.5.0",
            "_view_name": "HBoxView",
            "box_style": "",
            "children": [
              "IPY_MODEL_cffeb42761124983bf0bc4375bef4614",
              "IPY_MODEL_8c0f3bb2bc0e452b9437911fa93670a3",
              "IPY_MODEL_bc44e9a1e5d1456f8a53158c5f24be1d"
            ],
            "layout": "IPY_MODEL_5ec0dd6add8f493aa9733648a6e27303"
          }
        },
        "cffeb42761124983bf0bc4375bef4614": {
          "model_module": "@jupyter-widgets/controls",
          "model_name": "HTMLModel",
          "model_module_version": "1.5.0",
          "state": {
            "_dom_classes": [],
            "_model_module": "@jupyter-widgets/controls",
            "_model_module_version": "1.5.0",
            "_model_name": "HTMLModel",
            "_view_count": null,
            "_view_module": "@jupyter-widgets/controls",
            "_view_module_version": "1.5.0",
            "_view_name": "HTMLView",
            "description": "",
            "description_tooltip": null,
            "layout": "IPY_MODEL_c5091f8a53d840cdb8370d7c401780ab",
            "placeholder": "​",
            "style": "IPY_MODEL_c0141200aad845d391a061913ffc96aa",
            "value": "Epoch 2: 100%"
          }
        },
        "8c0f3bb2bc0e452b9437911fa93670a3": {
          "model_module": "@jupyter-widgets/controls",
          "model_name": "FloatProgressModel",
          "model_module_version": "1.5.0",
          "state": {
            "_dom_classes": [],
            "_model_module": "@jupyter-widgets/controls",
            "_model_module_version": "1.5.0",
            "_model_name": "FloatProgressModel",
            "_view_count": null,
            "_view_module": "@jupyter-widgets/controls",
            "_view_module_version": "1.5.0",
            "_view_name": "ProgressView",
            "bar_style": "success",
            "description": "",
            "description_tooltip": null,
            "layout": "IPY_MODEL_4a004439a3f941f3bdd486745395745d",
            "max": 600,
            "min": 0,
            "orientation": "horizontal",
            "style": "IPY_MODEL_f2ccc6764d884e0ba83f793bc4f3cdc9",
            "value": 600
          }
        },
        "bc44e9a1e5d1456f8a53158c5f24be1d": {
          "model_module": "@jupyter-widgets/controls",
          "model_name": "HTMLModel",
          "model_module_version": "1.5.0",
          "state": {
            "_dom_classes": [],
            "_model_module": "@jupyter-widgets/controls",
            "_model_module_version": "1.5.0",
            "_model_name": "HTMLModel",
            "_view_count": null,
            "_view_module": "@jupyter-widgets/controls",
            "_view_module_version": "1.5.0",
            "_view_name": "HTMLView",
            "description": "",
            "description_tooltip": null,
            "layout": "IPY_MODEL_850b05ac29eb48848256a995c5f8f9c5",
            "placeholder": "​",
            "style": "IPY_MODEL_16123c26841c410f96a9fd1ea0128b57",
            "value": " 600/600 [00:11&lt;00:00, 52.13it/s, loss=5.28, v_num=0]"
          }
        },
        "5ec0dd6add8f493aa9733648a6e27303": {
          "model_module": "@jupyter-widgets/base",
          "model_name": "LayoutModel",
          "model_module_version": "1.2.0",
          "state": {
            "_model_module": "@jupyter-widgets/base",
            "_model_module_version": "1.2.0",
            "_model_name": "LayoutModel",
            "_view_count": null,
            "_view_module": "@jupyter-widgets/base",
            "_view_module_version": "1.2.0",
            "_view_name": "LayoutView",
            "align_content": null,
            "align_items": null,
            "align_self": null,
            "border": null,
            "bottom": null,
            "display": "inline-flex",
            "flex": null,
            "flex_flow": "row wrap",
            "grid_area": null,
            "grid_auto_columns": null,
            "grid_auto_flow": null,
            "grid_auto_rows": null,
            "grid_column": null,
            "grid_gap": null,
            "grid_row": null,
            "grid_template_areas": null,
            "grid_template_columns": null,
            "grid_template_rows": null,
            "height": null,
            "justify_content": null,
            "justify_items": null,
            "left": null,
            "margin": null,
            "max_height": null,
            "max_width": null,
            "min_height": null,
            "min_width": null,
            "object_fit": null,
            "object_position": null,
            "order": null,
            "overflow": null,
            "overflow_x": null,
            "overflow_y": null,
            "padding": null,
            "right": null,
            "top": null,
            "visibility": null,
            "width": "100%"
          }
        },
        "c5091f8a53d840cdb8370d7c401780ab": {
          "model_module": "@jupyter-widgets/base",
          "model_name": "LayoutModel",
          "model_module_version": "1.2.0",
          "state": {
            "_model_module": "@jupyter-widgets/base",
            "_model_module_version": "1.2.0",
            "_model_name": "LayoutModel",
            "_view_count": null,
            "_view_module": "@jupyter-widgets/base",
            "_view_module_version": "1.2.0",
            "_view_name": "LayoutView",
            "align_content": null,
            "align_items": null,
            "align_self": null,
            "border": null,
            "bottom": null,
            "display": null,
            "flex": null,
            "flex_flow": null,
            "grid_area": null,
            "grid_auto_columns": null,
            "grid_auto_flow": null,
            "grid_auto_rows": null,
            "grid_column": null,
            "grid_gap": null,
            "grid_row": null,
            "grid_template_areas": null,
            "grid_template_columns": null,
            "grid_template_rows": null,
            "height": null,
            "justify_content": null,
            "justify_items": null,
            "left": null,
            "margin": null,
            "max_height": null,
            "max_width": null,
            "min_height": null,
            "min_width": null,
            "object_fit": null,
            "object_position": null,
            "order": null,
            "overflow": null,
            "overflow_x": null,
            "overflow_y": null,
            "padding": null,
            "right": null,
            "top": null,
            "visibility": null,
            "width": null
          }
        },
        "c0141200aad845d391a061913ffc96aa": {
          "model_module": "@jupyter-widgets/controls",
          "model_name": "DescriptionStyleModel",
          "model_module_version": "1.5.0",
          "state": {
            "_model_module": "@jupyter-widgets/controls",
            "_model_module_version": "1.5.0",
            "_model_name": "DescriptionStyleModel",
            "_view_count": null,
            "_view_module": "@jupyter-widgets/base",
            "_view_module_version": "1.2.0",
            "_view_name": "StyleView",
            "description_width": ""
          }
        },
        "4a004439a3f941f3bdd486745395745d": {
          "model_module": "@jupyter-widgets/base",
          "model_name": "LayoutModel",
          "model_module_version": "1.2.0",
          "state": {
            "_model_module": "@jupyter-widgets/base",
            "_model_module_version": "1.2.0",
            "_model_name": "LayoutModel",
            "_view_count": null,
            "_view_module": "@jupyter-widgets/base",
            "_view_module_version": "1.2.0",
            "_view_name": "LayoutView",
            "align_content": null,
            "align_items": null,
            "align_self": null,
            "border": null,
            "bottom": null,
            "display": null,
            "flex": "2",
            "flex_flow": null,
            "grid_area": null,
            "grid_auto_columns": null,
            "grid_auto_flow": null,
            "grid_auto_rows": null,
            "grid_column": null,
            "grid_gap": null,
            "grid_row": null,
            "grid_template_areas": null,
            "grid_template_columns": null,
            "grid_template_rows": null,
            "height": null,
            "justify_content": null,
            "justify_items": null,
            "left": null,
            "margin": null,
            "max_height": null,
            "max_width": null,
            "min_height": null,
            "min_width": null,
            "object_fit": null,
            "object_position": null,
            "order": null,
            "overflow": null,
            "overflow_x": null,
            "overflow_y": null,
            "padding": null,
            "right": null,
            "top": null,
            "visibility": null,
            "width": null
          }
        },
        "f2ccc6764d884e0ba83f793bc4f3cdc9": {
          "model_module": "@jupyter-widgets/controls",
          "model_name": "ProgressStyleModel",
          "model_module_version": "1.5.0",
          "state": {
            "_model_module": "@jupyter-widgets/controls",
            "_model_module_version": "1.5.0",
            "_model_name": "ProgressStyleModel",
            "_view_count": null,
            "_view_module": "@jupyter-widgets/base",
            "_view_module_version": "1.2.0",
            "_view_name": "StyleView",
            "bar_color": null,
            "description_width": ""
          }
        },
        "850b05ac29eb48848256a995c5f8f9c5": {
          "model_module": "@jupyter-widgets/base",
          "model_name": "LayoutModel",
          "model_module_version": "1.2.0",
          "state": {
            "_model_module": "@jupyter-widgets/base",
            "_model_module_version": "1.2.0",
            "_model_name": "LayoutModel",
            "_view_count": null,
            "_view_module": "@jupyter-widgets/base",
            "_view_module_version": "1.2.0",
            "_view_name": "LayoutView",
            "align_content": null,
            "align_items": null,
            "align_self": null,
            "border": null,
            "bottom": null,
            "display": null,
            "flex": null,
            "flex_flow": null,
            "grid_area": null,
            "grid_auto_columns": null,
            "grid_auto_flow": null,
            "grid_auto_rows": null,
            "grid_column": null,
            "grid_gap": null,
            "grid_row": null,
            "grid_template_areas": null,
            "grid_template_columns": null,
            "grid_template_rows": null,
            "height": null,
            "justify_content": null,
            "justify_items": null,
            "left": null,
            "margin": null,
            "max_height": null,
            "max_width": null,
            "min_height": null,
            "min_width": null,
            "object_fit": null,
            "object_position": null,
            "order": null,
            "overflow": null,
            "overflow_x": null,
            "overflow_y": null,
            "padding": null,
            "right": null,
            "top": null,
            "visibility": null,
            "width": null
          }
        },
        "16123c26841c410f96a9fd1ea0128b57": {
          "model_module": "@jupyter-widgets/controls",
          "model_name": "DescriptionStyleModel",
          "model_module_version": "1.5.0",
          "state": {
            "_model_module": "@jupyter-widgets/controls",
            "_model_module_version": "1.5.0",
            "_model_name": "DescriptionStyleModel",
            "_view_count": null,
            "_view_module": "@jupyter-widgets/base",
            "_view_module_version": "1.2.0",
            "_view_name": "StyleView",
            "description_width": ""
          }
        }
      }
    }
  },
  "cells": [
    {
      "cell_type": "code",
      "metadata": {
        "id": "wKutl_4oigXR"
      },
      "source": [
        "# from google.colab import drive\n",
        "# drive.mount('/content/drive')"
      ],
      "execution_count": 1,
      "outputs": []
    },
    {
      "cell_type": "code",
      "source": [
        "# !git clone https://github.com/archana53/power-law-for-CI.git"
      ],
      "metadata": {
        "id": "8Jww3GQUeYX9"
      },
      "execution_count": 2,
      "outputs": []
    },
    {
      "cell_type": "code",
      "source": [
        "# !pip install pytorch-lightning"
      ],
      "metadata": {
        "id": "baujg3n9_xzb"
      },
      "execution_count": null,
      "outputs": []
    },
    {
      "cell_type": "code",
      "source": [
        "# cd /content/power-law-for-CI"
      ],
      "metadata": {
        "colab": {
          "base_uri": "https://localhost:8080/"
        },
        "id": "CIdrivZP5caU",
        "outputId": "162a8705-140f-4bb7-f697-31daccc5187b"
      },
      "execution_count": 15,
      "outputs": [
        {
          "output_type": "stream",
          "name": "stdout",
          "text": [
            "/content/power-law-for-CI\n"
          ]
        }
      ]
    },
    {
      "cell_type": "code",
      "metadata": {
        "id": "NXqzSSrzbkw6"
      },
      "source": [
        "import numpy as np\n",
        "import matplotlib.pyplot as plt\n",
        "import pandas\n",
        "import torch\n",
        "from torch.nn import Linear, CrossEntropyLoss, Conv2d, Dropout\n",
        "from torch.nn.functional import relu, softmax, tanh\n",
        "import torch.nn.functional as F\n",
        "import torch.optim as optim\n",
        "from torchvision import datasets,transforms\n",
        "from torch.utils.data import DataLoader\n",
        "from torch.utils.data import Dataset\n",
        "from data_loading import permute_train_test_data\n",
        "from pytorch_lightning import LightningModule, Trainer\n",
        "from pytorch_lightning.callbacks.progress import TQDMProgressBar"
      ],
      "execution_count": 45,
      "outputs": []
    },
    {
      "cell_type": "code",
      "source": [
        "TRANSFORMS = [\n",
        "        transforms.Pad(2),\n",
        "        transforms.ToTensor(),\n",
        "    ]\n",
        "\n",
        "dataset_tranforms = transforms.Compose(TRANSFORMS)"
      ],
      "metadata": {
        "id": "q2cYXVSI7S4t"
      },
      "execution_count": 17,
      "outputs": []
    },
    {
      "cell_type": "code",
      "source": [
        "mnist_trainset = datasets.MNIST(root='./data', train=True, download=True, transform=dataset_tranforms)\n",
        "mnist_testset = datasets.MNIST(root='./data', train=False, download=True, transform=dataset_tranforms)"
      ],
      "metadata": {
        "id": "lZ-2fdpFadjw"
      },
      "execution_count": 18,
      "outputs": []
    },
    {
      "cell_type": "code",
      "source": [
        "training_permutations , test_permutations = permute_train_test_data(mnist_trainset,mnist_testset)"
      ],
      "metadata": {
        "id": "sLWGW06g7d1W"
      },
      "execution_count": 19,
      "outputs": []
    },
    {
      "cell_type": "code",
      "metadata": {
        "id": "uLuGG19J6QzO"
      },
      "source": [
        "class Net1(LightningModule):\n",
        "    def __init__(self, input_size, hidden_size, output_size):\n",
        "        super(Net1, self).__init__()\n",
        "        #FC Layers\n",
        "        self.fc1 = Linear(input_size, hidden_size)\n",
        "        self.fc2 = Linear(hidden_size, hidden_size)\n",
        "        self.fc3 = Linear(hidden_size, hidden_size)\n",
        "        self.fc4 = Linear(hidden_size, output_size)      \n",
        "\n",
        "        #DropOut Layers\n",
        "        self.dropout1 = Dropout(0.2)\n",
        "        self.dropout2 = Dropout(0.5)\n",
        "        self.dropout3 = Dropout(0.5)\n",
        "\n",
        "    def forward(self, data):\n",
        "\n",
        "        data = data.view(-1, input_size)\n",
        "        data = relu(self.fc1(data))\n",
        "        data = self.dropout1(data)\n",
        "\n",
        "        data = relu(self.fc2(data))\n",
        "        data = self.dropout2(data)\n",
        "\n",
        "        data = relu(self.fc3(data))\n",
        "        data = self.dropout3(data)\n",
        "\n",
        "        data = self.fc3(data)\n",
        "        return data\n",
        "\n",
        "    def training_step(self, batch, batch_nb):\n",
        "        x, y = batch\n",
        "        loss = F.cross_entropy(self(x), y)\n",
        "        return loss\n",
        "\n",
        "    def configure_optimizers(self):\n",
        "        return torch.optim.SGD(self.parameters(), lr=0.001)\n",
        "        "
      ],
      "execution_count": 48,
      "outputs": []
    },
    {
      "cell_type": "code",
      "source": [
        "if torch.cuda.is_available():\n",
        "  device = torch.device('cuda')\n",
        "else:\n",
        "  device = torch.device('cpu')"
      ],
      "metadata": {
        "id": "gVIJLkwNoBQh"
      },
      "execution_count": 21,
      "outputs": []
    },
    {
      "cell_type": "code",
      "source": [
        "input_size = 32*32\n",
        "hidden_size = 400 \n",
        "num_classes = 10\n",
        "num_epochs = 100\n",
        "batch_size = 100\n",
        "learning_rate = 0.001"
      ],
      "metadata": {
        "id": "fGIhGXAulTIJ"
      },
      "execution_count": 22,
      "outputs": []
    },
    {
      "cell_type": "code",
      "source": [
        "net = Net1(input_size, hidden_size, num_classes).to(device)\n",
        "optimizer = optim.SGD(net.parameters(), lr=learning_rate, momentum=0.9)\n",
        "loss_func = CrossEntropyLoss()\n",
        "train_loss = []\n",
        "val_loss = []"
      ],
      "metadata": {
        "id": "WruTpspXkZqV"
      },
      "execution_count": 29,
      "outputs": []
    },
    {
      "cell_type": "code",
      "source": [
        "for task in range(0, 10):\n",
        "  train_loader = torch.utils.data.DataLoader(dataset=training_permutations[task], batch_size=batch_size, shuffle=True)\n",
        "  test_loader = torch.utils.data.DataLoader(dataset=test_permutations[task], batch_size=batch_size, shuffle=False)\n",
        "  for epoch in range(num_epochs):\n",
        "      trainloss = 0.0\n",
        "      n_total_steps = len(train_loader)\n",
        "      net.train()\n",
        "      for i, (images, labels) in enumerate(train_loader):  \n",
        "          # print(images.shape)\n",
        "          images = images.to(device)\n",
        "          labels = labels.to(device)\n",
        "          outputs = net(images)\n",
        "          loss = loss_func(outputs, labels)\n",
        "          optimizer.zero_grad()\n",
        "          loss.backward()\n",
        "          optimizer.step() \n",
        "          #accumalting training loss for plotting\n",
        "          trainloss += loss.item()\n",
        "      train_loss.append(trainloss/n_total_steps)\n",
        "\n",
        "\n",
        "      net.eval()\n",
        "      with torch.no_grad():\n",
        "          n_correct = 0\n",
        "          n_samples = 0\n",
        "          valloss = 0.0\n",
        "          for images, labels in test_loader:\n",
        "              images = images.to(device)\n",
        "              labels = labels.to(device)\n",
        "              outputs = net(images)\n",
        "              loss = loss_func(outputs, labels)\n",
        "              valloss += loss.item()\n",
        "      val_loss.append(valloss/len(test_loader))    \n",
        "\n",
        "      if (epoch) % 5 == 0:\n",
        "              print (f'Task {task}, Epoch [{epoch+1}/{num_epochs}], Train Loss: {trainloss/n_total_steps:.4f} Validation Loss: {valloss/len(test_loader):.4f}')"
      ],
      "metadata": {
        "id": "U3y2WcSNkg5S"
      },
      "execution_count": null,
      "outputs": []
    },
    {
      "cell_type": "code",
      "metadata": {
        "id": "swSSBEzVbdJ4"
      },
      "source": [
        "# plt.figure(figsize=(10,10))\n",
        "\n",
        "# plt.subplot(2,1,1)\n",
        "# plt.plot(train_loss, label=\"Training Loss\")\n",
        "# plt.plot(val_loss, label=\"Validation Loss\")\n",
        "# plt.legend()\n",
        "\n",
        "# # plt.subplot(2,1,2)\n",
        "# # plt.plot(acc, label=\"Training Accuracy\")\n",
        "# # plt.plot(val_ac, label=\"Validation Accuracy\")\n",
        "# # plt.legend()\n",
        "\n",
        "# # plt.savefig(\"/content/drive/My Drive/\"+net.name+\".png\")"
      ],
      "execution_count": null,
      "outputs": []
    },
    {
      "cell_type": "code",
      "source": [
        "# mnist_model = Net1(input_size, hidden_size, num_classes).to(device)\n",
        "\n",
        "# # Init DataLoader from MNIST Dataset\n",
        "# train_loader = torch.utils.data.DataLoader(dataset=training_permutations[0], batch_size=batch_size, shuffle=True)\n",
        "# test_loader = torch.utils.data.DataLoader(dataset=test_permutations[0], batch_size=batch_size, shuffle=False)\n",
        "\n",
        "# # Initialize a trainer\n",
        "# trainer = Trainer(\n",
        "#     accelerator=\"auto\",\n",
        "#     devices=1 if torch.cuda.is_available() else None,  # limiting got iPython runs\n",
        "#     max_epochs=num_epochs,\n",
        "#     callbacks=[TQDMProgressBar(refresh_rate=20), EarlyStopping(monitor='val_loss', patience=5)],\n",
        "# )\n",
        "\n",
        "# # Train the model ⚡\n",
        "# trainer.fit(mnist_model, train_loader)"
      ],
      "metadata": {
        "colab": {
          "base_uri": "https://localhost:8080/",
          "height": 442,
          "referenced_widgets": [
            "4141a28a0ff04cd9a7d7b5e7e33fbb9e",
            "cffeb42761124983bf0bc4375bef4614",
            "8c0f3bb2bc0e452b9437911fa93670a3",
            "bc44e9a1e5d1456f8a53158c5f24be1d",
            "5ec0dd6add8f493aa9733648a6e27303",
            "c5091f8a53d840cdb8370d7c401780ab",
            "c0141200aad845d391a061913ffc96aa",
            "4a004439a3f941f3bdd486745395745d",
            "f2ccc6764d884e0ba83f793bc4f3cdc9",
            "850b05ac29eb48848256a995c5f8f9c5",
            "16123c26841c410f96a9fd1ea0128b57"
          ]
        },
        "id": "24-7kwtb9h8t",
        "outputId": "26eb8dd4-d666-4dd6-963f-e3bfb2ce17ce"
      },
      "execution_count": 49,
      "outputs": [
        {
          "output_type": "stream",
          "name": "stderr",
          "text": [
            "INFO:pytorch_lightning.utilities.rank_zero:GPU available: True (cuda), used: True\n",
            "INFO:pytorch_lightning.utilities.rank_zero:TPU available: False, using: 0 TPU cores\n",
            "INFO:pytorch_lightning.utilities.rank_zero:IPU available: False, using: 0 IPUs\n",
            "INFO:pytorch_lightning.utilities.rank_zero:HPU available: False, using: 0 HPUs\n",
            "WARNING:pytorch_lightning.loggers.tensorboard:Missing logger folder: /content/power-law-for-CI/lightning_logs\n",
            "INFO:pytorch_lightning.accelerators.cuda:LOCAL_RANK: 0 - CUDA_VISIBLE_DEVICES: [0]\n",
            "INFO:pytorch_lightning.callbacks.model_summary:\n",
            "  | Name     | Type    | Params\n",
            "-------------------------------------\n",
            "0 | fc1      | Linear  | 410 K \n",
            "1 | fc2      | Linear  | 160 K \n",
            "2 | fc3      | Linear  | 160 K \n",
            "3 | fc4      | Linear  | 4.0 K \n",
            "4 | dropout1 | Dropout | 0     \n",
            "5 | dropout2 | Dropout | 0     \n",
            "6 | dropout3 | Dropout | 0     \n",
            "-------------------------------------\n",
            "734 K     Trainable params\n",
            "0         Non-trainable params\n",
            "734 K     Total params\n",
            "2.939     Total estimated model params size (MB)\n"
          ]
        },
        {
          "output_type": "display_data",
          "data": {
            "text/plain": [
              "Training: 0it [00:00, ?it/s]"
            ],
            "application/vnd.jupyter.widget-view+json": {
              "version_major": 2,
              "version_minor": 0,
              "model_id": "4141a28a0ff04cd9a7d7b5e7e33fbb9e"
            }
          },
          "metadata": {}
        },
        {
          "output_type": "stream",
          "name": "stderr",
          "text": [
            "INFO:pytorch_lightning.utilities.rank_zero:`Trainer.fit` stopped: `max_epochs=3` reached.\n"
          ]
        }
      ]
    }
  ]
}