{
  "cells": [
    {
      "cell_type": "code",
      "execution_count": 1,
      "id": "5dd60fa2",
      "metadata": {
        "id": "5dd60fa2"
      },
      "outputs": [],
      "source": [
        "import pandas as pd\n",
        "import numpy as np\n",
        "import matplotlib.pyplot as plt\n",
        "import seaborn as sns\n",
        "import tensorflow as tf\n",
        "from sklearn import metrics\n",
        "%matplotlib inline"
      ]
    },
    {
      "cell_type": "markdown",
      "id": "57363196",
      "metadata": {
        "id": "57363196"
      },
      "source": [
        "## Get Dataset"
      ]
    },
    {
      "cell_type": "code",
      "execution_count": 2,
      "id": "c57464a6",
      "metadata": {
        "id": "c57464a6"
      },
      "outputs": [],
      "source": [
        "import tensorflow_datasets as tfds\n",
        "from tensorflow.keras.datasets import mnist"
      ]
    },
    {
      "cell_type": "code",
      "execution_count": null,
      "id": "7eef1359",
      "metadata": {
        "id": "7eef1359"
      },
      "outputs": [],
      "source": [
        "# (ds_train, ds_test), ds_info = tfds.load(\n",
        "#     'mnist',\n",
        "#     split=['train', 'test'],\n",
        "#     shuffle_files=True,\n",
        "#     as_supervised=True,\n",
        "#     with_info=True,\n",
        "# )"
      ]
    },
    {
      "cell_type": "code",
      "execution_count": null,
      "id": "0a0f13cc",
      "metadata": {
        "id": "0a0f13cc"
      },
      "outputs": [],
      "source": [
        "# def normalize_img(image, label):\n",
        "#   \"\"\"Normalizes images: `uint8` -> `float32`.\"\"\"\n",
        "#   return tf.cast(image, tf.float32) / 255., label\n",
        "\n",
        "# ds_train = ds_train.map(\n",
        "#     normalize_img, num_parallel_calls=tf.data.AUTOTUNE)\n",
        "# ds_train = ds_train.cache()\n",
        "# ds_train = ds_train.shuffle(ds_info.splits['train'].num_examples)\n",
        "# ds_train = ds_train.batch(128)\n",
        "# ds_train = ds_train.prefetch(tf.data.AUTOTUNE)"
      ]
    },
    {
      "cell_type": "code",
      "execution_count": null,
      "id": "dd34cecb",
      "metadata": {
        "id": "dd34cecb"
      },
      "outputs": [],
      "source": [
        "# ds_test = ds_test.map(\n",
        "#     normalize_img, num_parallel_calls=tf.data.AUTOTUNE)\n",
        "# ds_test = ds_test.batch(128)\n",
        "# ds_test = ds_test.cache()\n",
        "# ds_test = ds_test.prefetch(tf.data.AUTOTUNE)"
      ]
    },
    {
      "cell_type": "code",
      "execution_count": null,
      "id": "ed110df2",
      "metadata": {
        "id": "ed110df2"
      },
      "outputs": [],
      "source": [
        "(x_train, y_train), (x_test, y_test) = mnist.load_data()\n",
        "x_train = x_train/255.0\n",
        "x_test = x_test/255.0"
      ]
    },
    {
      "cell_type": "code",
      "execution_count": null,
      "id": "475ffbc0",
      "metadata": {
        "id": "475ffbc0"
      },
      "outputs": [],
      "source": [
        "plt.imshow(x_train[10], cmap = \"gray\")\n",
        "plt.show()"
      ]
    },
    {
      "cell_type": "markdown",
      "id": "b1964287",
      "metadata": {
        "id": "b1964287"
      },
      "source": [
        "## Custom Loss"
      ]
    },
    {
      "cell_type": "code",
      "execution_count": null,
      "id": "0cf1dc19",
      "metadata": {
        "id": "0cf1dc19"
      },
      "outputs": [],
      "source": [
        "# Might Need to implement the loss function defined in EWC\n",
        "def custom_loss_fn(y_true, y_pred):\n",
        "    squared_difference = tf.square(y_true - y_pred)\n",
        "    return tf.reduce_mean(squared_difference, axis=-1) "
      ]
    },
    {
      "cell_type": "markdown",
      "id": "65b2e05f",
      "metadata": {
        "id": "65b2e05f"
      },
      "source": [
        "## Model 1"
      ]
    },
    {
      "cell_type": "code",
      "execution_count": null,
      "id": "8ffa8b93",
      "metadata": {
        "id": "8ffa8b93"
      },
      "outputs": [],
      "source": [
        "model_1 = tf.keras.models.Sequential([\n",
        "  tf.keras.layers.Flatten(input_shape=(28, 28)),\n",
        "  tf.keras.layers.Dense(400, activation='relu'),\n",
        "  tf.keras.layers.Dense(400, activation='relu'),\n",
        "  tf.keras.layers.Dense(10, activation='softmax')\n",
        "])\n",
        "model_1.compile(\n",
        "    optimizer=tf.keras.optimizers.RMSprop(0.001),\n",
        "    loss=tf.keras.losses.SparseCategoricalCrossentropy(from_logits=True),\n",
        "    metrics=[tf.keras.metrics.SparseCategoricalAccuracy()],\n",
        ")\n",
        "model_1.fit(x_train, \n",
        "            y_train,\n",
        "            batch_size = 32,\n",
        "            epochs = 20,\n",
        "            verbose = True)"
      ]
    },
    {
      "cell_type": "markdown",
      "id": "19b35b6a",
      "metadata": {
        "id": "19b35b6a"
      },
      "source": [
        "## Model 2 - Range Hyperparameters"
      ]
    },
    {
      "cell_type": "code",
      "execution_count": null,
      "id": "88f3c3ad",
      "metadata": {
        "id": "88f3c3ad"
      },
      "outputs": [],
      "source": [
        "model_2 = tf.keras.models.Sequential([\n",
        "  tf.keras.layers.Flatten(input_shape=(28, 28)),\n",
        "  tf.keras.layers.Dropout(0.2),\n",
        "  tf.keras.layers.Dense(1000, activation='relu'),\n",
        "  tf.keras.layers.Dropout(0.5),\n",
        "  tf.keras.layers.Dense(1000, activation='relu'),\n",
        "  tf.keras.layers.Dropout(0.5),\n",
        "  tf.keras.layers.Dense(10, activation='softmax')\n",
        "])\n",
        "model_2.compile(\n",
        "    optimizer=tf.keras.optimizers.RMSprop(0.0001),\n",
        "    loss=tf.keras.losses.SparseCategoricalCrossentropy(from_logits=True),\n",
        "    metrics=[tf.keras.metrics.SparseCategoricalAccuracy()],\n",
        ")\n",
        "model_2.fit(x_train, \n",
        "            y_train,\n",
        "            batch_size = 32,\n",
        "            epochs = 100,\n",
        "            verbose = True\n",
        ")"
      ]
    },
    {
      "cell_type": "markdown",
      "id": "60a5f548",
      "metadata": {
        "id": "60a5f548"
      },
      "source": [
        "## Model 3"
      ]
    },
    {
      "cell_type": "code",
      "execution_count": null,
      "id": "cab2db53",
      "metadata": {
        "id": "cab2db53"
      },
      "outputs": [],
      "source": [
        "model_3 = tf.keras.models.Sequential([\n",
        "  tf.keras.layers.Flatten(input_shape=(28, 28)),\n",
        "  tf.keras.layers.Dense(100, activation='relu'),\n",
        "  tf.keras.layers.Dense(100, activation='relu'),\n",
        "  tf.keras.layers.Dense(100, activation='relu'),\n",
        "  tf.keras.layers.Dense(100, activation='relu'),\n",
        "  tf.keras.layers.Dense(100, activation='relu'),\n",
        "  tf.keras.layers.Dense(100, activation='relu'),\n",
        "  tf.keras.layers.Dense(10, activation='softmax')\n",
        "])\n",
        "model_3.compile(\n",
        "    optimizer=tf.keras.optimizers.RMSprop(0.001),\n",
        "    loss=tf.keras.losses.SparseCategoricalCrossentropy(from_logits=True),\n",
        "    metrics=[tf.keras.metrics.SparseCategoricalAccuracy()],\n",
        ")\n",
        "model_3.fit(x_train, \n",
        "            y_train,\n",
        "            batch_size = 32,\n",
        "            epochs = 100,\n",
        "            verbose = True\n",
        ")"
      ]
    },
    {
      "cell_type": "markdown",
      "id": "a72514b4",
      "metadata": {
        "id": "a72514b4"
      },
      "source": [
        "## Evaluation"
      ]
    },
    {
      "cell_type": "markdown",
      "id": "d16e2037",
      "metadata": {
        "id": "d16e2037"
      },
      "source": [
        "### Select Model"
      ]
    },
    {
      "cell_type": "code",
      "execution_count": null,
      "id": "de29b9f1",
      "metadata": {
        "id": "de29b9f1"
      },
      "outputs": [],
      "source": [
        "model = model_1"
      ]
    },
    {
      "cell_type": "markdown",
      "id": "f765bb9b",
      "metadata": {
        "id": "f765bb9b"
      },
      "source": [
        "### Get Fraction Correct Score"
      ]
    },
    {
      "cell_type": "code",
      "execution_count": null,
      "id": "f48c69bf",
      "metadata": {
        "id": "f48c69bf"
      },
      "outputs": [],
      "source": [
        "y_pred = model.predict(x_test)"
      ]
    },
    {
      "cell_type": "code",
      "execution_count": null,
      "id": "b538d3bb",
      "metadata": {
        "id": "b538d3bb"
      },
      "outputs": [],
      "source": [
        "y_pred = np.argmax(y_pred, axis=1)"
      ]
    },
    {
      "cell_type": "code",
      "execution_count": null,
      "id": "7f42f9ee",
      "metadata": {
        "id": "7f42f9ee"
      },
      "outputs": [],
      "source": [
        "print(y_pred.shape)\n",
        "print(y_test.shape)"
      ]
    },
    {
      "cell_type": "code",
      "execution_count": null,
      "id": "746fd038",
      "metadata": {
        "id": "746fd038"
      },
      "outputs": [],
      "source": [
        "print(y_pred)\n",
        "print(y_test)"
      ]
    },
    {
      "cell_type": "code",
      "execution_count": null,
      "id": "d659519e",
      "metadata": {
        "id": "d659519e"
      },
      "outputs": [],
      "source": [
        "print(metrics.accuracy_score(y_test, y_pred))"
      ]
    },
    {
      "cell_type": "code",
      "execution_count": null,
      "id": "8e2a6322",
      "metadata": {
        "id": "8e2a6322"
      },
      "outputs": [],
      "source": [
        "np.unique(y_train, return_counts=True)"
      ]
    },
    {
      "cell_type": "code",
      "execution_count": null,
      "id": "f22ea913",
      "metadata": {
        "id": "f22ea913"
      },
      "outputs": [],
      "source": [
        "!pip install torchvision"
      ]
    },
    {
      "cell_type": "markdown",
      "id": "94b773f4",
      "metadata": {
        "id": "94b773f4"
      },
      "source": [
        "# Training Environment"
      ]
    },
    {
      "cell_type": "code",
      "execution_count": 3,
      "id": "577dc8ad",
      "metadata": {
        "colab": {
          "base_uri": "https://localhost:8080/"
        },
        "id": "577dc8ad",
        "outputId": "c2d0e365-90b8-4d12-91a4-171b9b7e87e0"
      },
      "outputs": [
        {
          "name": "stdout",
          "output_type": "stream",
          "text": [
            "Downloading data from https://storage.googleapis.com/tensorflow/tf-keras-datasets/mnist.npz\n",
            "11490434/11490434 [==============================] - 0s 0us/step\n"
          ]
        }
      ],
      "source": [
        "(x_train, y_train), (x_test, y_test) = mnist.load_data()\n",
        "x_train = x_train/255.0\n",
        "x_test = x_test/255.0"
      ]
    },
    {
      "cell_type": "code",
      "execution_count": 4,
      "id": "919c06e3",
      "metadata": {
        "id": "919c06e3"
      },
      "outputs": [],
      "source": [
        "from torchvision import datasets,transforms"
      ]
    },
    {
      "cell_type": "markdown",
      "id": "DQhiuFH__B23",
      "metadata": {
        "id": "DQhiuFH__B23"
      },
      "source": [
        "## Data_loading module"
      ]
    },
    {
      "cell_type": "code",
      "execution_count": 5,
      "id": "x1Bl1M5h_FZL",
      "metadata": {
        "id": "x1Bl1M5h_FZL"
      },
      "outputs": [],
      "source": [
        "import numpy as np\n",
        "from torchvision import datasets,transforms\n",
        "from torch.utils.data import Dataset\n",
        "\n",
        "\n",
        "def permutate_image_pixels(image, permutation):\n",
        "    '''Permutate the pixels of an image according to [permutation].\n",
        "    [image]         3D-tensor containing the image\n",
        "    [permutation]   <ndarray> of pixel-indeces in their new order'''\n",
        "\n",
        "    if permutation is None:\n",
        "        return image\n",
        "    else:\n",
        "        c, h, w = image.size()\n",
        "        image = image.view(c, -1)\n",
        "        image = image[:, permutation[1]]  #--> same permutation for each channel\n",
        "        image = image.view(c, h, w)\n",
        "        return image\n",
        "\n",
        "class TransformedDataset(Dataset):\n",
        "    '''To modify an existing dataset with a transform.\n",
        "    This is useful for creating different permutations of MNIST without loading the data multiple times.'''\n",
        "\n",
        "    def __init__(self, original_dataset, transform=None, target_transform=None):\n",
        "        super().__init__()\n",
        "        self.dataset = original_dataset\n",
        "        self.transform = transform\n",
        "        self.target_transform = target_transform\n",
        "\n",
        "    def __len__(self):\n",
        "        return len(self.dataset)\n",
        "\n",
        "    def __getitem__(self, index):\n",
        "        (input, target) = self.dataset[index]\n",
        "        if self.transform:\n",
        "            input = self.transform(input)\n",
        "        if self.target_transform:\n",
        "            target = self.target_transform(target)\n",
        "        return (input, target)\n",
        "\n",
        "def permute_train_test_data(mnist_trainset, mnist_testset) :\n",
        "        # get train and test datasets\n",
        "        # generate pixel-permutations\n",
        "        permutations = [np.random.permutation(32**2) for _ in range(10)]\n",
        "        # specify transformed datasets per context\n",
        "        train_datasets = []\n",
        "        test_datasets = []\n",
        "        for perm in enumerate(permutations):\n",
        "            target_transform = None\n",
        "            train_datasets.append(TransformedDataset(\n",
        "                mnist_trainset, transform=transforms.Lambda(lambda x, p=perm: permutate_image_pixels(x, p)),\n",
        "                target_transform=target_transform\n",
        "            ))\n",
        "            test_datasets.append(TransformedDataset(\n",
        "                mnist_testset, transform=transforms.Lambda(lambda x, p=perm: permutate_image_pixels(x, p)),\n",
        "                target_transform=target_transform\n",
        "            ))\n",
        "\n",
        "        return train_datasets, test_datasets\n",
        "\n",
        "\n",
        "\n"
      ]
    },
    {
      "cell_type": "markdown",
      "id": "CZeUiYFLCdJJ",
      "metadata": {
        "id": "CZeUiYFLCdJJ"
      },
      "source": [
        "## Data Loading, Transformations and Permutation"
      ]
    },
    {
      "cell_type": "code",
      "execution_count": 6,
      "id": "e7448446",
      "metadata": {
        "id": "e7448446"
      },
      "outputs": [],
      "source": [
        "dataset_tranforms = transforms.Compose([\n",
        "        transforms.Pad(2),\n",
        "        transforms.ToTensor(),\n",
        "    ]\n",
        ")"
      ]
    },
    {
      "cell_type": "code",
      "execution_count": 7,
      "id": "ca1c3d46",
      "metadata": {
        "colab": {
          "base_uri": "https://localhost:8080/",
          "height": 431,
          "referenced_widgets": [
            "385d168ca33d43d98896bdac3a468da6",
            "ea55657940844546b168997ef4e28a63",
            "e268500c69a94e06a126969f1dccbcd5",
            "3e743e6b8dd84a37b68a36311e0d6b1a",
            "736ca0468dbc46048440cd079f143267",
            "7d47e2ac30c54320b60828a7a3fa2b25",
            "bedcfb98613f4f018747bf3cc1e17fd6",
            "aa4a3b8a59e04e719f14fab5f868bb32",
            "f2834fb487374cc3badf2061d1f2471f",
            "6b3f78bdcafb4411a4c652b29db7387c",
            "8e58143e65624bd2849ae65b5698c4bc",
            "79d3601f8d304faeb3bbac3592808816",
            "a76ca7777fa04049b12560a730e8d93d",
            "7aee10856ac84c0cabd92dd05197b4a2",
            "88ae24b80af04ce69cd898a2e0d7ed93",
            "8bbfb805377e4d0bb276135a799e50e5",
            "152243e97a3343ecbcc69a82ecfc4778",
            "c8735dd1390746f28423e3e1f1b65e91",
            "20c9240485124a7bb9a1bcc3043996a9",
            "8a172c4b7a484df78ade5c55fbb8dd80",
            "9088dda35c534bc7a15d6494d6ee8a7a",
            "de2e90bfefab49518f028bbc9a9d8ec7",
            "edb91f02915647fdbca84ffd1a5df05c",
            "094533eb14b9428f80bb80f5e6e19267",
            "aad21e8b749e409ca9db274893db4c4d",
            "1ded49ac47f34ce7ba9ca369023f34cb",
            "2cbc995637c94902b2c83a3efd6c4978",
            "2f4a4368fd4f4367af6a9e65e87c5bb1",
            "ea449dc692bd46c4b16c4c6f23d6c572",
            "43d95faff5c6441c8173035de4df7535",
            "dbfffd9978ae40bba7cd0fbb066c7759",
            "52a552f64aa94009b9bf0319bd53f161",
            "1937cd5880784145ac451417834cfc21",
            "7c202ea3db624b7591f9a6025c441b99",
            "edab36824e2240af923ac7c83dfaf276",
            "bab29052c3de45d4baa5b13cc23a9794",
            "b0cea3905aa64ed18e8d7b3d490f0c79",
            "d679cd8bddf2457494bbde3b865581bc",
            "a05a2fef440f4691b17e003772eeef86",
            "8579fbd1a65545dfa4f2f59907e614e0",
            "22bbffc08b4445e8bec99348f3efe20a",
            "af2919320c2e43f3b3c26dd4643e49a9",
            "1c1a415bf8a6473c971ebd74a1ab81e6",
            "96706252e3904a44b127e82f48377352"
          ]
        },
        "id": "ca1c3d46",
        "outputId": "466ba12a-c8e3-4b46-aea4-9154737015ef"
      },
      "outputs": [
        {
          "name": "stdout",
          "output_type": "stream",
          "text": [
            "Downloading http://yann.lecun.com/exdb/mnist/train-images-idx3-ubyte.gz\n",
            "Downloading http://yann.lecun.com/exdb/mnist/train-images-idx3-ubyte.gz to ./data/MNIST/raw/train-images-idx3-ubyte.gz\n"
          ]
        },
        {
          "data": {
            "application/vnd.jupyter.widget-view+json": {
              "model_id": "385d168ca33d43d98896bdac3a468da6",
              "version_major": 2,
              "version_minor": 0
            },
            "text/plain": [
              "  0%|          | 0/9912422 [00:00<?, ?it/s]"
            ]
          },
          "metadata": {},
          "output_type": "display_data"
        },
        {
          "name": "stdout",
          "output_type": "stream",
          "text": [
            "Extracting ./data/MNIST/raw/train-images-idx3-ubyte.gz to ./data/MNIST/raw\n",
            "\n",
            "Downloading http://yann.lecun.com/exdb/mnist/train-labels-idx1-ubyte.gz\n",
            "Downloading http://yann.lecun.com/exdb/mnist/train-labels-idx1-ubyte.gz to ./data/MNIST/raw/train-labels-idx1-ubyte.gz\n"
          ]
        },
        {
          "data": {
            "application/vnd.jupyter.widget-view+json": {
              "model_id": "79d3601f8d304faeb3bbac3592808816",
              "version_major": 2,
              "version_minor": 0
            },
            "text/plain": [
              "  0%|          | 0/28881 [00:00<?, ?it/s]"
            ]
          },
          "metadata": {},
          "output_type": "display_data"
        },
        {
          "name": "stdout",
          "output_type": "stream",
          "text": [
            "Extracting ./data/MNIST/raw/train-labels-idx1-ubyte.gz to ./data/MNIST/raw\n",
            "\n",
            "Downloading http://yann.lecun.com/exdb/mnist/t10k-images-idx3-ubyte.gz\n",
            "Downloading http://yann.lecun.com/exdb/mnist/t10k-images-idx3-ubyte.gz to ./data/MNIST/raw/t10k-images-idx3-ubyte.gz\n"
          ]
        },
        {
          "data": {
            "application/vnd.jupyter.widget-view+json": {
              "model_id": "edb91f02915647fdbca84ffd1a5df05c",
              "version_major": 2,
              "version_minor": 0
            },
            "text/plain": [
              "  0%|          | 0/1648877 [00:00<?, ?it/s]"
            ]
          },
          "metadata": {},
          "output_type": "display_data"
        },
        {
          "name": "stdout",
          "output_type": "stream",
          "text": [
            "Extracting ./data/MNIST/raw/t10k-images-idx3-ubyte.gz to ./data/MNIST/raw\n",
            "\n",
            "Downloading http://yann.lecun.com/exdb/mnist/t10k-labels-idx1-ubyte.gz\n",
            "Downloading http://yann.lecun.com/exdb/mnist/t10k-labels-idx1-ubyte.gz to ./data/MNIST/raw/t10k-labels-idx1-ubyte.gz\n"
          ]
        },
        {
          "data": {
            "application/vnd.jupyter.widget-view+json": {
              "model_id": "7c202ea3db624b7591f9a6025c441b99",
              "version_major": 2,
              "version_minor": 0
            },
            "text/plain": [
              "  0%|          | 0/4542 [00:00<?, ?it/s]"
            ]
          },
          "metadata": {},
          "output_type": "display_data"
        },
        {
          "name": "stdout",
          "output_type": "stream",
          "text": [
            "Extracting ./data/MNIST/raw/t10k-labels-idx1-ubyte.gz to ./data/MNIST/raw\n",
            "\n"
          ]
        }
      ],
      "source": [
        "mnist_trainset = datasets.MNIST(root='./data', train=True, download=True, transform=dataset_tranforms)\n",
        "mnist_testset = datasets.MNIST(root='./data', train=False, download=True, transform=dataset_tranforms)"
      ]
    },
    {
      "cell_type": "code",
      "execution_count": 8,
      "id": "00e3dc09",
      "metadata": {
        "id": "00e3dc09"
      },
      "outputs": [],
      "source": [
        "training_permutations , test_permutations = permute_train_test_data((mnist_trainset),\n",
        "                                                                    (mnist_testset))"
      ]
    },
    {
      "cell_type": "markdown",
      "id": "OIhma_AjCklF",
      "metadata": {
        "id": "OIhma_AjCklF"
      },
      "source": [
        "## Power Law Sampling "
      ]
    },
    {
      "cell_type": "code",
      "execution_count": 9,
      "id": "6cde2e8f",
      "metadata": {
        "id": "6cde2e8f"
      },
      "outputs": [],
      "source": [
        "power_law_sampling = [57927,\n",
        "44078,\n",
        "33969,\n",
        "26483,\n",
        "20867,\n",
        "16603,\n",
        "13329,\n",
        "10790,\n",
        "8802,\n",
        "7232,\n",
        "5981,\n",
        "4978,\n",
        "4167,\n",
        "3508,\n",
        "2968,\n",
        "2523,\n",
        "2155,\n",
        "1849,\n",
        "1592,\n",
        "1377,\n",
        "1195]\n",
        "MAX_TASK_EXAMPLES = 57927\n",
        "MIN_TASK_EXAMPLES = 1195\n",
        "NUM_TASKS = 10"
      ]
    },
    {
      "cell_type": "code",
      "execution_count": 10,
      "id": "3244c657",
      "metadata": {
        "colab": {
          "base_uri": "https://localhost:8080/",
          "height": 285
        },
        "id": "3244c657",
        "outputId": "b828d83d-8953-4801-df11-138285d46093"
      },
      "outputs": [
        {
          "data": {
            "text/plain": [
              "[<matplotlib.lines.Line2D at 0x7fda4d1c8750>]"
            ]
          },
          "execution_count": 10,
          "metadata": {},
          "output_type": "execute_result"
        },
        {
          "data": {
            "image/png": "[encoded data removed]",
            "text/plain": [
              "<Figure size 432x288 with 1 Axes>"
            ]
          },
          "metadata": {
            "needs_background": "light"
          },
          "output_type": "display_data"
        }
      ],
      "source": [
        "plt.plot([*range(20,41,1)], power_law_sampling)"
      ]
    },
    {
      "cell_type": "code",
      "execution_count": 11,
      "id": "cad79c17",
      "metadata": {
        "colab": {
          "base_uri": "https://localhost:8080/",
          "height": 299
        },
        "id": "cad79c17",
        "outputId": "2b01f3bf-7c2c-4995-b113-c46dd67fc8a7"
      },
      "outputs": [
        {
          "data": {
            "text/plain": [
              "Text(0.5, 1.0, 'LOG-LOG Plot')"
            ]
          },
          "execution_count": 11,
          "metadata": {},
          "output_type": "execute_result"
        },
        {
          "data": {
            "image/png": "[encoded data removed]",
            "text/plain": [
              "<Figure size 432x288 with 1 Axes>"
            ]
          },
          "metadata": {
            "needs_background": "light"
          },
          "output_type": "display_data"
        }
      ],
      "source": [
        "plt.plot(np.log2([*range(20,41,1)]), np.log2(power_law_sampling))\n",
        "plt.title(\"LOG-LOG Plot\")"
      ]
    },
    {
      "cell_type": "markdown",
      "id": "ac585afc",
      "metadata": {
        "id": "ac585afc"
      },
      "source": [
        "## Skip Alternate Policy"
      ]
    },
    {
      "cell_type": "code",
      "execution_count": 12,
      "id": "44e0a7a1",
      "metadata": {
        "colab": {
          "base_uri": "https://localhost:8080/"
        },
        "id": "44e0a7a1",
        "outputId": "dcd278a4-e40e-4c5a-c142-7201e5a8e6a4"
      },
      "outputs": [
        {
          "data": {
            "text/plain": [
              "[57927, 33969, 20867, 13329, 8802, 5981, 4167, 2968, 2155, 1592]"
            ]
          },
          "execution_count": 12,
          "metadata": {},
          "output_type": "execute_result"
        }
      ],
      "source": [
        "freq_vector = []\n",
        "for idx in range(0,20,2):\n",
        "    freq_vector.append(power_law_sampling[idx])\n",
        "freq_vector"
      ]
    },
    {
      "cell_type": "code",
      "execution_count": 13,
      "id": "02bbc057",
      "metadata": {
        "id": "02bbc057"
      },
      "outputs": [],
      "source": [
        "phase_task_freq_count = np.zeros((NUM_TASKS,NUM_TASKS)) \n",
        "for row in range(NUM_TASKS):\n",
        "    phase_task_freq_count[row,:]+=freq_vector\n",
        "    freq_vector.insert(0, 0)\n",
        "    freq_vector.pop()"
      ]
    },
    {
      "cell_type": "code",
      "execution_count": 14,
      "id": "8968a64a",
      "metadata": {
        "colab": {
          "base_uri": "https://localhost:8080/"
        },
        "id": "8968a64a",
        "outputId": "e43a242a-11c9-4904-e38e-6ee0b57753de"
      },
      "outputs": [
        {
          "data": {
            "text/plain": [
              "array([[57927., 33969., 20867., 13329.,  8802.,  5981.,  4167.,  2968.,\n",
              "         2155.,  1592.],\n",
              "       [    0., 57927., 33969., 20867., 13329.,  8802.,  5981.,  4167.,\n",
              "         2968.,  2155.],\n",
              "       [    0.,     0., 57927., 33969., 20867., 13329.,  8802.,  5981.,\n",
              "         4167.,  2968.],\n",
              "       [    0.,     0.,     0., 57927., 33969., 20867., 13329.,  8802.,\n",
              "         5981.,  4167.],\n",
              "       [    0.,     0.,     0.,     0., 57927., 33969., 20867., 13329.,\n",
              "         8802.,  5981.],\n",
              "       [    0.,     0.,     0.,     0.,     0., 57927., 33969., 20867.,\n",
              "        13329.,  8802.],\n",
              "       [    0.,     0.,     0.,     0.,     0.,     0., 57927., 33969.,\n",
              "        20867., 13329.],\n",
              "       [    0.,     0.,     0.,     0.,     0.,     0.,     0., 57927.,\n",
              "        33969., 20867.],\n",
              "       [    0.,     0.,     0.,     0.,     0.,     0.,     0.,     0.,\n",
              "        57927., 33969.],\n",
              "       [    0.,     0.,     0.,     0.,     0.,     0.,     0.,     0.,\n",
              "            0., 57927.]])"
            ]
          },
          "execution_count": 14,
          "metadata": {},
          "output_type": "execute_result"
        }
      ],
      "source": [
        "phase_task_freq_count"
      ]
    },
    {
      "cell_type": "code",
      "execution_count": 15,
      "id": "9b303081",
      "metadata": {
        "colab": {
          "base_uri": "https://localhost:8080/"
        },
        "id": "9b303081",
        "outputId": "81e43b50-d247-485d-cd42-a340fd302694"
      },
      "outputs": [
        {
          "data": {
            "text/plain": [
              "array([[1.        , 0.36964612, 0.18505183, 0.10570853, 0.06525123,\n",
              "        0.04245608, 0.02872961, 0.0200527 , 0.01435088, 0.01049046],\n",
              "       [0.        , 0.63035388, 0.30124243, 0.16549028, 0.09881092,\n",
              "        0.06248092, 0.04123633, 0.0281535 , 0.01976493, 0.01420033],\n",
              "       [0.        , 0.        , 0.51370574, 0.26939853, 0.15469183,\n",
              "        0.09461579, 0.06068587, 0.04040943, 0.02774948, 0.01955758],\n",
              "       [0.        , 0.        , 0.        , 0.45940266, 0.25181995,\n",
              "        0.14812422, 0.09189752, 0.05946895, 0.03982952, 0.02745837],\n",
              "       [0.        , 0.        , 0.        , 0.        , 0.42942607,\n",
              "        0.24112866, 0.14386867, 0.09005473, 0.05861552, 0.03941169],\n",
              "       [0.        , 0.        , 0.        , 0.        , 0.        ,\n",
              "        0.41119432, 0.23420113, 0.14098372, 0.08876236, 0.05800062],\n",
              "       [0.        , 0.        , 0.        , 0.        , 0.        ,\n",
              "        0.        , 0.39938087, 0.22950476, 0.13896048, 0.0878312 ],\n",
              "       [0.        , 0.        , 0.        , 0.        , 0.        ,\n",
              "        0.        , 0.        , 0.3913722 , 0.22621117, 0.13750272],\n",
              "       [0.        , 0.        , 0.        , 0.        , 0.        ,\n",
              "        0.        , 0.        , 0.        , 0.38575567, 0.22383811],\n",
              "       [0.        , 0.        , 0.        , 0.        , 0.        ,\n",
              "        0.        , 0.        , 0.        , 0.        , 0.38170892]])"
            ]
          },
          "execution_count": 15,
          "metadata": {},
          "output_type": "execute_result"
        }
      ],
      "source": [
        "phase_task_freq_frac=phase_task_freq_count/np.sum(phase_task_freq_count, axis=0)\n",
        "phase_task_freq_frac"
      ]
    },
    {
      "cell_type": "markdown",
      "id": "SvV1uPTs_UcQ",
      "metadata": {
        "id": "SvV1uPTs_UcQ"
      },
      "source": [
        "### Creating Unified Testing Dataset for each phase"
      ]
    },
    {
      "cell_type": "code",
      "execution_count": 16,
      "id": "Ua6Wprh3AA-O",
      "metadata": {
        "id": "Ua6Wprh3AA-O"
      },
      "outputs": [],
      "source": [
        "from torch.utils.data import ConcatDataset\n",
        "import torch"
      ]
    },
    {
      "cell_type": "markdown",
      "id": "DzLTXE1fvEwh",
      "metadata": {
        "id": "DzLTXE1fvEwh"
      },
      "source": [
        "### Power Law Distirbuted Training Environment"
      ]
    },
    {
      "cell_type": "code",
      "execution_count": 17,
      "id": "evduXvB6-lDo",
      "metadata": {
        "id": "evduXvB6-lDo"
      },
      "outputs": [],
      "source": [
        "training_environments = []\n",
        "np.random.seed(10)\n",
        "MAX_TASK_EXAMPLES = 60000\n",
        "# NUM_PHASES = NUM_TASKS\n",
        "for phase in range(NUM_TASKS): \n",
        "    phase_training = []\n",
        "    for task in range(NUM_TASKS):\n",
        "        num_ele_to_pick = phase_task_freq_count[task,phase]\n",
        "        selected_indices = np.random.choice([*range(int(MAX_TASK_EXAMPLES)+1)], int(num_ele_to_pick), replace=False)\n",
        "        task_subset = torch.utils.data.Subset(training_permutations[task], selected_indices)\n",
        "        phase_training.append(task_subset)\n",
        "    final_phase_dataset = ConcatDataset(phase_training)\n",
        "    training_environments.append(final_phase_dataset)\n"
      ]
    },
    {
      "cell_type": "code",
      "execution_count": 18,
      "id": "31376bc9",
      "metadata": {
        "colab": {
          "base_uri": "https://localhost:8080/",
          "height": 771
        },
        "id": "31376bc9",
        "outputId": "a570d58f-7718-4b38-ee6a-ad8d385743c0"
      },
      "outputs": [
        {
          "name": "stdout",
          "output_type": "stream",
          "text": [
            "10\n",
            "Training environment size for task  1 is : 57927\n",
            "Training environment size for task  2 is : 91896\n",
            "Training environment size for task  3 is : 112763\n",
            "Training environment size for task  4 is : 126092\n",
            "Training environment size for task  5 is : 134894\n",
            "Training environment size for task  6 is : 140875\n",
            "Training environment size for task  7 is : 145042\n",
            "Training environment size for task  8 is : 148010\n",
            "Training environment size for task  9 is : 150165\n",
            "Training environment size for task  10 is : 151757\n"
          ]
        },
        {
          "data": {
            "image/png": "[encoded data removed]",
            "text/plain": [
              "<Figure size 720x720 with 10 Axes>"
            ]
          },
          "metadata": {
            "needs_background": "light"
          },
          "output_type": "display_data"
        }
      ],
      "source": [
        "print(len(training_environments))\n",
        "figure = plt.figure(figsize=(10, 10))\n",
        "cols, rows = 2, 5\n",
        "for i in range(1,NUM_TASKS+1):\n",
        "  print(\"Training environment size for task \", i , \"is :\", len(training_environments[i-1]))\n",
        "  img, label = training_permutations[i-1][0]\n",
        "  figure.add_subplot(rows, cols, i)\n",
        "  plt.axis(\"off\")\n",
        "  plt.imshow(img.squeeze(), cmap=\"gray\")\n",
        "plt.show()"
      ]
    },
    {
      "cell_type": "code",
      "execution_count": 21,
      "id": "LxQWE6PSBaoO",
      "metadata": {
        "colab": {
          "base_uri": "https://localhost:8080/",
          "height": 266
        },
        "id": "LxQWE6PSBaoO",
        "outputId": "8d98960d-e3df-4c0c-bcc9-84b3efca065f"
      },
      "outputs": [
        {
          "data": {
            "text/plain": [
              "<matplotlib.image.AxesImage at 0x7fda4a49a6d0>"
            ]
          },
          "execution_count": 21,
          "metadata": {},
          "output_type": "execute_result"
        },
        {
          "data": {
            "image/png": "[encoded data removed]",
            "text/plain": [
              "<Figure size 432x288 with 1 Axes>"
            ]
          },
          "metadata": {
            "needs_background": "light"
          },
          "output_type": "display_data"
        }
      ],
      "source": [
        "img, label = training_permutations[1][0]\n",
        "plt.axis(\"off\")\n",
        "plt.imshow(img.squeeze(), cmap=\"gray\")"
      ]
    },
    {
      "cell_type": "markdown",
      "id": "zhTIsEYuvMW_",
      "metadata": {
        "id": "zhTIsEYuvMW_"
      },
      "source": [
        "### SGD (Lower Baseline) Training Environment"
      ]
    },
    {
      "cell_type": "code",
      "execution_count": 25,
      "id": "6f0f62b6",
      "metadata": {
        "id": "6f0f62b6"
      },
      "outputs": [],
      "source": [
        "SGD_training_environments = []\n",
        "np.random.seed(10)\n",
        "MAX_TASK_EXAMPLES = 60000\n",
        "# NUM_PHASES = NUM_TASKS\n",
        "num_ele_to_pick = phase_task_freq_count[0,0] # to select only new task uniformly \n",
        "for phase in range(NUM_TASKS): \n",
        "    phase_training = []\n",
        "    selected_indices = np.random.choice([*range(int(MAX_TASK_EXAMPLES)+1)], int(num_ele_to_pick), replace=False)\n",
        "    new_task = phase # only new task for each phase\n",
        "    task_subset = torch.utils.data.Subset(training_permutations[new_task], selected_indices)\n",
        "    phase_training.append(task_subset)\n",
        "    final_phase_dataset = ConcatDataset(phase_training)\n",
        "    SGD_training_environments.append(final_phase_dataset)"
      ]
    },
    {
      "cell_type": "code",
      "execution_count": 26,
      "id": "0ru8tRuUyRzc",
      "metadata": {
        "colab": {
          "base_uri": "https://localhost:8080/",
          "height": 771
        },
        "id": "0ru8tRuUyRzc",
        "outputId": "26315619-03fa-4bcb-82f5-f5c03af595a7"
      },
      "outputs": [
        {
          "name": "stdout",
          "output_type": "stream",
          "text": [
            "10\n",
            "Training environment size for task  1 is : 57927\n",
            "Training environment size for task  2 is : 57927\n",
            "Training environment size for task  3 is : 57927\n",
            "Training environment size for task  4 is : 57927\n",
            "Training environment size for task  5 is : 57927\n",
            "Training environment size for task  6 is : 57927\n",
            "Training environment size for task  7 is : 57927\n",
            "Training environment size for task  8 is : 57927\n",
            "Training environment size for task  9 is : 57927\n",
            "Training environment size for task  10 is : 57927\n"
          ]
        },
        {
          "data": {
            "image/png": "[encoded data removed]",
            "text/plain": [
              "<Figure size 720x720 with 10 Axes>"
            ]
          },
          "metadata": {
            "needs_background": "light"
          },
          "output_type": "display_data"
        }
      ],
      "source": [
        "print(len(SGD_training_environments))\n",
        "figure = plt.figure(figsize=(10, 10))\n",
        "cols, rows = 2, 5\n",
        "for i in range(1,NUM_TASKS+1):\n",
        "  print(\"Training environment size for task \", i , \"is :\", len(SGD_training_environments[i-1]))\n",
        "  img, label = training_permutations[i-1][0]\n",
        "  figure.add_subplot(rows, cols, i)\n",
        "  plt.axis(\"off\")\n",
        "  plt.imshow(img.squeeze(), cmap=\"gray\")\n",
        "plt.show()"
      ]
    },
    {
      "cell_type": "markdown",
      "id": "6W_ng5B1yikQ",
      "metadata": {
        "id": "6W_ng5B1yikQ"
      },
      "source": [
        "### Upper Baseline Training Environment"
      ]
    },
    {
      "cell_type": "code",
      "execution_count": 27,
      "id": "lUKbIlfFySLL",
      "metadata": {
        "id": "lUKbIlfFySLL"
      },
      "outputs": [],
      "source": [
        "UBL_training_environments = []\n",
        "np.random.seed(10)\n",
        "MAX_TASK_EXAMPLES = 60000\n",
        "num_ele_to_pick = phase_task_freq_count[0,0]\n",
        "# NUM_PHASES = NUM_TASKS\n",
        "for phase in range(1): # only 1 phase is enough for upper baseline\n",
        "    phase_training = []\n",
        "    for task in range(NUM_TASKS):\n",
        "        selected_indices = np.random.choice([*range(int(MAX_TASK_EXAMPLES)+1)], int(num_ele_to_pick), replace=False)\n",
        "        task_subset = torch.utils.data.Subset(training_permutations[task], selected_indices)\n",
        "        phase_training.append(task_subset)\n",
        "    final_phase_dataset = ConcatDataset(phase_training)\n",
        "    UBL_training_environments.append(final_phase_dataset)\n"
      ]
    },
    {
      "cell_type": "code",
      "execution_count": 32,
      "id": "RF-vf3x1zKkm",
      "metadata": {
        "colab": {
          "base_uri": "https://localhost:8080/",
          "height": 71
        },
        "id": "RF-vf3x1zKkm",
        "outputId": "a9f31afe-36c0-4f0d-b650-e922d1c92ff7"
      },
      "outputs": [
        {
          "name": "stdout",
          "output_type": "stream",
          "text": [
            "1\n",
            "Training environment size for task  0 is : 579270\n"
          ]
        },
        {
          "data": {
            "text/plain": [
              "<Figure size 720x720 with 0 Axes>"
            ]
          },
          "metadata": {},
          "output_type": "display_data"
        }
      ],
      "source": [
        "print(len(UBL_training_environments))\n",
        "figure = plt.figure(figsize=(10, 10))\n",
        "cols, rows = 2, 5\n",
        "for i in range(len(UBL_training_environments)):\n",
        "  print(\"Training environment size for task \", i , \"is :\", len(UBL_training_environments[i-1]))\n",
        "#   img, label = training_permutations[i-1][0]\n",
        "#   figure.add_subplot(rows, cols, i)\n",
        "#   plt.axis(\"off\")\n",
        "#   plt.imshow(img.squeeze(), cmap=\"gray\")\n",
        "# plt.show()"
      ]
    },
    {
      "cell_type": "code",
      "execution_count": null,
      "id": "osTv55F1zMtT",
      "metadata": {
        "id": "osTv55F1zMtT"
      },
      "outputs": [],
      "source": []
    }
  ],
  "metadata": {
    "accelerator": "GPU",
    "colab": {
      "collapsed_sections": [
        "b1964287",
        "65b2e05f",
        "19b35b6a",
        "60a5f548",
        "a72514b4",
        "d16e2037",
        "f765bb9b"
      ],
      "provenance": []
    },
    "gpuClass": "standard",
    "kernelspec": {
      "display_name": "Python 3.10.8 ('hml_project')",
      "language": "python",
      "name": "python3"
    },
    "language_info": {
      "codemirror_mode": {
        "name": "ipython",
        "version": 3
      },
      "file_extension": ".py",
      "mimetype": "text/x-python",
      "name": "python",
      "nbconvert_exporter": "python",
      "pygments_lexer": "ipython3",
      "version": "3.10.8"
    },
    "vscode": {
      "interpreter": {
        "hash": "c06359541bab7741f5b8a7a51e0e45335cfb5c188357344206c64fc8f256a6c1"
      }
    },
    "widgets": {
      "application/vnd.jupyter.widget-state+json": {
        "094533eb14b9428f80bb80f5e6e19267": {
          "model_module": "@jupyter-widgets/controls",
          "model_module_version": "1.5.0",
          "model_name": "HTMLModel",
          "state": {
            "_dom_classes": [],
            "_model_module": "@jupyter-widgets/controls",
            "_model_module_version": "1.5.0",
            "_model_name": "HTMLModel",
            "_view_count": null,
            "_view_module": "@jupyter-widgets/controls",
            "_view_module_version": "1.5.0",
            "_view_name": "HTMLView",
            "description": "",
            "description_tooltip": null,
            "layout": "IPY_MODEL_2f4a4368fd4f4367af6a9e65e87c5bb1",
            "placeholder": "​",
            "style": "IPY_MODEL_ea449dc692bd46c4b16c4c6f23d6c572",
            "value": "100%"
          }
        },
        "152243e97a3343ecbcc69a82ecfc4778": {
          "model_module": "@jupyter-widgets/base",
          "model_module_version": "1.2.0",
          "model_name": "LayoutModel",
          "state": {
            "_model_module": "@jupyter-widgets/base",
            "_model_module_version": "1.2.0",
            "_model_name": "LayoutModel",
            "_view_count": null,
            "_view_module": "@jupyter-widgets/base",
            "_view_module_version": "1.2.0",
            "_view_name": "LayoutView",
            "align_content": null,
            "align_items": null,
            "align_self": null,
            "border": null,
            "bottom": null,
            "display": null,
            "flex": null,
            "flex_flow": null,
            "grid_area": null,
            "grid_auto_columns": null,
            "grid_auto_flow": null,
            "grid_auto_rows": null,
            "grid_column": null,
            "grid_gap": null,
            "grid_row": null,
            "grid_template_areas": null,
            "grid_template_columns": null,
            "grid_template_rows": null,
            "height": null,
            "justify_content": null,
            "justify_items": null,
            "left": null,
            "margin": null,
            "max_height": null,
            "max_width": null,
            "min_height": null,
            "min_width": null,
            "object_fit": null,
            "object_position": null,
            "order": null,
            "overflow": null,
            "overflow_x": null,
            "overflow_y": null,
            "padding": null,
            "right": null,
            "top": null,
            "visibility": null,
            "width": null
          }
        },
        "1937cd5880784145ac451417834cfc21": {
          "model_module": "@jupyter-widgets/controls",
          "model_module_version": "1.5.0",
          "model_name": "DescriptionStyleModel",
          "state": {
            "_model_module": "@jupyter-widgets/controls",
            "_model_module_version": "1.5.0",
            "_model_name": "DescriptionStyleModel",
            "_view_count": null,
            "_view_module": "@jupyter-widgets/base",
            "_view_module_version": "1.2.0",
            "_view_name": "StyleView",
            "description_width": ""
          }
        },
        "1c1a415bf8a6473c971ebd74a1ab81e6": {
          "model_module": "@jupyter-widgets/base",
          "model_module_version": "1.2.0",
          "model_name": "LayoutModel",
          "state": {
            "_model_module": "@jupyter-widgets/base",
            "_model_module_version": "1.2.0",
            "_model_name": "LayoutModel",
            "_view_count": null,
            "_view_module": "@jupyter-widgets/base",
            "_view_module_version": "1.2.0",
            "_view_name": "LayoutView",
            "align_content": null,
            "align_items": null,
            "align_self": null,
            "border": null,
            "bottom": null,
            "display": null,
            "flex": null,
            "flex_flow": null,
            "grid_area": null,
            "grid_auto_columns": null,
            "grid_auto_flow": null,
            "grid_auto_rows": null,
            "grid_column": null,
            "grid_gap": null,
            "grid_row": null,
            "grid_template_areas": null,
            "grid_template_columns": null,
            "grid_template_rows": null,
            "height": null,
            "justify_content": null,
            "justify_items": null,
            "left": null,
            "margin": null,
            "max_height": null,
            "max_width": null,
            "min_height": null,
            "min_width": null,
            "object_fit": null,
            "object_position": null,
            "order": null,
            "overflow": null,
            "overflow_x": null,
            "overflow_y": null,
            "padding": null,
            "right": null,
            "top": null,
            "visibility": null,
            "width": null
          }
        },
        "1ded49ac47f34ce7ba9ca369023f34cb": {
          "model_module": "@jupyter-widgets/controls",
          "model_module_version": "1.5.0",
          "model_name": "HTMLModel",
          "state": {
            "_dom_classes": [],
            "_model_module": "@jupyter-widgets/controls",
            "_model_module_version": "1.5.0",
            "_model_name": "HTMLModel",
            "_view_count": null,
            "_view_module": "@jupyter-widgets/controls",
            "_view_module_version": "1.5.0",
            "_view_name": "HTMLView",
            "description": "",
            "description_tooltip": null,
            "layout": "IPY_MODEL_52a552f64aa94009b9bf0319bd53f161",
            "placeholder": "​",
            "style": "IPY_MODEL_1937cd5880784145ac451417834cfc21",
            "value": " 1648877/1648877 [00:00&lt;00:00, 8832107.83it/s]"
          }
        },
        "20c9240485124a7bb9a1bcc3043996a9": {
          "model_module": "@jupyter-widgets/base",
          "model_module_version": "1.2.0",
          "model_name": "LayoutModel",
          "state": {
            "_model_module": "@jupyter-widgets/base",
            "_model_module_version": "1.2.0",
            "_model_name": "LayoutModel",
            "_view_count": null,
            "_view_module": "@jupyter-widgets/base",
            "_view_module_version": "1.2.0",
            "_view_name": "LayoutView",
            "align_content": null,
            "align_items": null,
            "align_self": null,
            "border": null,
            "bottom": null,
            "display": null,
            "flex": null,
            "flex_flow": null,
            "grid_area": null,
            "grid_auto_columns": null,
            "grid_auto_flow": null,
            "grid_auto_rows": null,
            "grid_column": null,
            "grid_gap": null,
            "grid_row": null,
            "grid_template_areas": null,
            "grid_template_columns": null,
            "grid_template_rows": null,
            "height": null,
            "justify_content": null,
            "justify_items": null,
            "left": null,
            "margin": null,
            "max_height": null,
            "max_width": null,
            "min_height": null,
            "min_width": null,
            "object_fit": null,
            "object_position": null,
            "order": null,
            "overflow": null,
            "overflow_x": null,
            "overflow_y": null,
            "padding": null,
            "right": null,
            "top": null,
            "visibility": null,
            "width": null
          }
        },
        "22bbffc08b4445e8bec99348f3efe20a": {
          "model_module": "@jupyter-widgets/base",
          "model_module_version": "1.2.0",
          "model_name": "LayoutModel",
          "state": {
            "_model_module": "@jupyter-widgets/base",
            "_model_module_version": "1.2.0",
            "_model_name": "LayoutModel",
            "_view_count": null,
            "_view_module": "@jupyter-widgets/base",
            "_view_module_version": "1.2.0",
            "_view_name": "LayoutView",
            "align_content": null,
            "align_items": null,
            "align_self": null,
            "border": null,
            "bottom": null,
            "display": null,
            "flex": null,
            "flex_flow": null,
            "grid_area": null,
            "grid_auto_columns": null,
            "grid_auto_flow": null,
            "grid_auto_rows": null,
            "grid_column": null,
            "grid_gap": null,
            "grid_row": null,
            "grid_template_areas": null,
            "grid_template_columns": null,
            "grid_template_rows": null,
            "height": null,
            "justify_content": null,
            "justify_items": null,
            "left": null,
            "margin": null,
            "max_height": null,
            "max_width": null,
            "min_height": null,
            "min_width": null,
            "object_fit": null,
            "object_position": null,
            "order": null,
            "overflow": null,
            "overflow_x": null,
            "overflow_y": null,
            "padding": null,
            "right": null,
            "top": null,
            "visibility": null,
            "width": null
          }
        },
        "2cbc995637c94902b2c83a3efd6c4978": {
          "model_module": "@jupyter-widgets/base",
          "model_module_version": "1.2.0",
          "model_name": "LayoutModel",
          "state": {
            "_model_module": "@jupyter-widgets/base",
            "_model_module_version": "1.2.0",
            "_model_name": "LayoutModel",
            "_view_count": null,
            "_view_module": "@jupyter-widgets/base",
            "_view_module_version": "1.2.0",
            "_view_name": "LayoutView",
            "align_content": null,
            "align_items": null,
            "align_self": null,
            "border": null,
            "bottom": null,
            "display": null,
            "flex": null,
            "flex_flow": null,
            "grid_area": null,
            "grid_auto_columns": null,
            "grid_auto_flow": null,
            "grid_auto_rows": null,
            "grid_column": null,
            "grid_gap": null,
            "grid_row": null,
            "grid_template_areas": null,
            "grid_template_columns": null,
            "grid_template_rows": null,
            "height": null,
            "justify_content": null,
            "justify_items": null,
            "left": null,
            "margin": null,
            "max_height": null,
            "max_width": null,
            "min_height": null,
            "min_width": null,
            "object_fit": null,
            "object_position": null,
            "order": null,
            "overflow": null,
            "overflow_x": null,
            "overflow_y": null,
            "padding": null,
            "right": null,
            "top": null,
            "visibility": null,
            "width": null
          }
        },
        "2f4a4368fd4f4367af6a9e65e87c5bb1": {
          "model_module": "@jupyter-widgets/base",
          "model_module_version": "1.2.0",
          "model_name": "LayoutModel",
          "state": {
            "_model_module": "@jupyter-widgets/base",
            "_model_module_version": "1.2.0",
            "_model_name": "LayoutModel",
            "_view_count": null,
            "_view_module": "@jupyter-widgets/base",
            "_view_module_version": "1.2.0",
            "_view_name": "LayoutView",
            "align_content": null,
            "align_items": null,
            "align_self": null,
            "border": null,
            "bottom": null,
            "display": null,
            "flex": null,
            "flex_flow": null,
            "grid_area": null,
            "grid_auto_columns": null,
            "grid_auto_flow": null,
            "grid_auto_rows": null,
            "grid_column": null,
            "grid_gap": null,
            "grid_row": null,
            "grid_template_areas": null,
            "grid_template_columns": null,
            "grid_template_rows": null,
            "height": null,
            "justify_content": null,
            "justify_items": null,
            "left": null,
            "margin": null,
            "max_height": null,
            "max_width": null,
            "min_height": null,
            "min_width": null,
            "object_fit": null,
            "object_position": null,
            "order": null,
            "overflow": null,
            "overflow_x": null,
            "overflow_y": null,
            "padding": null,
            "right": null,
            "top": null,
            "visibility": null,
            "width": null
          }
        },
        "385d168ca33d43d98896bdac3a468da6": {
          "model_module": "@jupyter-widgets/controls",
          "model_module_version": "1.5.0",
          "model_name": "HBoxModel",
          "state": {
            "_dom_classes": [],
            "_model_module": "@jupyter-widgets/controls",
            "_model_module_version": "1.5.0",
            "_model_name": "HBoxModel",
            "_view_count": null,
            "_view_module": "@jupyter-widgets/controls",
            "_view_module_version": "1.5.0",
            "_view_name": "HBoxView",
            "box_style": "",
            "children": [
              "IPY_MODEL_ea55657940844546b168997ef4e28a63",
              "IPY_MODEL_e268500c69a94e06a126969f1dccbcd5",
              "IPY_MODEL_3e743e6b8dd84a37b68a36311e0d6b1a"
            ],
            "layout": "IPY_MODEL_736ca0468dbc46048440cd079f143267"
          }
        },
        "3e743e6b8dd84a37b68a36311e0d6b1a": {
          "model_module": "@jupyter-widgets/controls",
          "model_module_version": "1.5.0",
          "model_name": "HTMLModel",
          "state": {
            "_dom_classes": [],
            "_model_module": "@jupyter-widgets/controls",
            "_model_module_version": "1.5.0",
            "_model_name": "HTMLModel",
            "_view_count": null,
            "_view_module": "@jupyter-widgets/controls",
            "_view_module_version": "1.5.0",
            "_view_name": "HTMLView",
            "description": "",
            "description_tooltip": null,
            "layout": "IPY_MODEL_6b3f78bdcafb4411a4c652b29db7387c",
            "placeholder": "​",
            "style": "IPY_MODEL_8e58143e65624bd2849ae65b5698c4bc",
            "value": " 9912422/9912422 [00:00&lt;00:00, 27224984.15it/s]"
          }
        },
        "43d95faff5c6441c8173035de4df7535": {
          "model_module": "@jupyter-widgets/base",
          "model_module_version": "1.2.0",
          "model_name": "LayoutModel",
          "state": {
            "_model_module": "@jupyter-widgets/base",
            "_model_module_version": "1.2.0",
            "_model_name": "LayoutModel",
            "_view_count": null,
            "_view_module": "@jupyter-widgets/base",
            "_view_module_version": "1.2.0",
            "_view_name": "LayoutView",
            "align_content": null,
            "align_items": null,
            "align_self": null,
            "border": null,
            "bottom": null,
            "display": null,
            "flex": null,
            "flex_flow": null,
            "grid_area": null,
            "grid_auto_columns": null,
            "grid_auto_flow": null,
            "grid_auto_rows": null,
            "grid_column": null,
            "grid_gap": null,
            "grid_row": null,
            "grid_template_areas": null,
            "grid_template_columns": null,
            "grid_template_rows": null,
            "height": null,
            "justify_content": null,
            "justify_items": null,
            "left": null,
            "margin": null,
            "max_height": null,
            "max_width": null,
            "min_height": null,
            "min_width": null,
            "object_fit": null,
            "object_position": null,
            "order": null,
            "overflow": null,
            "overflow_x": null,
            "overflow_y": null,
            "padding": null,
            "right": null,
            "top": null,
            "visibility": null,
            "width": null
          }
        },
        "52a552f64aa94009b9bf0319bd53f161": {
          "model_module": "@jupyter-widgets/base",
          "model_module_version": "1.2.0",
          "model_name": "LayoutModel",
          "state": {
            "_model_module": "@jupyter-widgets/base",
            "_model_module_version": "1.2.0",
            "_model_name": "LayoutModel",
            "_view_count": null,
            "_view_module": "@jupyter-widgets/base",
            "_view_module_version": "1.2.0",
            "_view_name": "LayoutView",
            "align_content": null,
            "align_items": null,
            "align_self": null,
            "border": null,
            "bottom": null,
            "display": null,
            "flex": null,
            "flex_flow": null,
            "grid_area": null,
            "grid_auto_columns": null,
            "grid_auto_flow": null,
            "grid_auto_rows": null,
            "grid_column": null,
            "grid_gap": null,
            "grid_row": null,
            "grid_template_areas": null,
            "grid_template_columns": null,
            "grid_template_rows": null,
            "height": null,
            "justify_content": null,
            "justify_items": null,
            "left": null,
            "margin": null,
            "max_height": null,
            "max_width": null,
            "min_height": null,
            "min_width": null,
            "object_fit": null,
            "object_position": null,
            "order": null,
            "overflow": null,
            "overflow_x": null,
            "overflow_y": null,
            "padding": null,
            "right": null,
            "top": null,
            "visibility": null,
            "width": null
          }
        },
        "6b3f78bdcafb4411a4c652b29db7387c": {
          "model_module": "@jupyter-widgets/base",
          "model_module_version": "1.2.0",
          "model_name": "LayoutModel",
          "state": {
            "_model_module": "@jupyter-widgets/base",
            "_model_module_version": "1.2.0",
            "_model_name": "LayoutModel",
            "_view_count": null,
            "_view_module": "@jupyter-widgets/base",
            "_view_module_version": "1.2.0",
            "_view_name": "LayoutView",
            "align_content": null,
            "align_items": null,
            "align_self": null,
            "border": null,
            "bottom": null,
            "display": null,
            "flex": null,
            "flex_flow": null,
            "grid_area": null,
            "grid_auto_columns": null,
            "grid_auto_flow": null,
            "grid_auto_rows": null,
            "grid_column": null,
            "grid_gap": null,
            "grid_row": null,
            "grid_template_areas": null,
            "grid_template_columns": null,
            "grid_template_rows": null,
            "height": null,
            "justify_content": null,
            "justify_items": null,
            "left": null,
            "margin": null,
            "max_height": null,
            "max_width": null,
            "min_height": null,
            "min_width": null,
            "object_fit": null,
            "object_position": null,
            "order": null,
            "overflow": null,
            "overflow_x": null,
            "overflow_y": null,
            "padding": null,
            "right": null,
            "top": null,
            "visibility": null,
            "width": null
          }
        },
        "736ca0468dbc46048440cd079f143267": {
          "model_module": "@jupyter-widgets/base",
          "model_module_version": "1.2.0",
          "model_name": "LayoutModel",
          "state": {
            "_model_module": "@jupyter-widgets/base",
            "_model_module_version": "1.2.0",
            "_model_name": "LayoutModel",
            "_view_count": null,
            "_view_module": "@jupyter-widgets/base",
            "_view_module_version": "1.2.0",
            "_view_name": "LayoutView",
            "align_content": null,
            "align_items": null,
            "align_self": null,
            "border": null,
            "bottom": null,
            "display": null,
            "flex": null,
            "flex_flow": null,
            "grid_area": null,
            "grid_auto_columns": null,
            "grid_auto_flow": null,
            "grid_auto_rows": null,
            "grid_column": null,
            "grid_gap": null,
            "grid_row": null,
            "grid_template_areas": null,
            "grid_template_columns": null,
            "grid_template_rows": null,
            "height": null,
            "justify_content": null,
            "justify_items": null,
            "left": null,
            "margin": null,
            "max_height": null,
            "max_width": null,
            "min_height": null,
            "min_width": null,
            "object_fit": null,
            "object_position": null,
            "order": null,
            "overflow": null,
            "overflow_x": null,
            "overflow_y": null,
            "padding": null,
            "right": null,
            "top": null,
            "visibility": null,
            "width": null
          }
        },
        "79d3601f8d304faeb3bbac3592808816": {
          "model_module": "@jupyter-widgets/controls",
          "model_module_version": "1.5.0",
          "model_name": "HBoxModel",
          "state": {
            "_dom_classes": [],
            "_model_module": "@jupyter-widgets/controls",
            "_model_module_version": "1.5.0",
            "_model_name": "HBoxModel",
            "_view_count": null,
            "_view_module": "@jupyter-widgets/controls",
            "_view_module_version": "1.5.0",
            "_view_name": "HBoxView",
            "box_style": "",
            "children": [
              "IPY_MODEL_a76ca7777fa04049b12560a730e8d93d",
              "IPY_MODEL_7aee10856ac84c0cabd92dd05197b4a2",
              "IPY_MODEL_88ae24b80af04ce69cd898a2e0d7ed93"
            ],
            "layout": "IPY_MODEL_8bbfb805377e4d0bb276135a799e50e5"
          }
        },
        "7aee10856ac84c0cabd92dd05197b4a2": {
          "model_module": "@jupyter-widgets/controls",
          "model_module_version": "1.5.0",
          "model_name": "FloatProgressModel",
          "state": {
            "_dom_classes": [],
            "_model_module": "@jupyter-widgets/controls",
            "_model_module_version": "1.5.0",
            "_model_name": "FloatProgressModel",
            "_view_count": null,
            "_view_module": "@jupyter-widgets/controls",
            "_view_module_version": "1.5.0",
            "_view_name": "ProgressView",
            "bar_style": "success",
            "description": "",
            "description_tooltip": null,
            "layout": "IPY_MODEL_20c9240485124a7bb9a1bcc3043996a9",
            "max": 28881,
            "min": 0,
            "orientation": "horizontal",
            "style": "IPY_MODEL_8a172c4b7a484df78ade5c55fbb8dd80",
            "value": 28881
          }
        },
        "7c202ea3db624b7591f9a6025c441b99": {
          "model_module": "@jupyter-widgets/controls",
          "model_module_version": "1.5.0",
          "model_name": "HBoxModel",
          "state": {
            "_dom_classes": [],
            "_model_module": "@jupyter-widgets/controls",
            "_model_module_version": "1.5.0",
            "_model_name": "HBoxModel",
            "_view_count": null,
            "_view_module": "@jupyter-widgets/controls",
            "_view_module_version": "1.5.0",
            "_view_name": "HBoxView",
            "box_style": "",
            "children": [
              "IPY_MODEL_edab36824e2240af923ac7c83dfaf276",
              "IPY_MODEL_bab29052c3de45d4baa5b13cc23a9794",
              "IPY_MODEL_b0cea3905aa64ed18e8d7b3d490f0c79"
            ],
            "layout": "IPY_MODEL_d679cd8bddf2457494bbde3b865581bc"
          }
        },
        "7d47e2ac30c54320b60828a7a3fa2b25": {
          "model_module": "@jupyter-widgets/base",
          "model_module_version": "1.2.0",
          "model_name": "LayoutModel",
          "state": {
            "_model_module": "@jupyter-widgets/base",
            "_model_module_version": "1.2.0",
            "_model_name": "LayoutModel",
            "_view_count": null,
            "_view_module": "@jupyter-widgets/base",
            "_view_module_version": "1.2.0",
            "_view_name": "LayoutView",
            "align_content": null,
            "align_items": null,
            "align_self": null,
            "border": null,
            "bottom": null,
            "display": null,
            "flex": null,
            "flex_flow": null,
            "grid_area": null,
            "grid_auto_columns": null,
            "grid_auto_flow": null,
            "grid_auto_rows": null,
            "grid_column": null,
            "grid_gap": null,
            "grid_row": null,
            "grid_template_areas": null,
            "grid_template_columns": null,
            "grid_template_rows": null,
            "height": null,
            "justify_content": null,
            "justify_items": null,
            "left": null,
            "margin": null,
            "max_height": null,
            "max_width": null,
            "min_height": null,
            "min_width": null,
            "object_fit": null,
            "object_position": null,
            "order": null,
            "overflow": null,
            "overflow_x": null,
            "overflow_y": null,
            "padding": null,
            "right": null,
            "top": null,
            "visibility": null,
            "width": null
          }
        },
        "8579fbd1a65545dfa4f2f59907e614e0": {
          "model_module": "@jupyter-widgets/controls",
          "model_module_version": "1.5.0",
          "model_name": "DescriptionStyleModel",
          "state": {
            "_model_module": "@jupyter-widgets/controls",
            "_model_module_version": "1.5.0",
            "_model_name": "DescriptionStyleModel",
            "_view_count": null,
            "_view_module": "@jupyter-widgets/base",
            "_view_module_version": "1.2.0",
            "_view_name": "StyleView",
            "description_width": ""
          }
        },
        "88ae24b80af04ce69cd898a2e0d7ed93": {
          "model_module": "@jupyter-widgets/controls",
          "model_module_version": "1.5.0",
          "model_name": "HTMLModel",
          "state": {
            "_dom_classes": [],
            "_model_module": "@jupyter-widgets/controls",
            "_model_module_version": "1.5.0",
            "_model_name": "HTMLModel",
            "_view_count": null,
            "_view_module": "@jupyter-widgets/controls",
            "_view_module_version": "1.5.0",
            "_view_name": "HTMLView",
            "description": "",
            "description_tooltip": null,
            "layout": "IPY_MODEL_9088dda35c534bc7a15d6494d6ee8a7a",
            "placeholder": "​",
            "style": "IPY_MODEL_de2e90bfefab49518f028bbc9a9d8ec7",
            "value": " 28881/28881 [00:00&lt;00:00, 708271.61it/s]"
          }
        },
        "8a172c4b7a484df78ade5c55fbb8dd80": {
          "model_module": "@jupyter-widgets/controls",
          "model_module_version": "1.5.0",
          "model_name": "ProgressStyleModel",
          "state": {
            "_model_module": "@jupyter-widgets/controls",
            "_model_module_version": "1.5.0",
            "_model_name": "ProgressStyleModel",
            "_view_count": null,
            "_view_module": "@jupyter-widgets/base",
            "_view_module_version": "1.2.0",
            "_view_name": "StyleView",
            "bar_color": null,
            "description_width": ""
          }
        },
        "8bbfb805377e4d0bb276135a799e50e5": {
          "model_module": "@jupyter-widgets/base",
          "model_module_version": "1.2.0",
          "model_name": "LayoutModel",
          "state": {
            "_model_module": "@jupyter-widgets/base",
            "_model_module_version": "1.2.0",
            "_model_name": "LayoutModel",
            "_view_count": null,
            "_view_module": "@jupyter-widgets/base",
            "_view_module_version": "1.2.0",
            "_view_name": "LayoutView",
            "align_content": null,
            "align_items": null,
            "align_self": null,
            "border": null,
            "bottom": null,
            "display": null,
            "flex": null,
            "flex_flow": null,
            "grid_area": null,
            "grid_auto_columns": null,
            "grid_auto_flow": null,
            "grid_auto_rows": null,
            "grid_column": null,
            "grid_gap": null,
            "grid_row": null,
            "grid_template_areas": null,
            "grid_template_columns": null,
            "grid_template_rows": null,
            "height": null,
            "justify_content": null,
            "justify_items": null,
            "left": null,
            "margin": null,
            "max_height": null,
            "max_width": null,
            "min_height": null,
            "min_width": null,
            "object_fit": null,
            "object_position": null,
            "order": null,
            "overflow": null,
            "overflow_x": null,
            "overflow_y": null,
            "padding": null,
            "right": null,
            "top": null,
            "visibility": null,
            "width": null
          }
        },
        "8e58143e65624bd2849ae65b5698c4bc": {
          "model_module": "@jupyter-widgets/controls",
          "model_module_version": "1.5.0",
          "model_name": "DescriptionStyleModel",
          "state": {
            "_model_module": "@jupyter-widgets/controls",
            "_model_module_version": "1.5.0",
            "_model_name": "DescriptionStyleModel",
            "_view_count": null,
            "_view_module": "@jupyter-widgets/base",
            "_view_module_version": "1.2.0",
            "_view_name": "StyleView",
            "description_width": ""
          }
        },
        "9088dda35c534bc7a15d6494d6ee8a7a": {
          "model_module": "@jupyter-widgets/base",
          "model_module_version": "1.2.0",
          "model_name": "LayoutModel",
          "state": {
            "_model_module": "@jupyter-widgets/base",
            "_model_module_version": "1.2.0",
            "_model_name": "LayoutModel",
            "_view_count": null,
            "_view_module": "@jupyter-widgets/base",
            "_view_module_version": "1.2.0",
            "_view_name": "LayoutView",
            "align_content": null,
            "align_items": null,
            "align_self": null,
            "border": null,
            "bottom": null,
            "display": null,
            "flex": null,
            "flex_flow": null,
            "grid_area": null,
            "grid_auto_columns": null,
            "grid_auto_flow": null,
            "grid_auto_rows": null,
            "grid_column": null,
            "grid_gap": null,
            "grid_row": null,
            "grid_template_areas": null,
            "grid_template_columns": null,
            "grid_template_rows": null,
            "height": null,
            "justify_content": null,
            "justify_items": null,
            "left": null,
            "margin": null,
            "max_height": null,
            "max_width": null,
            "min_height": null,
            "min_width": null,
            "object_fit": null,
            "object_position": null,
            "order": null,
            "overflow": null,
            "overflow_x": null,
            "overflow_y": null,
            "padding": null,
            "right": null,
            "top": null,
            "visibility": null,
            "width": null
          }
        },
        "96706252e3904a44b127e82f48377352": {
          "model_module": "@jupyter-widgets/controls",
          "model_module_version": "1.5.0",
          "model_name": "DescriptionStyleModel",
          "state": {
            "_model_module": "@jupyter-widgets/controls",
            "_model_module_version": "1.5.0",
            "_model_name": "DescriptionStyleModel",
            "_view_count": null,
            "_view_module": "@jupyter-widgets/base",
            "_view_module_version": "1.2.0",
            "_view_name": "StyleView",
            "description_width": ""
          }
        },
        "a05a2fef440f4691b17e003772eeef86": {
          "model_module": "@jupyter-widgets/base",
          "model_module_version": "1.2.0",
          "model_name": "LayoutModel",
          "state": {
            "_model_module": "@jupyter-widgets/base",
            "_model_module_version": "1.2.0",
            "_model_name": "LayoutModel",
            "_view_count": null,
            "_view_module": "@jupyter-widgets/base",
            "_view_module_version": "1.2.0",
            "_view_name": "LayoutView",
            "align_content": null,
            "align_items": null,
            "align_self": null,
            "border": null,
            "bottom": null,
            "display": null,
            "flex": null,
            "flex_flow": null,
            "grid_area": null,
            "grid_auto_columns": null,
            "grid_auto_flow": null,
            "grid_auto_rows": null,
            "grid_column": null,
            "grid_gap": null,
            "grid_row": null,
            "grid_template_areas": null,
            "grid_template_columns": null,
            "grid_template_rows": null,
            "height": null,
            "justify_content": null,
            "justify_items": null,
            "left": null,
            "margin": null,
            "max_height": null,
            "max_width": null,
            "min_height": null,
            "min_width": null,
            "object_fit": null,
            "object_position": null,
            "order": null,
            "overflow": null,
            "overflow_x": null,
            "overflow_y": null,
            "padding": null,
            "right": null,
            "top": null,
            "visibility": null,
            "width": null
          }
        },
        "a76ca7777fa04049b12560a730e8d93d": {
          "model_module": "@jupyter-widgets/controls",
          "model_module_version": "1.5.0",
          "model_name": "HTMLModel",
          "state": {
            "_dom_classes": [],
            "_model_module": "@jupyter-widgets/controls",
            "_model_module_version": "1.5.0",
            "_model_name": "HTMLModel",
            "_view_count": null,
            "_view_module": "@jupyter-widgets/controls",
            "_view_module_version": "1.5.0",
            "_view_name": "HTMLView",
            "description": "",
            "description_tooltip": null,
            "layout": "IPY_MODEL_152243e97a3343ecbcc69a82ecfc4778",
            "placeholder": "​",
            "style": "IPY_MODEL_c8735dd1390746f28423e3e1f1b65e91",
            "value": "100%"
          }
        },
        "aa4a3b8a59e04e719f14fab5f868bb32": {
          "model_module": "@jupyter-widgets/base",
          "model_module_version": "1.2.0",
          "model_name": "LayoutModel",
          "state": {
            "_model_module": "@jupyter-widgets/base",
            "_model_module_version": "1.2.0",
            "_model_name": "LayoutModel",
            "_view_count": null,
            "_view_module": "@jupyter-widgets/base",
            "_view_module_version": "1.2.0",
            "_view_name": "LayoutView",
            "align_content": null,
            "align_items": null,
            "align_self": null,
            "border": null,
            "bottom": null,
            "display": null,
            "flex": null,
            "flex_flow": null,
            "grid_area": null,
            "grid_auto_columns": null,
            "grid_auto_flow": null,
            "grid_auto_rows": null,
            "grid_column": null,
            "grid_gap": null,
            "grid_row": null,
            "grid_template_areas": null,
            "grid_template_columns": null,
            "grid_template_rows": null,
            "height": null,
            "justify_content": null,
            "justify_items": null,
            "left": null,
            "margin": null,
            "max_height": null,
            "max_width": null,
            "min_height": null,
            "min_width": null,
            "object_fit": null,
            "object_position": null,
            "order": null,
            "overflow": null,
            "overflow_x": null,
            "overflow_y": null,
            "padding": null,
            "right": null,
            "top": null,
            "visibility": null,
            "width": null
          }
        },
        "aad21e8b749e409ca9db274893db4c4d": {
          "model_module": "@jupyter-widgets/controls",
          "model_module_version": "1.5.0",
          "model_name": "FloatProgressModel",
          "state": {
            "_dom_classes": [],
            "_model_module": "@jupyter-widgets/controls",
            "_model_module_version": "1.5.0",
            "_model_name": "FloatProgressModel",
            "_view_count": null,
            "_view_module": "@jupyter-widgets/controls",
            "_view_module_version": "1.5.0",
            "_view_name": "ProgressView",
            "bar_style": "success",
            "description": "",
            "description_tooltip": null,
            "layout": "IPY_MODEL_43d95faff5c6441c8173035de4df7535",
            "max": 1648877,
            "min": 0,
            "orientation": "horizontal",
            "style": "IPY_MODEL_dbfffd9978ae40bba7cd0fbb066c7759",
            "value": 1648877
          }
        },
        "af2919320c2e43f3b3c26dd4643e49a9": {
          "model_module": "@jupyter-widgets/controls",
          "model_module_version": "1.5.0",
          "model_name": "ProgressStyleModel",
          "state": {
            "_model_module": "@jupyter-widgets/controls",
            "_model_module_version": "1.5.0",
            "_model_name": "ProgressStyleModel",
            "_view_count": null,
            "_view_module": "@jupyter-widgets/base",
            "_view_module_version": "1.2.0",
            "_view_name": "StyleView",
            "bar_color": null,
            "description_width": ""
          }
        },
        "b0cea3905aa64ed18e8d7b3d490f0c79": {
          "model_module": "@jupyter-widgets/controls",
          "model_module_version": "1.5.0",
          "model_name": "HTMLModel",
          "state": {
            "_dom_classes": [],
            "_model_module": "@jupyter-widgets/controls",
            "_model_module_version": "1.5.0",
            "_model_name": "HTMLModel",
            "_view_count": null,
            "_view_module": "@jupyter-widgets/controls",
            "_view_module_version": "1.5.0",
            "_view_name": "HTMLView",
            "description": "",
            "description_tooltip": null,
            "layout": "IPY_MODEL_1c1a415bf8a6473c971ebd74a1ab81e6",
            "placeholder": "​",
            "style": "IPY_MODEL_96706252e3904a44b127e82f48377352",
            "value": " 4542/4542 [00:00&lt;00:00, 163025.68it/s]"
          }
        },
        "bab29052c3de45d4baa5b13cc23a9794": {
          "model_module": "@jupyter-widgets/controls",
          "model_module_version": "1.5.0",
          "model_name": "FloatProgressModel",
          "state": {
            "_dom_classes": [],
            "_model_module": "@jupyter-widgets/controls",
            "_model_module_version": "1.5.0",
            "_model_name": "FloatProgressModel",
            "_view_count": null,
            "_view_module": "@jupyter-widgets/controls",
            "_view_module_version": "1.5.0",
            "_view_name": "ProgressView",
            "bar_style": "success",
            "description": "",
            "description_tooltip": null,
            "layout": "IPY_MODEL_22bbffc08b4445e8bec99348f3efe20a",
            "max": 4542,
            "min": 0,
            "orientation": "horizontal",
            "style": "IPY_MODEL_af2919320c2e43f3b3c26dd4643e49a9",
            "value": 4542
          }
        },
        "bedcfb98613f4f018747bf3cc1e17fd6": {
          "model_module": "@jupyter-widgets/controls",
          "model_module_version": "1.5.0",
          "model_name": "DescriptionStyleModel",
          "state": {
            "_model_module": "@jupyter-widgets/controls",
            "_model_module_version": "1.5.0",
            "_model_name": "DescriptionStyleModel",
            "_view_count": null,
            "_view_module": "@jupyter-widgets/base",
            "_view_module_version": "1.2.0",
            "_view_name": "StyleView",
            "description_width": ""
          }
        },
        "c8735dd1390746f28423e3e1f1b65e91": {
          "model_module": "@jupyter-widgets/controls",
          "model_module_version": "1.5.0",
          "model_name": "DescriptionStyleModel",
          "state": {
            "_model_module": "@jupyter-widgets/controls",
            "_model_module_version": "1.5.0",
            "_model_name": "DescriptionStyleModel",
            "_view_count": null,
            "_view_module": "@jupyter-widgets/base",
            "_view_module_version": "1.2.0",
            "_view_name": "StyleView",
            "description_width": ""
          }
        },
        "d679cd8bddf2457494bbde3b865581bc": {
          "model_module": "@jupyter-widgets/base",
          "model_module_version": "1.2.0",
          "model_name": "LayoutModel",
          "state": {
            "_model_module": "@jupyter-widgets/base",
            "_model_module_version": "1.2.0",
            "_model_name": "LayoutModel",
            "_view_count": null,
            "_view_module": "@jupyter-widgets/base",
            "_view_module_version": "1.2.0",
            "_view_name": "LayoutView",
            "align_content": null,
            "align_items": null,
            "align_self": null,
            "border": null,
            "bottom": null,
            "display": null,
            "flex": null,
            "flex_flow": null,
            "grid_area": null,
            "grid_auto_columns": null,
            "grid_auto_flow": null,
            "grid_auto_rows": null,
            "grid_column": null,
            "grid_gap": null,
            "grid_row": null,
            "grid_template_areas": null,
            "grid_template_columns": null,
            "grid_template_rows": null,
            "height": null,
            "justify_content": null,
            "justify_items": null,
            "left": null,
            "margin": null,
            "max_height": null,
            "max_width": null,
            "min_height": null,
            "min_width": null,
            "object_fit": null,
            "object_position": null,
            "order": null,
            "overflow": null,
            "overflow_x": null,
            "overflow_y": null,
            "padding": null,
            "right": null,
            "top": null,
            "visibility": null,
            "width": null
          }
        },
        "dbfffd9978ae40bba7cd0fbb066c7759": {
          "model_module": "@jupyter-widgets/controls",
          "model_module_version": "1.5.0",
          "model_name": "ProgressStyleModel",
          "state": {
            "_model_module": "@jupyter-widgets/controls",
            "_model_module_version": "1.5.0",
            "_model_name": "ProgressStyleModel",
            "_view_count": null,
            "_view_module": "@jupyter-widgets/base",
            "_view_module_version": "1.2.0",
            "_view_name": "StyleView",
            "bar_color": null,
            "description_width": ""
          }
        },
        "de2e90bfefab49518f028bbc9a9d8ec7": {
          "model_module": "@jupyter-widgets/controls",
          "model_module_version": "1.5.0",
          "model_name": "DescriptionStyleModel",
          "state": {
            "_model_module": "@jupyter-widgets/controls",
            "_model_module_version": "1.5.0",
            "_model_name": "DescriptionStyleModel",
            "_view_count": null,
            "_view_module": "@jupyter-widgets/base",
            "_view_module_version": "1.2.0",
            "_view_name": "StyleView",
            "description_width": ""
          }
        },
        "e268500c69a94e06a126969f1dccbcd5": {
          "model_module": "@jupyter-widgets/controls",
          "model_module_version": "1.5.0",
          "model_name": "FloatProgressModel",
          "state": {
            "_dom_classes": [],
            "_model_module": "@jupyter-widgets/controls",
            "_model_module_version": "1.5.0",
            "_model_name": "FloatProgressModel",
            "_view_count": null,
            "_view_module": "@jupyter-widgets/controls",
            "_view_module_version": "1.5.0",
            "_view_name": "ProgressView",
            "bar_style": "success",
            "description": "",
            "description_tooltip": null,
            "layout": "IPY_MODEL_aa4a3b8a59e04e719f14fab5f868bb32",
            "max": 9912422,
            "min": 0,
            "orientation": "horizontal",
            "style": "IPY_MODEL_f2834fb487374cc3badf2061d1f2471f",
            "value": 9912422
          }
        },
        "ea449dc692bd46c4b16c4c6f23d6c572": {
          "model_module": "@jupyter-widgets/controls",
          "model_module_version": "1.5.0",
          "model_name": "DescriptionStyleModel",
          "state": {
            "_model_module": "@jupyter-widgets/controls",
            "_model_module_version": "1.5.0",
            "_model_name": "DescriptionStyleModel",
            "_view_count": null,
            "_view_module": "@jupyter-widgets/base",
            "_view_module_version": "1.2.0",
            "_view_name": "StyleView",
            "description_width": ""
          }
        },
        "ea55657940844546b168997ef4e28a63": {
          "model_module": "@jupyter-widgets/controls",
          "model_module_version": "1.5.0",
          "model_name": "HTMLModel",
          "state": {
            "_dom_classes": [],
            "_model_module": "@jupyter-widgets/controls",
            "_model_module_version": "1.5.0",
            "_model_name": "HTMLModel",
            "_view_count": null,
            "_view_module": "@jupyter-widgets/controls",
            "_view_module_version": "1.5.0",
            "_view_name": "HTMLView",
            "description": "",
            "description_tooltip": null,
            "layout": "IPY_MODEL_7d47e2ac30c54320b60828a7a3fa2b25",
            "placeholder": "​",
            "style": "IPY_MODEL_bedcfb98613f4f018747bf3cc1e17fd6",
            "value": "100%"
          }
        },
        "edab36824e2240af923ac7c83dfaf276": {
          "model_module": "@jupyter-widgets/controls",
          "model_module_version": "1.5.0",
          "model_name": "HTMLModel",
          "state": {
            "_dom_classes": [],
            "_model_module": "@jupyter-widgets/controls",
            "_model_module_version": "1.5.0",
            "_model_name": "HTMLModel",
            "_view_count": null,
            "_view_module": "@jupyter-widgets/controls",
            "_view_module_version": "1.5.0",
            "_view_name": "HTMLView",
            "description": "",
            "description_tooltip": null,
            "layout": "IPY_MODEL_a05a2fef440f4691b17e003772eeef86",
            "placeholder": "​",
            "style": "IPY_MODEL_8579fbd1a65545dfa4f2f59907e614e0",
            "value": "100%"
          }
        },
        "edb91f02915647fdbca84ffd1a5df05c": {
          "model_module": "@jupyter-widgets/controls",
          "model_module_version": "1.5.0",
          "model_name": "HBoxModel",
          "state": {
            "_dom_classes": [],
            "_model_module": "@jupyter-widgets/controls",
            "_model_module_version": "1.5.0",
            "_model_name": "HBoxModel",
            "_view_count": null,
            "_view_module": "@jupyter-widgets/controls",
            "_view_module_version": "1.5.0",
            "_view_name": "HBoxView",
            "box_style": "",
            "children": [
              "IPY_MODEL_094533eb14b9428f80bb80f5e6e19267",
              "IPY_MODEL_aad21e8b749e409ca9db274893db4c4d",
              "IPY_MODEL_1ded49ac47f34ce7ba9ca369023f34cb"
            ],
            "layout": "IPY_MODEL_2cbc995637c94902b2c83a3efd6c4978"
          }
        },
        "f2834fb487374cc3badf2061d1f2471f": {
          "model_module": "@jupyter-widgets/controls",
          "model_module_version": "1.5.0",
          "model_name": "ProgressStyleModel",
          "state": {
            "_model_module": "@jupyter-widgets/controls",
            "_model_module_version": "1.5.0",
            "_model_name": "ProgressStyleModel",
            "_view_count": null,
            "_view_module": "@jupyter-widgets/base",
            "_view_module_version": "1.2.0",
            "_view_name": "StyleView",
            "bar_color": null,
            "description_width": ""
          }
        }
      }
    }
  },
  "nbformat": 4,
  "nbformat_minor": 5
}
