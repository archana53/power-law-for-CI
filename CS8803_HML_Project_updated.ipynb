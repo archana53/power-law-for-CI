{
  "cells": [
    {
      "cell_type": "code",
      "execution_count": 18,
      "id": "5dd60fa2",
      "metadata": {
        "id": "5dd60fa2"
      },
      "outputs": [],
      "source": [
        "import pandas as pd\n",
        "import numpy as np\n",
        "import matplotlib.pyplot as plt\n",
        "import seaborn as sns\n",
        "import tensorflow as tf\n",
        "from sklearn import metrics\n",
        "import math\n",
        "%matplotlib inline"
      ]
    },
    {
      "cell_type": "markdown",
      "id": "57363196",
      "metadata": {
        "id": "57363196"
      },
      "source": [
        "## Get Dataset"
      ]
    },
    {
      "cell_type": "code",
      "execution_count": null,
      "id": "c57464a6",
      "metadata": {
        "id": "c57464a6"
      },
      "outputs": [],
      "source": [
        "import tensorflow_datasets as tfds\n",
        "from tensorflow.keras.datasets import mnist"
      ]
    },
    {
      "cell_type": "code",
      "execution_count": null,
      "id": "7eef1359",
      "metadata": {
        "id": "7eef1359"
      },
      "outputs": [],
      "source": [
        "# (ds_train, ds_test), ds_info = tfds.load(\n",
        "#     'mnist',\n",
        "#     split=['train', 'test'],\n",
        "#     shuffle_files=True,\n",
        "#     as_supervised=True,\n",
        "#     with_info=True,\n",
        "# )"
      ]
    },
    {
      "cell_type": "code",
      "execution_count": null,
      "id": "0a0f13cc",
      "metadata": {
        "id": "0a0f13cc"
      },
      "outputs": [],
      "source": [
        "# def normalize_img(image, label):\n",
        "#   \"\"\"Normalizes images: `uint8` -> `float32`.\"\"\"\n",
        "#   return tf.cast(image, tf.float32) / 255., label\n",
        "\n",
        "# ds_train = ds_train.map(\n",
        "#     normalize_img, num_parallel_calls=tf.data.AUTOTUNE)\n",
        "# ds_train = ds_train.cache()\n",
        "# ds_train = ds_train.shuffle(ds_info.splits['train'].num_examples)\n",
        "# ds_train = ds_train.batch(128)\n",
        "# ds_train = ds_train.prefetch(tf.data.AUTOTUNE)"
      ]
    },
    {
      "cell_type": "code",
      "execution_count": null,
      "id": "dd34cecb",
      "metadata": {
        "id": "dd34cecb"
      },
      "outputs": [],
      "source": [
        "# ds_test = ds_test.map(\n",
        "#     normalize_img, num_parallel_calls=tf.data.AUTOTUNE)\n",
        "# ds_test = ds_test.batch(128)\n",
        "# ds_test = ds_test.cache()\n",
        "# ds_test = ds_test.prefetch(tf.data.AUTOTUNE)"
      ]
    },
    {
      "cell_type": "code",
      "execution_count": null,
      "id": "ed110df2",
      "metadata": {
        "id": "ed110df2",
        "colab": {
          "base_uri": "https://localhost:8080/"
        },
        "outputId": "ef34105f-b524-4b9e-821e-cc2a81cce719"
      },
      "outputs": [
        {
          "output_type": "stream",
          "name": "stdout",
          "text": [
            "Downloading data from https://storage.googleapis.com/tensorflow/tf-keras-datasets/mnist.npz\n",
            "11490434/11490434 [==============================] - 0s 0us/step\n"
          ]
        }
      ],
      "source": [
        "(x_train, y_train), (x_test, y_test) = mnist.load_data()\n",
        "x_train = x_train/255.0\n",
        "x_test = x_test/255.0"
      ]
    },
    {
      "cell_type": "code",
      "execution_count": null,
      "id": "475ffbc0",
      "metadata": {
        "id": "475ffbc0",
        "colab": {
          "base_uri": "https://localhost:8080/",
          "height": 265
        },
        "outputId": "ee4caff7-a254-4e33-e4d3-58b1e6f11841"
      },
      "outputs": [
        {
          "output_type": "display_data",
          "data": {
            "text/plain": [
              "<Figure size 432x288 with 1 Axes>"
            ],
            "image/png": "[encoded data removed]"
          },
          "metadata": {
            "needs_background": "light"
          }
        }
      ],
      "source": [
        "plt.imshow(x_train[18], cmap = \"gray\")\n",
        "plt.show()"
      ]
    },
    {
      "cell_type": "code",
      "source": [
        "np.save(\"example_18_lbl_6.npy\", x_train[18])"
      ],
      "metadata": {
        "id": "D0F4auC8VrdM"
      },
      "id": "D0F4auC8VrdM",
      "execution_count": null,
      "outputs": []
    },
    {
      "cell_type": "markdown",
      "id": "b1964287",
      "metadata": {
        "id": "b1964287"
      },
      "source": [
        "## Custom Loss"
      ]
    },
    {
      "cell_type": "code",
      "execution_count": null,
      "id": "0cf1dc19",
      "metadata": {
        "id": "0cf1dc19"
      },
      "outputs": [],
      "source": [
        "# Might Need to implement the loss function defined in EWC\n",
        "def custom_loss_fn(y_true, y_pred):\n",
        "    squared_difference = tf.square(y_true - y_pred)\n",
        "    return tf.reduce_mean(squared_difference, axis=-1) "
      ]
    },
    {
      "cell_type": "markdown",
      "id": "65b2e05f",
      "metadata": {
        "id": "65b2e05f"
      },
      "source": [
        "## Model 1"
      ]
    },
    {
      "cell_type": "code",
      "execution_count": null,
      "id": "8ffa8b93",
      "metadata": {
        "id": "8ffa8b93"
      },
      "outputs": [],
      "source": [
        "model_1 = tf.keras.models.Sequential([\n",
        "  tf.keras.layers.Flatten(input_shape=(28, 28)),\n",
        "  tf.keras.layers.Dense(400, activation='relu'),\n",
        "  tf.keras.layers.Dense(400, activation='relu'),\n",
        "  tf.keras.layers.Dense(10, activation='softmax')\n",
        "])\n",
        "model_1.compile(\n",
        "    optimizer=tf.keras.optimizers.RMSprop(0.001),\n",
        "    loss=tf.keras.losses.SparseCategoricalCrossentropy(from_logits=True),\n",
        "    metrics=[tf.keras.metrics.SparseCategoricalAccuracy()],\n",
        ")\n",
        "model_1.fit(x_train, \n",
        "            y_train,\n",
        "            batch_size = 32,\n",
        "            epochs = 20,\n",
        "            verbose = True)"
      ]
    },
    {
      "cell_type": "markdown",
      "id": "19b35b6a",
      "metadata": {
        "id": "19b35b6a"
      },
      "source": [
        "## Model 2 - Range Hyperparameters"
      ]
    },
    {
      "cell_type": "code",
      "execution_count": null,
      "id": "88f3c3ad",
      "metadata": {
        "id": "88f3c3ad"
      },
      "outputs": [],
      "source": [
        "model_2 = tf.keras.models.Sequential([\n",
        "  tf.keras.layers.Flatten(input_shape=(28, 28)),\n",
        "  tf.keras.layers.Dropout(0.2),\n",
        "  tf.keras.layers.Dense(1000, activation='relu'),\n",
        "  tf.keras.layers.Dropout(0.5),\n",
        "  tf.keras.layers.Dense(1000, activation='relu'),\n",
        "  tf.keras.layers.Dropout(0.5),\n",
        "  tf.keras.layers.Dense(10, activation='softmax')\n",
        "])\n",
        "model_2.compile(\n",
        "    optimizer=tf.keras.optimizers.RMSprop(0.0001),\n",
        "    loss=tf.keras.losses.SparseCategoricalCrossentropy(from_logits=True),\n",
        "    metrics=[tf.keras.metrics.SparseCategoricalAccuracy()],\n",
        ")\n",
        "model_2.fit(x_train, \n",
        "            y_train,\n",
        "            batch_size = 32,\n",
        "            epochs = 100,\n",
        "            verbose = True\n",
        ")"
      ]
    },
    {
      "cell_type": "markdown",
      "id": "60a5f548",
      "metadata": {
        "id": "60a5f548"
      },
      "source": [
        "## Model 3"
      ]
    },
    {
      "cell_type": "code",
      "execution_count": null,
      "id": "cab2db53",
      "metadata": {
        "id": "cab2db53"
      },
      "outputs": [],
      "source": [
        "model_3 = tf.keras.models.Sequential([\n",
        "  tf.keras.layers.Flatten(input_shape=(28, 28)),\n",
        "  tf.keras.layers.Dense(100, activation='relu'),\n",
        "  tf.keras.layers.Dense(100, activation='relu'),\n",
        "  tf.keras.layers.Dense(100, activation='relu'),\n",
        "  tf.keras.layers.Dense(100, activation='relu'),\n",
        "  tf.keras.layers.Dense(100, activation='relu'),\n",
        "  tf.keras.layers.Dense(100, activation='relu'),\n",
        "  tf.keras.layers.Dense(10, activation='softmax')\n",
        "])\n",
        "model_3.compile(\n",
        "    optimizer=tf.keras.optimizers.RMSprop(0.001),\n",
        "    loss=tf.keras.losses.SparseCategoricalCrossentropy(from_logits=True),\n",
        "    metrics=[tf.keras.metrics.SparseCategoricalAccuracy()],\n",
        ")\n",
        "model_3.fit(x_train, \n",
        "            y_train,\n",
        "            batch_size = 32,\n",
        "            epochs = 100,\n",
        "            verbose = True\n",
        ")"
      ]
    },
    {
      "cell_type": "markdown",
      "id": "a72514b4",
      "metadata": {
        "id": "a72514b4"
      },
      "source": [
        "## Evaluation"
      ]
    },
    {
      "cell_type": "markdown",
      "id": "d16e2037",
      "metadata": {
        "id": "d16e2037"
      },
      "source": [
        "### Select Model"
      ]
    },
    {
      "cell_type": "code",
      "execution_count": null,
      "id": "de29b9f1",
      "metadata": {
        "id": "de29b9f1"
      },
      "outputs": [],
      "source": [
        "model = model_1"
      ]
    },
    {
      "cell_type": "markdown",
      "id": "f765bb9b",
      "metadata": {
        "id": "f765bb9b"
      },
      "source": [
        "### Get Fraction Correct Score"
      ]
    },
    {
      "cell_type": "code",
      "execution_count": null,
      "id": "f48c69bf",
      "metadata": {
        "id": "f48c69bf"
      },
      "outputs": [],
      "source": [
        "y_pred = model.predict(x_test)"
      ]
    },
    {
      "cell_type": "code",
      "execution_count": null,
      "id": "b538d3bb",
      "metadata": {
        "id": "b538d3bb"
      },
      "outputs": [],
      "source": [
        "y_pred = np.argmax(y_pred, axis=1)"
      ]
    },
    {
      "cell_type": "code",
      "execution_count": null,
      "id": "7f42f9ee",
      "metadata": {
        "id": "7f42f9ee"
      },
      "outputs": [],
      "source": [
        "print(y_pred.shape)\n",
        "print(y_test.shape)"
      ]
    },
    {
      "cell_type": "code",
      "execution_count": null,
      "id": "746fd038",
      "metadata": {
        "id": "746fd038"
      },
      "outputs": [],
      "source": [
        "print(y_pred)\n",
        "print(y_test)"
      ]
    },
    {
      "cell_type": "code",
      "execution_count": null,
      "id": "d659519e",
      "metadata": {
        "id": "d659519e"
      },
      "outputs": [],
      "source": [
        "print(metrics.accuracy_score(y_test, y_pred))"
      ]
    },
    {
      "cell_type": "code",
      "execution_count": null,
      "id": "8e2a6322",
      "metadata": {
        "id": "8e2a6322"
      },
      "outputs": [],
      "source": [
        "np.unique(y_train, return_counts=True)"
      ]
    },
    {
      "cell_type": "code",
      "execution_count": null,
      "id": "f22ea913",
      "metadata": {
        "id": "f22ea913"
      },
      "outputs": [],
      "source": [
        "!pip install torchvision"
      ]
    },
    {
      "cell_type": "markdown",
      "id": "94b773f4",
      "metadata": {
        "id": "94b773f4"
      },
      "source": [
        "# Training Environment"
      ]
    },
    {
      "cell_type": "code",
      "execution_count": null,
      "id": "577dc8ad",
      "metadata": {
        "id": "577dc8ad"
      },
      "outputs": [],
      "source": [
        "(x_train, y_train), (x_test, y_test) = mnist.load_data()\n",
        "x_train = x_train/255.0\n",
        "x_test = x_test/255.0"
      ]
    },
    {
      "cell_type": "code",
      "execution_count": null,
      "id": "919c06e3",
      "metadata": {
        "id": "919c06e3"
      },
      "outputs": [],
      "source": [
        "from torchvision import datasets,transforms"
      ]
    },
    {
      "cell_type": "markdown",
      "id": "DQhiuFH__B23",
      "metadata": {
        "id": "DQhiuFH__B23"
      },
      "source": [
        "## Data_loading module"
      ]
    },
    {
      "cell_type": "code",
      "execution_count": null,
      "id": "x1Bl1M5h_FZL",
      "metadata": {
        "id": "x1Bl1M5h_FZL"
      },
      "outputs": [],
      "source": [
        "import numpy as np\n",
        "from torchvision import datasets,transforms\n",
        "from torch.utils.data import Dataset\n",
        "\n",
        "\n",
        "def permutate_image_pixels(image, permutation):\n",
        "    '''Permutate the pixels of an image according to [permutation].\n",
        "    [image]         3D-tensor containing the image\n",
        "    [permutation]   <ndarray> of pixel-indeces in their new order'''\n",
        "\n",
        "    if permutation is None:\n",
        "        return image\n",
        "    else:\n",
        "        c, h, w = image.size()\n",
        "        image = image.view(c, -1)\n",
        "        image = image[:, permutation[1]]  #--> same permutation for each channel\n",
        "        image = image.view(c, h, w)\n",
        "        return image\n",
        "\n",
        "class TransformedDataset(Dataset):\n",
        "    '''To modify an existing dataset with a transform.\n",
        "    This is useful for creating different permutations of MNIST without loading the data multiple times.'''\n",
        "\n",
        "    def __init__(self, original_dataset, transform=None, target_transform=None):\n",
        "        super().__init__()\n",
        "        self.dataset = original_dataset\n",
        "        self.transform = transform\n",
        "        self.target_transform = target_transform\n",
        "\n",
        "    def __len__(self):\n",
        "        return len(self.dataset)\n",
        "\n",
        "    def __getitem__(self, index):\n",
        "        (input, target) = self.dataset[index]\n",
        "        if self.transform:\n",
        "            input = self.transform(input)\n",
        "        if self.target_transform:\n",
        "            target = self.target_transform(target)\n",
        "        return (input, target)\n",
        "\n",
        "def permute_train_test_data(mnist_trainset, mnist_testset) :\n",
        "        # get train and test datasets\n",
        "        # generate pixel-permutations\n",
        "        np.random.seed(10)\n",
        "        permutations = [np.random.permutation(32**2) for _ in range(10)]\n",
        "        # print(permutations)\n",
        "        # specify transformed datasets per context\n",
        "        train_datasets = []\n",
        "        test_datasets = []\n",
        "        for perm in enumerate(permutations):\n",
        "            target_transform = None\n",
        "            train_datasets.append(TransformedDataset(\n",
        "                mnist_trainset, transform=transforms.Lambda(lambda x, p=perm: permutate_image_pixels(x, p)),\n",
        "                target_transform=target_transform\n",
        "            ))\n",
        "            test_datasets.append(TransformedDataset(\n",
        "                mnist_testset, transform=transforms.Lambda(lambda x, p=perm: permutate_image_pixels(x, p)),\n",
        "                target_transform=target_transform\n",
        "            ))\n",
        "\n",
        "        return train_datasets, test_datasets\n",
        "\n",
        "\n",
        "\n"
      ]
    },
    {
      "cell_type": "markdown",
      "id": "CZeUiYFLCdJJ",
      "metadata": {
        "id": "CZeUiYFLCdJJ"
      },
      "source": [
        "## Data Loading, Transformations and Permutation"
      ]
    },
    {
      "cell_type": "code",
      "execution_count": null,
      "id": "e7448446",
      "metadata": {
        "id": "e7448446"
      },
      "outputs": [],
      "source": [
        "dataset_tranforms = transforms.Compose([\n",
        "        transforms.Pad(2),\n",
        "        transforms.ToTensor(),\n",
        "    ]\n",
        ")"
      ]
    },
    {
      "cell_type": "code",
      "execution_count": null,
      "id": "ca1c3d46",
      "metadata": {
        "colab": {
          "base_uri": "https://localhost:8080/",
          "height": 431,
          "referenced_widgets": [
            "6c3a1b3b30e947848ab3b841d7c1b246",
            "508b1948319d4f36bc4c0b541e670860",
            "c4c113bdc9ac44438c50c2e4ae9cec1f",
            "a46295ccb13f41c88e4aa8c77bd20d88",
            "d7077592bb42495db039a7d3d76c4afb",
            "5d2cd9a3f4cb49ed84d1a325536eb073",
            "5038124e0ec64a609fb77d3b13feb937",
            "6aa7466e5b414455b6a20c61d35aa71d",
            "77ad76cc7f294f3badf4a109f8eb5155",
            "8360d2f336084bbb9856387519eb12b1",
            "7b200f46cff3413987382a57b61e7acf",
            "fa18d81095674e6f9711894526102624",
            "06deb56c44894bfc8002bc66a0e42b00",
            "e19089bd676948df9814fe0a83de38d8",
            "ac94651f6d0546d2a510654fa2b84162",
            "f060fbb5fe364ef1a72f6eaa6112b0bb",
            "2bd58a0ea5034841a4955e8a4301c79c",
            "7e76c1617dff4785a45d4576ea436daf",
            "e9b3f711ef3649c7bbb842d8e132d36c",
            "06c1c6a7a69f47e08ccc5632075c5eee",
            "5af6de83ffde48df908c800c763a520c",
            "3178e273361647c29f48c5565f0c4ad2",
            "ba340d1e0b5b4b72b298da3826a1f2ff",
            "d47aff8831f44792b52468c1747c7fc9",
            "709c0b2017584f2d92bf3e3f97b43eed",
            "37ae7828a79143919ba3f25a429e5d4b",
            "004df9ceaaf849b9b947c2881d2deee3",
            "13033fe816c34055804f252adeb77a29",
            "0a0a407a759d49c68029c3413042e140",
            "efaff4365a6c40ca97bfb742b269cc82",
            "4a75bea42c5641b9b56cd5f711c7b06a",
            "de5d0fff14c5493793bd5fbed13489b8",
            "f6a38134a24142a4acec2bc48facab2e",
            "6084340b89714d7ab1f3df4f1eed0e9a",
            "f46e733e62d74491bbae97efbff9a60e",
            "c8db46ab83534f328934528356ac540a",
            "cca9876642484b329e60fd62859fbe3b",
            "4afd03e98b834eba8e928dd2c7826550",
            "7bdd679a86ea4fca9c2258bfcd9f6baf",
            "af10b09f6dcf48e4a10b920843096c2a",
            "24402dc5b1ca4ba382df5a81cc8f5ec7",
            "fa655db548f44f9d8a37fac91a441aa7",
            "af4e64514deb4717b4dca2dca6ec74ca",
            "3d0380e06c62463a898588c5c42afb6a"
          ]
        },
        "id": "ca1c3d46",
        "outputId": "04aa4781-61aa-4c53-8ab1-b672716db9eb"
      },
      "outputs": [
        {
          "output_type": "stream",
          "name": "stdout",
          "text": [
            "Downloading http://yann.lecun.com/exdb/mnist/train-images-idx3-ubyte.gz\n",
            "Downloading http://yann.lecun.com/exdb/mnist/train-images-idx3-ubyte.gz to ./data/MNIST/raw/train-images-idx3-ubyte.gz\n"
          ]
        },
        {
          "output_type": "display_data",
          "data": {
            "text/plain": [
              "  0%|          | 0/9912422 [00:00<?, ?it/s]"
            ],
            "application/vnd.jupyter.widget-view+json": {
              "version_major": 2,
              "version_minor": 0,
              "model_id": "6c3a1b3b30e947848ab3b841d7c1b246"
            }
          },
          "metadata": {}
        },
        {
          "output_type": "stream",
          "name": "stdout",
          "text": [
            "Extracting ./data/MNIST/raw/train-images-idx3-ubyte.gz to ./data/MNIST/raw\n",
            "\n",
            "Downloading http://yann.lecun.com/exdb/mnist/train-labels-idx1-ubyte.gz\n",
            "Downloading http://yann.lecun.com/exdb/mnist/train-labels-idx1-ubyte.gz to ./data/MNIST/raw/train-labels-idx1-ubyte.gz\n"
          ]
        },
        {
          "output_type": "display_data",
          "data": {
            "text/plain": [
              "  0%|          | 0/28881 [00:00<?, ?it/s]"
            ],
            "application/vnd.jupyter.widget-view+json": {
              "version_major": 2,
              "version_minor": 0,
              "model_id": "fa18d81095674e6f9711894526102624"
            }
          },
          "metadata": {}
        },
        {
          "output_type": "stream",
          "name": "stdout",
          "text": [
            "Extracting ./data/MNIST/raw/train-labels-idx1-ubyte.gz to ./data/MNIST/raw\n",
            "\n",
            "Downloading http://yann.lecun.com/exdb/mnist/t10k-images-idx3-ubyte.gz\n",
            "Downloading http://yann.lecun.com/exdb/mnist/t10k-images-idx3-ubyte.gz to ./data/MNIST/raw/t10k-images-idx3-ubyte.gz\n"
          ]
        },
        {
          "output_type": "display_data",
          "data": {
            "text/plain": [
              "  0%|          | 0/1648877 [00:00<?, ?it/s]"
            ],
            "application/vnd.jupyter.widget-view+json": {
              "version_major": 2,
              "version_minor": 0,
              "model_id": "ba340d1e0b5b4b72b298da3826a1f2ff"
            }
          },
          "metadata": {}
        },
        {
          "output_type": "stream",
          "name": "stdout",
          "text": [
            "Extracting ./data/MNIST/raw/t10k-images-idx3-ubyte.gz to ./data/MNIST/raw\n",
            "\n",
            "Downloading http://yann.lecun.com/exdb/mnist/t10k-labels-idx1-ubyte.gz\n",
            "Downloading http://yann.lecun.com/exdb/mnist/t10k-labels-idx1-ubyte.gz to ./data/MNIST/raw/t10k-labels-idx1-ubyte.gz\n"
          ]
        },
        {
          "output_type": "display_data",
          "data": {
            "text/plain": [
              "  0%|          | 0/4542 [00:00<?, ?it/s]"
            ],
            "application/vnd.jupyter.widget-view+json": {
              "version_major": 2,
              "version_minor": 0,
              "model_id": "6084340b89714d7ab1f3df4f1eed0e9a"
            }
          },
          "metadata": {}
        },
        {
          "output_type": "stream",
          "name": "stdout",
          "text": [
            "Extracting ./data/MNIST/raw/t10k-labels-idx1-ubyte.gz to ./data/MNIST/raw\n",
            "\n"
          ]
        }
      ],
      "source": [
        "mnist_trainset = datasets.MNIST(root='./data', train=True, download=True, transform=dataset_tranforms)\n",
        "mnist_testset = datasets.MNIST(root='./data', train=False, download=True, transform=dataset_tranforms)"
      ]
    },
    {
      "cell_type": "code",
      "execution_count": null,
      "id": "00e3dc09",
      "metadata": {
        "id": "00e3dc09"
      },
      "outputs": [],
      "source": [
        "training_permutations , test_permutations = permute_train_test_data((mnist_trainset),\n",
        "                                                                    (mnist_testset))"
      ]
    },
    {
      "cell_type": "markdown",
      "id": "OIhma_AjCklF",
      "metadata": {
        "id": "OIhma_AjCklF"
      },
      "source": [
        "## Power Law Sampling "
      ]
    },
    {
      "cell_type": "code",
      "execution_count": null,
      "id": "6cde2e8f",
      "metadata": {
        "id": "6cde2e8f"
      },
      "outputs": [],
      "source": [
        "power_law_sampling = [57927,\n",
        "44078,\n",
        "33969,\n",
        "26483,\n",
        "20867,\n",
        "16603,\n",
        "13329,\n",
        "10790,\n",
        "8802,\n",
        "7232,\n",
        "5981,\n",
        "4978,\n",
        "4167,\n",
        "3508,\n",
        "2968,\n",
        "2523,\n",
        "2155,\n",
        "1849,\n",
        "1592,\n",
        "1377,\n",
        "1195]\n",
        "MAX_TASK_EXAMPLES = 57927\n",
        "MIN_TASK_EXAMPLES = 1195\n",
        "NUM_TASKS = 10"
      ]
    },
    {
      "cell_type": "code",
      "source": [
        "DOWNSAMPLE = 1\n",
        "power_law_sampling[:] = [x//DOWNSAMPLE for x in power_law_sampling]\n",
        "MAX_TASK_EXAMPLES//=DOWNSAMPLE\n",
        "MIN_TASK_EXAMPLES//=DOWNSAMPLE"
      ],
      "metadata": {
        "id": "Qh1DTnvhSifv"
      },
      "id": "Qh1DTnvhSifv",
      "execution_count": null,
      "outputs": []
    },
    {
      "cell_type": "code",
      "execution_count": null,
      "id": "3244c657",
      "metadata": {
        "colab": {
          "base_uri": "https://localhost:8080/",
          "height": 285
        },
        "id": "3244c657",
        "outputId": "92f35b97-2271-4165-faa1-2244ab22c6f5"
      },
      "outputs": [
        {
          "output_type": "execute_result",
          "data": {
            "text/plain": [
              "[<matplotlib.lines.Line2D at 0x7f78575eadc0>]"
            ]
          },
          "metadata": {},
          "execution_count": 27
        },
        {
          "output_type": "display_data",
          "data": {
            "text/plain": [
              "<Figure size 432x288 with 1 Axes>"
            ],
            "image/png": "[encoded data removed]"
          },
          "metadata": {
            "needs_background": "light"
          }
        }
      ],
      "source": [
        "plt.plot([*range(20,41,1)], power_law_sampling)"
      ]
    },
    {
      "cell_type": "code",
      "execution_count": null,
      "id": "cad79c17",
      "metadata": {
        "colab": {
          "base_uri": "https://localhost:8080/",
          "height": 299
        },
        "id": "cad79c17",
        "outputId": "735ace82-144d-449e-ded6-a77f6061dfca"
      },
      "outputs": [
        {
          "output_type": "execute_result",
          "data": {
            "text/plain": [
              "Text(0.5, 1.0, 'LOG-LOG Plot')"
            ]
          },
          "metadata": {},
          "execution_count": 28
        },
        {
          "output_type": "display_data",
          "data": {
            "text/plain": [
              "<Figure size 432x288 with 1 Axes>"
            ],
            "image/png": "[encoded data removed]"
          },
          "metadata": {
            "needs_background": "light"
          }
        }
      ],
      "source": [
        "plt.plot(np.log2([*range(20,41,1)]), np.log2(power_law_sampling))\n",
        "plt.title(\"LOG-LOG Plot\")"
      ]
    },
    {
      "cell_type": "markdown",
      "id": "ac585afc",
      "metadata": {
        "id": "ac585afc"
      },
      "source": [
        "## Skip Alternate Policy"
      ]
    },
    {
      "cell_type": "code",
      "execution_count": null,
      "id": "44e0a7a1",
      "metadata": {
        "colab": {
          "base_uri": "https://localhost:8080/"
        },
        "id": "44e0a7a1",
        "outputId": "2b8d0170-731b-4b48-b863-c9787a417d2d"
      },
      "outputs": [
        {
          "output_type": "execute_result",
          "data": {
            "text/plain": [
              "[57927, 33969, 20867, 13329, 8802, 5981, 4167, 2968, 2155, 1592]"
            ]
          },
          "metadata": {},
          "execution_count": 29
        }
      ],
      "source": [
        "freq_vector = []\n",
        "for idx in range(0,20,2):\n",
        "    freq_vector.append(power_law_sampling[idx])\n",
        "freq_vector"
      ]
    },
    {
      "cell_type": "code",
      "execution_count": null,
      "id": "02bbc057",
      "metadata": {
        "id": "02bbc057"
      },
      "outputs": [],
      "source": [
        "phase_task_freq_count = np.zeros((NUM_TASKS,NUM_TASKS)) \n",
        "for row in range(NUM_TASKS):\n",
        "    phase_task_freq_count[row,:]+=freq_vector\n",
        "    freq_vector.insert(0, 0)\n",
        "    freq_vector.pop()"
      ]
    },
    {
      "cell_type": "code",
      "execution_count": null,
      "id": "8968a64a",
      "metadata": {
        "colab": {
          "base_uri": "https://localhost:8080/"
        },
        "id": "8968a64a",
        "outputId": "f1da9af5-9d7c-4ad5-a1b1-9f26b1c12307"
      },
      "outputs": [
        {
          "output_type": "execute_result",
          "data": {
            "text/plain": [
              "array([[57927., 33969., 20867., 13329.,  8802.,  5981.,  4167.,  2968.,\n",
              "         2155.,  1592.],\n",
              "       [    0., 57927., 33969., 20867., 13329.,  8802.,  5981.,  4167.,\n",
              "         2968.,  2155.],\n",
              "       [    0.,     0., 57927., 33969., 20867., 13329.,  8802.,  5981.,\n",
              "         4167.,  2968.],\n",
              "       [    0.,     0.,     0., 57927., 33969., 20867., 13329.,  8802.,\n",
              "         5981.,  4167.],\n",
              "       [    0.,     0.,     0.,     0., 57927., 33969., 20867., 13329.,\n",
              "         8802.,  5981.],\n",
              "       [    0.,     0.,     0.,     0.,     0., 57927., 33969., 20867.,\n",
              "        13329.,  8802.],\n",
              "       [    0.,     0.,     0.,     0.,     0.,     0., 57927., 33969.,\n",
              "        20867., 13329.],\n",
              "       [    0.,     0.,     0.,     0.,     0.,     0.,     0., 57927.,\n",
              "        33969., 20867.],\n",
              "       [    0.,     0.,     0.,     0.,     0.,     0.,     0.,     0.,\n",
              "        57927., 33969.],\n",
              "       [    0.,     0.,     0.,     0.,     0.,     0.,     0.,     0.,\n",
              "            0., 57927.]])"
            ]
          },
          "metadata": {},
          "execution_count": 31
        }
      ],
      "source": [
        "phase_task_freq_count"
      ]
    },
    {
      "cell_type": "code",
      "execution_count": null,
      "id": "9b303081",
      "metadata": {
        "colab": {
          "base_uri": "https://localhost:8080/"
        },
        "id": "9b303081",
        "outputId": "0683765d-0394-4ffb-badf-5f3a2646a142"
      },
      "outputs": [
        {
          "output_type": "execute_result",
          "data": {
            "text/plain": [
              "array([[1.        , 0.36963761, 0.18502554, 0.10569647, 0.06525801,\n",
              "        0.04242631, 0.02871328, 0.02002919, 0.0143468 , 0.01047928],\n",
              "       [0.        , 0.63036239, 0.30124521, 0.165469  , 0.09879893,\n",
              "        0.06248935, 0.04120811, 0.02813818, 0.01974184, 0.01419646],\n",
              "       [0.        , 0.        , 0.51372925, 0.26940465, 0.15467082,\n",
              "        0.09460726, 0.06069508, 0.04038274, 0.02773448, 0.01953496],\n",
              "       [0.        , 0.        , 0.        , 0.45942988, 0.25182384,\n",
              "        0.14810871, 0.09189077, 0.0594794 , 0.03980338, 0.02744385],\n",
              "       [0.        , 0.        , 0.        , 0.        , 0.4294484 ,\n",
              "        0.24113989, 0.14385602, 0.09005028, 0.05862606, 0.03938627],\n",
              "       [0.        , 0.        , 0.        , 0.        , 0.        ,\n",
              "        0.41122849, 0.23421597, 0.1409747 , 0.08875834, 0.05801171],\n",
              "       [0.        , 0.        , 0.        , 0.        , 0.        ,\n",
              "        0.        , 0.39942077, 0.22952481, 0.13895216, 0.08782822],\n",
              "       [0.        , 0.        , 0.        , 0.        , 0.        ,\n",
              "        0.        , 0.        , 0.39142069, 0.22623187, 0.13749605],\n",
              "       [0.        , 0.        , 0.        , 0.        , 0.        ,\n",
              "        0.        , 0.        , 0.        , 0.38580506, 0.22386112],\n",
              "       [0.        , 0.        , 0.        , 0.        , 0.        ,\n",
              "        0.        , 0.        , 0.        , 0.        , 0.3817621 ]])"
            ]
          },
          "metadata": {},
          "execution_count": 17
        }
      ],
      "source": [
        "phase_task_freq_frac=phase_task_freq_count/np.sum(phase_task_freq_count, axis=0)\n",
        "phase_task_freq_frac"
      ]
    },
    {
      "cell_type": "markdown",
      "id": "SvV1uPTs_UcQ",
      "metadata": {
        "id": "SvV1uPTs_UcQ"
      },
      "source": [
        "### Creating Unified Testing Dataset for each phase"
      ]
    },
    {
      "cell_type": "code",
      "execution_count": null,
      "id": "Ua6Wprh3AA-O",
      "metadata": {
        "id": "Ua6Wprh3AA-O"
      },
      "outputs": [],
      "source": [
        "from torch.utils.data import ConcatDataset\n",
        "import torch"
      ]
    },
    {
      "cell_type": "markdown",
      "source": [
        "### Power Law Distirbuted Training Environment"
      ],
      "metadata": {
        "id": "DzLTXE1fvEwh"
      },
      "id": "DzLTXE1fvEwh"
    },
    {
      "cell_type": "code",
      "execution_count": null,
      "id": "evduXvB6-lDo",
      "metadata": {
        "id": "evduXvB6-lDo"
      },
      "outputs": [],
      "source": [
        "training_environments = []\n",
        "np.random.seed(10)\n",
        "MAX_TASK_EXAMPLES = 60000\n",
        "# NUM_PHASES = NUM_TASKS\n",
        "for phase in range(NUM_TASKS): \n",
        "    phase_training = []\n",
        "    for task in range(NUM_TASKS):\n",
        "        num_ele_to_pick = phase_task_freq_count[task,phase]\n",
        "        selected_indices = np.random.choice([*range(int(MAX_TASK_EXAMPLES)+1)], int(num_ele_to_pick), replace=False)\n",
        "        task_subset = torch.utils.data.Subset(training_permutations[task], selected_indices)\n",
        "        phase_training.append(task_subset)\n",
        "    final_phase_dataset = ConcatDataset(phase_training)\n",
        "    training_environments.append(final_phase_dataset)\n"
      ]
    },
    {
      "cell_type": "code",
      "execution_count": null,
      "id": "31376bc9",
      "metadata": {
        "colab": {
          "base_uri": "https://localhost:8080/",
          "height": 895
        },
        "id": "31376bc9",
        "outputId": "cfba6e1d-60c0-4218-b1b0-1d1c96bdeb74"
      },
      "outputs": [
        {
          "output_type": "stream",
          "name": "stdout",
          "text": [
            "10\n",
            "Training environment size for task  1 is : 9654\n",
            "Training environment size for task  2 is : 15315\n",
            "Training environment size for task  3 is : 18792\n",
            "Training environment size for task  4 is : 21013\n",
            "Training environment size for task  5 is : 22480\n",
            "Training environment size for task  6 is : 23476\n",
            "Training environment size for task  7 is : 24170\n",
            "Training environment size for task  8 is : 24664\n",
            "Training environment size for task  9 is : 25023\n",
            "Training environment size for task  10 is : 25288\n"
          ]
        },
        {
          "output_type": "display_data",
          "data": {
            "text/plain": [
              "<Figure size 864x864 with 10 Axes>"
            ],
            "image/png": "[encoded data removed]"
          },
          "metadata": {
            "needs_background": "light"
          }
        }
      ],
      "source": [
        "print(len(training_environments))\n",
        "figure = plt.figure(figsize=(12, 12))\n",
        "cols, rows = 2, 5\n",
        "for i in range(1,NUM_TASKS+1):\n",
        "  print(\"Training environment size for task \", i , \"is :\", len(training_environments[i-1]))\n",
        "  img, label = training_permutations[i-1][(len(training_environments[i-1])-1)]\n",
        "  figure.add_subplot(rows, cols, i)\n",
        "  plt.axis(\"off\")\n",
        "  plt.imshow(img.squeeze(), cmap=\"gray\")\n",
        "  plt.title(\"Task \" +str(i) + \", Label \" + str(label))\n",
        "plt.show()"
      ]
    },
    {
      "cell_type": "markdown",
      "source": [
        "### SGD (Lower Baseline) Training Environment"
      ],
      "metadata": {
        "id": "zhTIsEYuvMW_"
      },
      "id": "zhTIsEYuvMW_"
    },
    {
      "cell_type": "code",
      "execution_count": null,
      "id": "6f0f62b6",
      "metadata": {
        "id": "6f0f62b6"
      },
      "outputs": [],
      "source": [
        "SGD_training_environments = []\n",
        "np.random.seed(10)\n",
        "MAX_TASK_EXAMPLES = 60000\n",
        "# NUM_PHASES = NUM_TASKS\n",
        "num_ele_to_pick = phase_task_freq_count[0,0] # to select only new task uniformly \n",
        "for phase in range(NUM_TASKS): \n",
        "    phase_training = []\n",
        "    selected_indices = np.random.choice([*range(int(MAX_TASK_EXAMPLES)+1)], int(num_ele_to_pick), replace=False)\n",
        "    new_task = phase # only new task for each phase\n",
        "    task_subset = torch.utils.data.Subset(training_permutations[new_task], selected_indices)\n",
        "    phase_training.append(task_subset)\n",
        "    final_phase_dataset = ConcatDataset(phase_training)\n",
        "    SGD_training_environments.append(final_phase_dataset)"
      ]
    },
    {
      "cell_type": "code",
      "source": [
        "print(len(SGD_training_environments))\n",
        "figure = plt.figure(figsize=(10, 10))\n",
        "cols, rows = 2, 5\n",
        "for i in range(1,NUM_TASKS+1):\n",
        "  print(\"Training environment size for task \", i , \"is :\", len(SGD_training_environments[i-1]))\n",
        "  img, label = training_permutations[i-1][0]\n",
        "  figure.add_subplot(rows, cols, i)\n",
        "  plt.axis(\"off\")\n",
        "  plt.imshow(img.squeeze(), cmap=\"gray\")\n",
        "plt.show()"
      ],
      "metadata": {
        "colab": {
          "base_uri": "https://localhost:8080/",
          "height": 771
        },
        "id": "0ru8tRuUyRzc",
        "outputId": "86400fd1-0bb4-4885-c0e3-3b5d05db7423"
      },
      "id": "0ru8tRuUyRzc",
      "execution_count": null,
      "outputs": [
        {
          "output_type": "stream",
          "name": "stdout",
          "text": [
            "10\n",
            "Training environment size for task  1 is : 9654\n",
            "Training environment size for task  2 is : 9654\n",
            "Training environment size for task  3 is : 9654\n",
            "Training environment size for task  4 is : 9654\n",
            "Training environment size for task  5 is : 9654\n",
            "Training environment size for task  6 is : 9654\n",
            "Training environment size for task  7 is : 9654\n",
            "Training environment size for task  8 is : 9654\n",
            "Training environment size for task  9 is : 9654\n",
            "Training environment size for task  10 is : 9654\n"
          ]
        },
        {
          "output_type": "display_data",
          "data": {
            "text/plain": [
              "<Figure size 720x720 with 10 Axes>"
            ],
            "image/png": "[encoded data removed]"
          },
          "metadata": {
            "needs_background": "light"
          }
        }
      ]
    },
    {
      "cell_type": "markdown",
      "source": [
        "### Upper Baseline Training Environment"
      ],
      "metadata": {
        "id": "6W_ng5B1yikQ"
      },
      "id": "6W_ng5B1yikQ"
    },
    {
      "cell_type": "code",
      "source": [
        "UBL_training_environments = []\n",
        "np.random.seed(10)\n",
        "MAX_TASK_EXAMPLES = 60000\n",
        "num_ele_to_pick = phase_task_freq_count[0,0]\n",
        "# NUM_PHASES = NUM_TASKS\n",
        "for phase in range(1): # only 1 phase is enough for upper baseline\n",
        "    phase_training = []\n",
        "    for task in range(NUM_TASKS):\n",
        "        selected_indices = np.random.choice([*range(int(MAX_TASK_EXAMPLES)+1)], int(num_ele_to_pick), replace=False)\n",
        "        task_subset = torch.utils.data.Subset(training_permutations[task], selected_indices)\n",
        "        phase_training.append(task_subset)\n",
        "    final_phase_dataset = ConcatDataset(phase_training)\n",
        "    UBL_training_environments.append(final_phase_dataset)\n"
      ],
      "metadata": {
        "id": "lUKbIlfFySLL"
      },
      "id": "lUKbIlfFySLL",
      "execution_count": null,
      "outputs": []
    },
    {
      "cell_type": "code",
      "source": [
        "print(len(UBL_training_environments))\n",
        "figure = plt.figure(figsize=(10, 10))\n",
        "cols, rows = 2, 5\n",
        "for i in range(len(UBL_training_environments)):\n",
        "  print(\"Training environment size for task \", i , \"is :\", len(UBL_training_environments[i-1]))\n",
        "#   img, label = training_permutations[i-1][0]\n",
        "#   figure.add_subplot(rows, cols, i)\n",
        "#   plt.axis(\"off\")\n",
        "#   plt.imshow(img.squeeze(), cmap=\"gray\")\n",
        "# plt.show()"
      ],
      "metadata": {
        "colab": {
          "base_uri": "https://localhost:8080/",
          "height": 71
        },
        "id": "RF-vf3x1zKkm",
        "outputId": "b0999d1f-c2eb-4952-eea9-275ac93aa5a6"
      },
      "id": "RF-vf3x1zKkm",
      "execution_count": null,
      "outputs": [
        {
          "output_type": "stream",
          "name": "stdout",
          "text": [
            "1\n",
            "Training environment size for task  0 is : 96540\n"
          ]
        },
        {
          "output_type": "display_data",
          "data": {
            "text/plain": [
              "<Figure size 720x720 with 0 Axes>"
            ]
          },
          "metadata": {}
        }
      ]
    },
    {
      "cell_type": "code",
      "source": [
        "from torch.utils.data import ConcatDataset\n",
        "import torch\n",
        "\n",
        "def get_all_training_environments():\n",
        "  dataset_tranforms = transforms.Compose([\n",
        "          transforms.Pad(2),\n",
        "          transforms.ToTensor(),\n",
        "      ]\n",
        "  )\n",
        "\n",
        "\n",
        "  # In[7]:\n",
        "\n",
        "\n",
        "  mnist_trainset = datasets.MNIST(root='./data', train=True, download=True, transform=dataset_tranforms)\n",
        "  mnist_testset = datasets.MNIST(root='./data', train=False, download=True, transform=dataset_tranforms)\n",
        "\n",
        "\n",
        "  # In[8]:\n",
        "\n",
        "\n",
        "  training_permutations , test_permutations = permute_train_test_data((mnist_trainset),\n",
        "                                                                      (mnist_testset))\n",
        "\n",
        "\n",
        "  # ## Power Law Sampling \n",
        "\n",
        "  # In[9]:\n",
        "\n",
        "\n",
        "  power_law_sampling = [57927,\n",
        "  44078,\n",
        "  33969,\n",
        "  26483,\n",
        "  20867,\n",
        "  16603,\n",
        "  13329,\n",
        "  10790,\n",
        "  8802,\n",
        "  7232,\n",
        "  5981,\n",
        "  4978,\n",
        "  4167,\n",
        "  3508,\n",
        "  2968,\n",
        "  2523,\n",
        "  2155,\n",
        "  1849,\n",
        "  1592,\n",
        "  1377,\n",
        "  1195]\n",
        "  MAX_TASK_EXAMPLES = 57927\n",
        "  MIN_TASK_EXAMPLES = 1195\n",
        "  NUM_TASKS = 10\n",
        "\n",
        "  DOWNSAMPLE = 6\n",
        "  power_law_sampling[:] = [x//DOWNSAMPLE for x in power_law_sampling]\n",
        "  MAX_TASK_EXAMPLES//=DOWNSAMPLE\n",
        "  MIN_TASK_EXAMPLES//=DOWNSAMPLE\n",
        "\n",
        "\n",
        "  # ## Skip Alternate Policy\n",
        "\n",
        "  # In[12]:\n",
        "\n",
        "\n",
        "  freq_vector = []\n",
        "  for idx in range(0,20,2):\n",
        "      freq_vector.append(power_law_sampling[idx])\n",
        "  freq_vector\n",
        "\n",
        "\n",
        "  # In[13]:\n",
        "\n",
        "\n",
        "  phase_task_freq_count = np.zeros((NUM_TASKS,NUM_TASKS)) \n",
        "  for row in range(NUM_TASKS):\n",
        "      phase_task_freq_count[row,:]+=freq_vector\n",
        "      freq_vector.insert(0, 0)\n",
        "      freq_vector.pop()\n",
        "\n",
        "\n",
        "  # In[14]:\n",
        "\n",
        "\n",
        "  phase_task_freq_count\n",
        "\n",
        "\n",
        "  # In[15]:\n",
        "\n",
        "\n",
        "  phase_task_freq_frac=phase_task_freq_count/np.sum(phase_task_freq_count, axis=0)\n",
        "  phase_task_freq_frac\n",
        "\n",
        "\n",
        "  # ### Creating Unified Testing Dataset for each phase\n",
        "\n",
        "  # In[16]:\n",
        "\n",
        "\n",
        "\n",
        "  # ### Power Law Distirbuted Training Environment\n",
        "\n",
        "  # In[17]:\n",
        "\n",
        "\n",
        "  training_environments = []\n",
        "  np.random.seed(10)\n",
        "  MAX_TASK_EXAMPLES = 60000\n",
        "  # NUM_PHASES = NUM_TASKS\n",
        "  for phase in range(NUM_TASKS): \n",
        "      phase_training = []\n",
        "      for task in range(NUM_TASKS):\n",
        "          num_ele_to_pick = phase_task_freq_count[task,phase]\n",
        "          selected_indices = np.random.choice([*range(int(MAX_TASK_EXAMPLES)+1)], int(num_ele_to_pick), replace=False)\n",
        "          task_subset = torch.utils.data.Subset(training_permutations[task], selected_indices)\n",
        "          phase_training.append(task_subset)\n",
        "      final_phase_dataset = ConcatDataset(phase_training)\n",
        "      training_environments.append(final_phase_dataset)\n",
        "\n",
        "\n",
        "  # In[18]:\n",
        "\n",
        "\n",
        "  print(len(training_environments))\n",
        "  for i in range(1,NUM_TASKS+1):\n",
        "    print(\"Training environment size for task \", i , \"is :\", len(training_environments[i-1]))\n",
        "\n",
        "\n",
        "  # ### SGD (Lower Baseline) Training Environment\n",
        "\n",
        "  # In[25]:\n",
        "\n",
        "\n",
        "  SGD_training_environments = []\n",
        "  np.random.seed(10)\n",
        "  MAX_TASK_EXAMPLES = 60000\n",
        "  # NUM_PHASES = NUM_TASKS\n",
        "  num_ele_to_pick = phase_task_freq_count[0,0] # to select only new task uniformly \n",
        "  for phase in range(NUM_TASKS): \n",
        "      phase_training = []\n",
        "      selected_indices = np.random.choice([*range(int(MAX_TASK_EXAMPLES)+1)], int(num_ele_to_pick), replace=False)\n",
        "      new_task = phase # only new task for each phase\n",
        "      task_subset = torch.utils.data.Subset(training_permutations[new_task], selected_indices)\n",
        "      phase_training.append(task_subset)\n",
        "      final_phase_dataset = ConcatDataset(phase_training)\n",
        "      SGD_training_environments.append(final_phase_dataset)\n",
        "\n",
        "\n",
        "  # In[26]:\n",
        "\n",
        "\n",
        "  print(len(SGD_training_environments))\n",
        "  for i in range(1,NUM_TASKS+1):\n",
        "    print(\"Training environment size for task \", i , \"is :\", len(SGD_training_environments[i-1]))\n",
        "\n",
        "\n",
        "  # ### Upper Baseline Training Environment\n",
        "\n",
        "  # In[27]:\n",
        "\n",
        "\n",
        "  UBL_training_environments = []\n",
        "  np.random.seed(10)\n",
        "  MAX_TASK_EXAMPLES = 60000\n",
        "  num_ele_to_pick = phase_task_freq_count[0,0]\n",
        "  # NUM_PHASES = NUM_TASKS\n",
        "  for phase in range(1): # only 1 phase is enough for upper baseline\n",
        "      phase_training = []\n",
        "      for task in range(NUM_TASKS):\n",
        "          selected_indices = np.random.choice([*range(int(MAX_TASK_EXAMPLES)+1)], int(num_ele_to_pick), replace=False)\n",
        "          task_subset = torch.utils.data.Subset(training_permutations[task], selected_indices)\n",
        "          phase_training.append(task_subset)\n",
        "      final_phase_dataset = ConcatDataset(phase_training)\n",
        "      UBL_training_environments.append(final_phase_dataset)\n",
        "\n",
        "\n",
        "  # In[32]:\n",
        "\n",
        "\n",
        "  print(len(UBL_training_environments))\n",
        "  for i in range(len(UBL_training_environments)):\n",
        "    print(\"Training environment size for task \", i , \"is :\", len(UBL_training_environments[i-1]))\n",
        "\n",
        "  return training_environments, SGD_training_environments, UBL_training_environments"
      ],
      "metadata": {
        "id": "osTv55F1zMtT"
      },
      "id": "osTv55F1zMtT",
      "execution_count": null,
      "outputs": []
    },
    {
      "cell_type": "code",
      "source": [
        "get_all_training_environments()"
      ],
      "metadata": {
        "colab": {
          "base_uri": "https://localhost:8080/"
        },
        "id": "CpWuT7_4UOkD",
        "outputId": "d24d1915-0a80-4373-ed5f-46afad339b34"
      },
      "id": "CpWuT7_4UOkD",
      "execution_count": null,
      "outputs": [
        {
          "output_type": "stream",
          "name": "stdout",
          "text": [
            "10\n",
            "Training environment size for task  1 is : 9654\n",
            "Training environment size for task  2 is : 15315\n",
            "Training environment size for task  3 is : 18792\n",
            "Training environment size for task  4 is : 21013\n",
            "Training environment size for task  5 is : 22480\n",
            "Training environment size for task  6 is : 23476\n",
            "Training environment size for task  7 is : 24170\n",
            "Training environment size for task  8 is : 24664\n",
            "Training environment size for task  9 is : 25023\n",
            "Training environment size for task  10 is : 25288\n",
            "10\n",
            "Training environment size for task  1 is : 9654\n",
            "Training environment size for task  2 is : 9654\n",
            "Training environment size for task  3 is : 9654\n",
            "Training environment size for task  4 is : 9654\n",
            "Training environment size for task  5 is : 9654\n",
            "Training environment size for task  6 is : 9654\n",
            "Training environment size for task  7 is : 9654\n",
            "Training environment size for task  8 is : 9654\n",
            "Training environment size for task  9 is : 9654\n",
            "Training environment size for task  10 is : 9654\n",
            "1\n",
            "Training environment size for task  0 is : 96540\n"
          ]
        },
        {
          "output_type": "execute_result",
          "data": {
            "text/plain": [
              "([<torch.utils.data.dataset.ConcatDataset at 0x7ffa14519410>,\n",
              "  <torch.utils.data.dataset.ConcatDataset at 0x7ffa14519450>,\n",
              "  <torch.utils.data.dataset.ConcatDataset at 0x7ffa145198d0>,\n",
              "  <torch.utils.data.dataset.ConcatDataset at 0x7ffa14519390>,\n",
              "  <torch.utils.data.dataset.ConcatDataset at 0x7ffa145197d0>,\n",
              "  <torch.utils.data.dataset.ConcatDataset at 0x7ffa17659890>,\n",
              "  <torch.utils.data.dataset.ConcatDataset at 0x7ffa14590350>,\n",
              "  <torch.utils.data.dataset.ConcatDataset at 0x7ffa14590190>,\n",
              "  <torch.utils.data.dataset.ConcatDataset at 0x7ffa145906d0>,\n",
              "  <torch.utils.data.dataset.ConcatDataset at 0x7ffa145909d0>],\n",
              " [<torch.utils.data.dataset.ConcatDataset at 0x7ffa14520f50>,\n",
              "  <torch.utils.data.dataset.ConcatDataset at 0x7ffa14520e50>,\n",
              "  <torch.utils.data.dataset.ConcatDataset at 0x7ffa14520dd0>,\n",
              "  <torch.utils.data.dataset.ConcatDataset at 0x7ffa14520d50>,\n",
              "  <torch.utils.data.dataset.ConcatDataset at 0x7ffa14520cd0>,\n",
              "  <torch.utils.data.dataset.ConcatDataset at 0x7ffa14520c50>,\n",
              "  <torch.utils.data.dataset.ConcatDataset at 0x7ffa14520bd0>,\n",
              "  <torch.utils.data.dataset.ConcatDataset at 0x7ffa14520b50>,\n",
              "  <torch.utils.data.dataset.ConcatDataset at 0x7ffa14520ad0>,\n",
              "  <torch.utils.data.dataset.ConcatDataset at 0x7ffa145209d0>],\n",
              " [<torch.utils.data.dataset.ConcatDataset at 0x7ffa14540b90>])"
            ]
          },
          "metadata": {},
          "execution_count": 28
        }
      ]
    },
    {
      "cell_type": "code",
      "source": [],
      "metadata": {
        "id": "h3477EsbUQCb"
      },
      "id": "h3477EsbUQCb",
      "execution_count": null,
      "outputs": []
    },
    {
      "cell_type": "markdown",
      "source": [],
      "metadata": {
        "id": "2q_yQLD__hED"
      },
      "id": "2q_yQLD__hED"
    },
    {
      "cell_type": "markdown",
      "source": [
        "# CIFAR"
      ],
      "metadata": {
        "id": "9TxFwq9W_hKP"
      },
      "id": "9TxFwq9W_hKP"
    },
    {
      "cell_type": "code",
      "source": [
        "#!/usr/bin/env python\n",
        "# coding: utf-8\n",
        "\n",
        "# In[1]:\n",
        "\n",
        "\n",
        "import pandas as pd\n",
        "import numpy as np\n",
        "import matplotlib.pyplot as plt\n",
        "from sklearn import metrics\n",
        "\n",
        "%matplotlib inline\n",
        "\n",
        "\n",
        "from torchvision import datasets,transforms\n",
        "\n",
        "\n",
        "# ## Data_loading module\n",
        "\n",
        "# In[5]:\n",
        "\n",
        "\n",
        "import numpy as np\n",
        "from torchvision import datasets,transforms\n",
        "from torch.utils.data import Dataset\n",
        "\n",
        "\n",
        "def permutate_image_pixels(image, permutation):\n",
        "    '''Permutate the pixels of an image according to [permutation].\n",
        "    [image]         3D-tensor containing the image\n",
        "    [permutation]   <ndarray> of pixel-indeces in their new order'''\n",
        "\n",
        "    if permutation is None:\n",
        "        return image\n",
        "    else:\n",
        "        c, h, w = image.size()\n",
        "        image = image.view(c, -1)\n",
        "        image = image[:, permutation[1]]  #--> same permutation for each channel\n",
        "        image = image.view(c, h, w)\n",
        "        return image\n",
        "\n",
        "class TransformedDataset(Dataset):\n",
        "    '''To modify an existing dataset with a transform.\n",
        "    This is useful for creating different permutations of MNIST without loading the data multiple times.'''\n",
        "\n",
        "    def __init__(self, original_dataset, transform=None, target_transform=None):\n",
        "        super().__init__()\n",
        "        self.dataset = original_dataset\n",
        "        self.transform = transform\n",
        "        self.target_transform = target_transform\n",
        "\n",
        "    def __len__(self):\n",
        "        return len(self.dataset)\n",
        "\n",
        "    def __getitem__(self, index):\n",
        "        (input, target) = self.dataset[index]\n",
        "        if self.transform:\n",
        "            input = self.transform(input)\n",
        "        if self.target_transform:\n",
        "            target = self.target_transform(target)\n",
        "        return (input, target)\n",
        "\n",
        "def permute_train_test_data(mnist_trainset, mnist_testset) :\n",
        "        # get train and test datasets\n",
        "        # generate pixel-permutations\n",
        "        np.random.seed(10)\n",
        "        permutations = [np.random.permutation(32**2) for _ in range(10)]\n",
        "        print(permutations)\n",
        "        # specify transformed datasets per context\n",
        "        train_datasets = []\n",
        "        test_datasets = []\n",
        "        for perm in enumerate(permutations):\n",
        "            target_transform = None\n",
        "            train_datasets.append(TransformedDataset(\n",
        "                mnist_trainset, transform=transforms.Lambda(lambda x, p=perm: permutate_image_pixels(x, p)),\n",
        "                target_transform=target_transform\n",
        "            ))\n",
        "            test_datasets.append(TransformedDataset(\n",
        "                mnist_testset, transform=transforms.Lambda(lambda x, p=perm: permutate_image_pixels(x, p)),\n",
        "                target_transform=target_transform\n",
        "            ))\n",
        "\n",
        "        return train_datasets, test_datasets\n",
        "\n",
        "\n",
        "from torch.utils.data import ConcatDataset\n",
        "import torch\n",
        "\n",
        "def get_all_training_environments():\n",
        "  dataset_tranforms = transforms.Compose([\n",
        "          # transforms.Pad(2),\n",
        "          transforms.ToTensor(),\n",
        "      ]\n",
        "  )\n",
        "\n",
        "\n",
        "  # In[7]:\n",
        "\n",
        "\n",
        "  cifar10_trainset = datasets.CIFAR10(root='./data', train=True, download=True, transform=dataset_tranforms)\n",
        "  cifar10_testset = datasets.CIFAR10(root='./data', train=False, download=True, transform=dataset_tranforms)\n",
        "\n",
        "  # In[8]:\n",
        "\n",
        "\n",
        "  training_permutations , test_permutations = permute_train_test_data((cifar10_trainset),\n",
        "                                                                      (cifar10_testset))\n",
        "\n",
        "\n",
        "  # ## Power Law Sampling \n",
        "\n",
        "  # In[9]:\n",
        "\n",
        "\n",
        "  power_law_sampling = [57927,\n",
        "  44078,\n",
        "  33969,\n",
        "  26483,\n",
        "  20867,\n",
        "  16603,\n",
        "  13329,\n",
        "  10790,\n",
        "  8802,\n",
        "  7232,\n",
        "  5981,\n",
        "  4978,\n",
        "  4167,\n",
        "  3508,\n",
        "  2968,\n",
        "  2523,\n",
        "  2155,\n",
        "  1849,\n",
        "  1592,\n",
        "  1377,\n",
        "  1195]\n",
        "  MAX_TASK_EXAMPLES = 44078\n",
        "  MIN_TASK_EXAMPLES = 1195\n",
        "  NUM_TASKS = 10\n",
        "\n",
        "  DOWNSAMPLE = 1\n",
        "  power_law_sampling[:] = [x//DOWNSAMPLE for x in power_law_sampling]\n",
        "  MAX_TASK_EXAMPLES//=DOWNSAMPLE\n",
        "  MIN_TASK_EXAMPLES//=DOWNSAMPLE\n",
        "\n",
        "\n",
        "  # ## Skip Alternate Policy\n",
        "\n",
        "  # In[12]:\n",
        "\n",
        "\n",
        "  freq_vector = []\n",
        "  for idx in range(1,20,2):\n",
        "      freq_vector.append(power_law_sampling[idx])\n",
        "  freq_vector\n",
        "\n",
        "\n",
        "  # In[13]:\n",
        "\n",
        "\n",
        "  phase_task_freq_count = np.zeros((NUM_TASKS,NUM_TASKS)) \n",
        "  for row in range(NUM_TASKS):\n",
        "      phase_task_freq_count[row,:]+=freq_vector\n",
        "      freq_vector.insert(0, 0)\n",
        "      freq_vector.pop()\n",
        "\n",
        "\n",
        "  # In[14]:\n",
        "\n",
        "\n",
        "  phase_task_freq_count\n",
        "\n",
        "\n",
        "  # In[15]:\n",
        "\n",
        "\n",
        "  phase_task_freq_frac=phase_task_freq_count/np.sum(phase_task_freq_count, axis=0)\n",
        "  phase_task_freq_frac\n",
        "\n",
        "\n",
        "  # ### Creating Unified Testing Dataset for each phase\n",
        "\n",
        "  # In[16]:\n",
        "\n",
        "\n",
        "\n",
        "  # ### Power Law Distirbuted Training Environment\n",
        "\n",
        "  # In[17]:\n",
        "\n",
        "\n",
        "  training_environments = []\n",
        "  np.random.seed(10)\n",
        "  MAX_TASK_EXAMPLES = 44078\n",
        "  # NUM_PHASES = NUM_TASKS\n",
        "  for phase in range(NUM_TASKS): \n",
        "      phase_training = []\n",
        "      for task in range(NUM_TASKS):\n",
        "          num_ele_to_pick = phase_task_freq_count[task,phase]\n",
        "          selected_indices = np.random.choice(np.arange(MAX_TASK_EXAMPLES), int(num_ele_to_pick), replace=False)\n",
        "          task_subset = torch.utils.data.Subset(training_permutations[task], selected_indices)\n",
        "          phase_training.append(task_subset)\n",
        "      final_phase_dataset = ConcatDataset(phase_training)\n",
        "      training_environments.append(final_phase_dataset)\n",
        "\n",
        "\n",
        "  # In[18]:\n",
        "\n",
        "\n",
        "  print(len(training_environments))\n",
        "  for i in range(1,NUM_TASKS+1):\n",
        "    print(\"Training environment size for task \", i , \"is :\", len(training_environments[i-1]))\n",
        "\n",
        "\n",
        "  # ### SGD (Lower Baseline) Training Environment\n",
        "\n",
        "  # In[25]:\n",
        "  SGD_training_environments = []\n",
        "  num_ele_to_pick = phase_task_freq_count[0,0]\n",
        "  for i in range(NUM_TASKS):\n",
        "    selected_indices = np.random.choice(np.arange(MAX_TASK_EXAMPLES), int(num_ele_to_pick), replace=False)\n",
        "    task_subset = torch.utils.data.Subset(training_permutations[i], selected_indices)\n",
        "    SGD_training_environments.append(task_subset)\n",
        "\n",
        "\n",
        "  # In[26]:\n",
        "\n",
        "\n",
        "  print(len(SGD_training_environments))\n",
        "  for i in range(1,NUM_TASKS+1):\n",
        "    print(\"Training environment size for task \", i , \"is :\", len(SGD_training_environments[i-1]))\n",
        "\n",
        "\n",
        "  # ### Upper Baseline Training Environment\n",
        "\n",
        "  # In[27]:\n",
        "\n",
        "\n",
        "  UBL_training_environments = []\n",
        "  np.random.seed(10)\n",
        "  MAX_TASK_EXAMPLES = 60000\n",
        "  num_ele_to_pick = phase_task_freq_count[0,0]\n",
        "  # NUM_PHASES = NUM_TASKS\n",
        "  phase_training = []\n",
        "  for phase in range(NUM_TASKS): # only 1 phase is enough for upper baseline\n",
        "        selected_indices = np.random.choice(np.arange(MAX_TASK_EXAMPLES), int(num_ele_to_pick), replace=False)\n",
        "        task_subset = torch.utils.data.Subset(training_permutations[phase], selected_indices)\n",
        "        phase_training.append(task_subset)\n",
        "        final_phase_dataset = ConcatDataset(phase_training)\n",
        "        UBL_training_environments.append(final_phase_dataset)\n",
        "\n",
        "\n",
        "\n",
        "  print(len(UBL_training_environments))\n",
        "  for i in range(1,len(UBL_training_environments)+1):\n",
        "    print(\"Training environment size for task \", i , \"is :\", len(UBL_training_environments[i-1]))\n",
        "\n",
        "  print(len(training_environments))\n",
        "  figure = plt.figure(figsize=(12, 12))\n",
        "  cols, rows = 2, 5\n",
        "  for i in range(1,NUM_TASKS+1):\n",
        "    print(\"Training environment size for task \", i , \"is :\", len(training_environments[i-1]))\n",
        "    img, label = training_permutations[i-1][(len(training_environments[i-1])-1)]\n",
        "    figure.add_subplot(rows, cols, i)\n",
        "    plt.axis(\"off\")\n",
        "    plt.imshow(img.T.squeeze())\n",
        "    plt.title(\"Task \" +str(i) + \", Label \" + str(label))\n",
        "  plt.show()\n",
        "\n",
        "  return training_environments, SGD_training_environments, UBL_training_environments, test_permutations\n",
        "\n",
        "training_environments_cifar, _, _ ,_ = get_all_training_environments()"
      ],
      "metadata": {
        "colab": {
          "base_uri": "https://localhost:8080/",
          "height": 1000
        },
        "id": "IgHGSMFm_gdO",
        "outputId": "b155915f-fdab-4ebf-fe01-387a91f13a34"
      },
      "id": "IgHGSMFm_gdO",
      "execution_count": null,
      "outputs": [
        {
          "output_type": "stream",
          "name": "stdout",
          "text": [
            "Files already downloaded and verified\n",
            "Files already downloaded and verified\n",
            "[array([1006,  307,  487, ...,  996,  125,  265]), array([   8,   36,  417, ...,   91,  938, 1007]), array([577, 379, 751, ..., 799,  93, 835]), array([426, 316, 615, ..., 186, 836, 869]), array([ 454,   30,  450, ..., 1002,  187,  296]), array([848, 156,   7, ..., 264, 510, 321]), array([399, 821, 334, ..., 737, 711, 540]), array([425, 147, 527, ..., 899, 637, 894]), array([966, 207, 943, ..., 806,  50, 792]), array([199, 843, 463, ...,  21, 343, 729])]\n",
            "10\n",
            "Training environment size for task  1 is : 44078\n",
            "Training environment size for task  2 is : 70561\n",
            "Training environment size for task  3 is : 87164\n",
            "Training environment size for task  4 is : 97954\n",
            "Training environment size for task  5 is : 105186\n",
            "Training environment size for task  6 is : 110164\n",
            "Training environment size for task  7 is : 113672\n",
            "Training environment size for task  8 is : 116195\n",
            "Training environment size for task  9 is : 118044\n",
            "Training environment size for task  10 is : 119421\n",
            "10\n",
            "Training environment size for task  1 is : 44078\n",
            "Training environment size for task  2 is : 44078\n",
            "Training environment size for task  3 is : 44078\n",
            "Training environment size for task  4 is : 44078\n",
            "Training environment size for task  5 is : 44078\n",
            "Training environment size for task  6 is : 44078\n",
            "Training environment size for task  7 is : 44078\n",
            "Training environment size for task  8 is : 44078\n",
            "Training environment size for task  9 is : 44078\n",
            "Training environment size for task  10 is : 44078\n",
            "10\n",
            "Training environment size for task  1 is : 44078\n",
            "Training environment size for task  2 is : 88156\n",
            "Training environment size for task  3 is : 132234\n",
            "Training environment size for task  4 is : 176312\n",
            "Training environment size for task  5 is : 220390\n",
            "Training environment size for task  6 is : 264468\n",
            "Training environment size for task  7 is : 308546\n",
            "Training environment size for task  8 is : 352624\n",
            "Training environment size for task  9 is : 396702\n",
            "Training environment size for task  10 is : 440780\n",
            "10\n",
            "Training environment size for task  1 is : 44078\n",
            "Training environment size for task  2 is : 70561\n"
          ]
        },
        {
          "output_type": "stream",
          "name": "stderr",
          "text": [
            "<ipython-input-24-2f823a8f803b>:265: UserWarning: The use of `x.T` on tensors of dimension other than 2 to reverse their shape is deprecated and it will throw an error in a future release. Consider `x.mT` to transpose batches of matrices or `x.permute(*torch.arange(x.ndim - 1, -1, -1))` to reverse the dimensions of a tensor. (Triggered internally at ../aten/src/ATen/native/TensorShape.cpp:3277.)\n",
            "  plt.imshow(img.T.squeeze())\n"
          ]
        },
        {
          "output_type": "error",
          "ename": "IndexError",
          "evalue": "ignored",
          "traceback": [
            "\u001b[0;31m---------------------------------------------------------------------------\u001b[0m",
            "\u001b[0;31mIndexError\u001b[0m                                Traceback (most recent call last)",
            "\u001b[0;32m<ipython-input-24-2f823a8f803b>\u001b[0m in \u001b[0;36m<module>\u001b[0;34m\u001b[0m\n\u001b[1;32m    269\u001b[0m   \u001b[0;32mreturn\u001b[0m \u001b[0mtraining_environments\u001b[0m\u001b[0;34m,\u001b[0m \u001b[0mSGD_training_environments\u001b[0m\u001b[0;34m,\u001b[0m \u001b[0mUBL_training_environments\u001b[0m\u001b[0;34m,\u001b[0m \u001b[0mtest_permutations\u001b[0m\u001b[0;34m\u001b[0m\u001b[0;34m\u001b[0m\u001b[0m\n\u001b[1;32m    270\u001b[0m \u001b[0;34m\u001b[0m\u001b[0m\n\u001b[0;32m--> 271\u001b[0;31m \u001b[0mtraining_environments_cifar\u001b[0m\u001b[0;34m,\u001b[0m \u001b[0m_\u001b[0m\u001b[0;34m,\u001b[0m \u001b[0m_\u001b[0m \u001b[0;34m,\u001b[0m\u001b[0m_\u001b[0m \u001b[0;34m=\u001b[0m \u001b[0mget_all_training_environments\u001b[0m\u001b[0;34m(\u001b[0m\u001b[0;34m)\u001b[0m\u001b[0;34m\u001b[0m\u001b[0;34m\u001b[0m\u001b[0m\n\u001b[0m",
            "\u001b[0;32m<ipython-input-24-2f823a8f803b>\u001b[0m in \u001b[0;36mget_all_training_environments\u001b[0;34m()\u001b[0m\n\u001b[1;32m    260\u001b[0m   \u001b[0;32mfor\u001b[0m \u001b[0mi\u001b[0m \u001b[0;32min\u001b[0m \u001b[0mrange\u001b[0m\u001b[0;34m(\u001b[0m\u001b[0;36m1\u001b[0m\u001b[0;34m,\u001b[0m\u001b[0mNUM_TASKS\u001b[0m\u001b[0;34m+\u001b[0m\u001b[0;36m1\u001b[0m\u001b[0;34m)\u001b[0m\u001b[0;34m:\u001b[0m\u001b[0;34m\u001b[0m\u001b[0;34m\u001b[0m\u001b[0m\n\u001b[1;32m    261\u001b[0m     \u001b[0mprint\u001b[0m\u001b[0;34m(\u001b[0m\u001b[0;34m\"Training environment size for task \"\u001b[0m\u001b[0;34m,\u001b[0m \u001b[0mi\u001b[0m \u001b[0;34m,\u001b[0m \u001b[0;34m\"is :\"\u001b[0m\u001b[0;34m,\u001b[0m \u001b[0mlen\u001b[0m\u001b[0;34m(\u001b[0m\u001b[0mtraining_environments\u001b[0m\u001b[0;34m[\u001b[0m\u001b[0mi\u001b[0m\u001b[0;34m-\u001b[0m\u001b[0;36m1\u001b[0m\u001b[0;34m]\u001b[0m\u001b[0;34m)\u001b[0m\u001b[0;34m)\u001b[0m\u001b[0;34m\u001b[0m\u001b[0;34m\u001b[0m\u001b[0m\n\u001b[0;32m--> 262\u001b[0;31m     \u001b[0mimg\u001b[0m\u001b[0;34m,\u001b[0m \u001b[0mlabel\u001b[0m \u001b[0;34m=\u001b[0m \u001b[0mtraining_permutations\u001b[0m\u001b[0;34m[\u001b[0m\u001b[0mi\u001b[0m\u001b[0;34m-\u001b[0m\u001b[0;36m1\u001b[0m\u001b[0;34m]\u001b[0m\u001b[0;34m[\u001b[0m\u001b[0;34m(\u001b[0m\u001b[0mlen\u001b[0m\u001b[0;34m(\u001b[0m\u001b[0mtraining_environments\u001b[0m\u001b[0;34m[\u001b[0m\u001b[0mi\u001b[0m\u001b[0;34m-\u001b[0m\u001b[0;36m1\u001b[0m\u001b[0;34m]\u001b[0m\u001b[0;34m)\u001b[0m\u001b[0;34m-\u001b[0m\u001b[0;36m1\u001b[0m\u001b[0;34m)\u001b[0m\u001b[0;34m]\u001b[0m\u001b[0;34m\u001b[0m\u001b[0;34m\u001b[0m\u001b[0m\n\u001b[0m\u001b[1;32m    263\u001b[0m     \u001b[0mfigure\u001b[0m\u001b[0;34m.\u001b[0m\u001b[0madd_subplot\u001b[0m\u001b[0;34m(\u001b[0m\u001b[0mrows\u001b[0m\u001b[0;34m,\u001b[0m \u001b[0mcols\u001b[0m\u001b[0;34m,\u001b[0m \u001b[0mi\u001b[0m\u001b[0;34m)\u001b[0m\u001b[0;34m\u001b[0m\u001b[0;34m\u001b[0m\u001b[0m\n\u001b[1;32m    264\u001b[0m     \u001b[0mplt\u001b[0m\u001b[0;34m.\u001b[0m\u001b[0maxis\u001b[0m\u001b[0;34m(\u001b[0m\u001b[0;34m\"off\"\u001b[0m\u001b[0;34m)\u001b[0m\u001b[0;34m\u001b[0m\u001b[0;34m\u001b[0m\u001b[0m\n",
            "\u001b[0;32m<ipython-input-24-2f823a8f803b>\u001b[0m in \u001b[0;36m__getitem__\u001b[0;34m(self, index)\u001b[0m\n\u001b[1;32m     54\u001b[0m \u001b[0;34m\u001b[0m\u001b[0m\n\u001b[1;32m     55\u001b[0m     \u001b[0;32mdef\u001b[0m \u001b[0m__getitem__\u001b[0m\u001b[0;34m(\u001b[0m\u001b[0mself\u001b[0m\u001b[0;34m,\u001b[0m \u001b[0mindex\u001b[0m\u001b[0;34m)\u001b[0m\u001b[0;34m:\u001b[0m\u001b[0;34m\u001b[0m\u001b[0;34m\u001b[0m\u001b[0m\n\u001b[0;32m---> 56\u001b[0;31m         \u001b[0;34m(\u001b[0m\u001b[0minput\u001b[0m\u001b[0;34m,\u001b[0m \u001b[0mtarget\u001b[0m\u001b[0;34m)\u001b[0m \u001b[0;34m=\u001b[0m \u001b[0mself\u001b[0m\u001b[0;34m.\u001b[0m\u001b[0mdataset\u001b[0m\u001b[0;34m[\u001b[0m\u001b[0mindex\u001b[0m\u001b[0;34m]\u001b[0m\u001b[0;34m\u001b[0m\u001b[0;34m\u001b[0m\u001b[0m\n\u001b[0m\u001b[1;32m     57\u001b[0m         \u001b[0;32mif\u001b[0m \u001b[0mself\u001b[0m\u001b[0;34m.\u001b[0m\u001b[0mtransform\u001b[0m\u001b[0;34m:\u001b[0m\u001b[0;34m\u001b[0m\u001b[0;34m\u001b[0m\u001b[0m\n\u001b[1;32m     58\u001b[0m             \u001b[0minput\u001b[0m \u001b[0;34m=\u001b[0m \u001b[0mself\u001b[0m\u001b[0;34m.\u001b[0m\u001b[0mtransform\u001b[0m\u001b[0;34m(\u001b[0m\u001b[0minput\u001b[0m\u001b[0;34m)\u001b[0m\u001b[0;34m\u001b[0m\u001b[0;34m\u001b[0m\u001b[0m\n",
            "\u001b[0;32m/usr/local/lib/python3.8/dist-packages/torchvision/datasets/cifar.py\u001b[0m in \u001b[0;36m__getitem__\u001b[0;34m(self, index)\u001b[0m\n\u001b[1;32m    109\u001b[0m             \u001b[0mtuple\u001b[0m\u001b[0;34m:\u001b[0m \u001b[0;34m(\u001b[0m\u001b[0mimage\u001b[0m\u001b[0;34m,\u001b[0m \u001b[0mtarget\u001b[0m\u001b[0;34m)\u001b[0m \u001b[0mwhere\u001b[0m \u001b[0mtarget\u001b[0m \u001b[0;32mis\u001b[0m \u001b[0mindex\u001b[0m \u001b[0mof\u001b[0m \u001b[0mthe\u001b[0m \u001b[0mtarget\u001b[0m \u001b[0;32mclass\u001b[0m\u001b[0;34m.\u001b[0m\u001b[0;34m\u001b[0m\u001b[0;34m\u001b[0m\u001b[0m\n\u001b[1;32m    110\u001b[0m         \"\"\"\n\u001b[0;32m--> 111\u001b[0;31m         \u001b[0mimg\u001b[0m\u001b[0;34m,\u001b[0m \u001b[0mtarget\u001b[0m \u001b[0;34m=\u001b[0m \u001b[0mself\u001b[0m\u001b[0;34m.\u001b[0m\u001b[0mdata\u001b[0m\u001b[0;34m[\u001b[0m\u001b[0mindex\u001b[0m\u001b[0;34m]\u001b[0m\u001b[0;34m,\u001b[0m \u001b[0mself\u001b[0m\u001b[0;34m.\u001b[0m\u001b[0mtargets\u001b[0m\u001b[0;34m[\u001b[0m\u001b[0mindex\u001b[0m\u001b[0;34m]\u001b[0m\u001b[0;34m\u001b[0m\u001b[0;34m\u001b[0m\u001b[0m\n\u001b[0m\u001b[1;32m    112\u001b[0m \u001b[0;34m\u001b[0m\u001b[0m\n\u001b[1;32m    113\u001b[0m         \u001b[0;31m# doing this so that it is consistent with all other datasets\u001b[0m\u001b[0;34m\u001b[0m\u001b[0;34m\u001b[0m\u001b[0;34m\u001b[0m\u001b[0m\n",
            "\u001b[0;31mIndexError\u001b[0m: index 70560 is out of bounds for axis 0 with size 50000"
          ]
        },
        {
          "output_type": "display_data",
          "data": {
            "text/plain": [
              "<Figure size 864x864 with 1 Axes>"
            ],
            "image/png": "[encoded data removed]"
          },
          "metadata": {
            "needs_background": "light"
          }
        }
      ]
    },
    {
      "cell_type": "markdown",
      "source": [
        "# Distribution"
      ],
      "metadata": {
        "id": "cNL-MiQtmdOO"
      },
      "id": "cNL-MiQtmdOO"
    },
    {
      "cell_type": "code",
      "source": [
        "beta = 1\n",
        "x = np.arange(1,10)\n",
        "y = np.exp(-x/beta)/beta\n",
        "print(np.sum(y))\n",
        "plt.plot(x,y,marker='.')"
      ],
      "metadata": {
        "id": "G1IaEoyB_gf4",
        "colab": {
          "base_uri": "https://localhost:8080/",
          "height": 301
        },
        "outputId": "4d8c070b-4c83-4703-d624-5beda9a092e8"
      },
      "id": "G1IaEoyB_gf4",
      "execution_count": 12,
      "outputs": [
        {
          "output_type": "stream",
          "name": "stdout",
          "text": [
            "0.5819048852379487\n"
          ]
        },
        {
          "output_type": "execute_result",
          "data": {
            "text/plain": [
              "[<matplotlib.lines.Line2D at 0x7f85a4128a60>]"
            ]
          },
          "metadata": {},
          "execution_count": 12
        },
        {
          "output_type": "display_data",
          "data": {
            "text/plain": [
              "<Figure size 432x288 with 1 Axes>"
            ],
            "image/png": "[encoded data removed]"
          },
          "metadata": {
            "needs_background": "light"
          }
        }
      ]
    },
    {
      "cell_type": "code",
      "source": [
        "print(np.sum(y*(5/0.5819)))\n",
        "plt.plot(x,y*(5/0.5819),marker='.', c=\"red\", label=\"Scaled to Fit Sum\")\n",
        "plt.plot(x,y,marker='.', c=\"blue\",label=\"Exponential\")\n",
        "plt.legend()"
      ],
      "metadata": {
        "id": "V-biVF-m_giN",
        "colab": {
          "base_uri": "https://localhost:8080/",
          "height": 301
        },
        "outputId": "244f0ee2-9257-482d-c8a4-2c7d34e3593a"
      },
      "id": "V-biVF-m_giN",
      "execution_count": 13,
      "outputs": [
        {
          "output_type": "stream",
          "name": "stdout",
          "text": [
            "5.000041976610661\n"
          ]
        },
        {
          "output_type": "execute_result",
          "data": {
            "text/plain": [
              "<matplotlib.legend.Legend at 0x7f85a410cac0>"
            ]
          },
          "metadata": {},
          "execution_count": 13
        },
        {
          "output_type": "display_data",
          "data": {
            "text/plain": [
              "<Figure size 432x288 with 1 Axes>"
            ],
            "image/png": "[encoded data removed]"
          },
          "metadata": {
            "needs_background": "light"
          }
        }
      ]
    },
    {
      "cell_type": "code",
      "source": [
        "alpha = 5\n",
        "x = np.arange(0.1,1, 0.1)\n",
        "y = alpha*np.power(x, alpha - 1)\n",
        "print(np.sum(y))\n",
        "plt.plot(x,y,marker='.')"
      ],
      "metadata": {
        "id": "Tnchbvag_gk3",
        "colab": {
          "base_uri": "https://localhost:8080/",
          "height": 301
        },
        "outputId": "dba5f438-9a4f-4499-c196-b22d81cbde8b"
      },
      "id": "Tnchbvag_gk3",
      "execution_count": 14,
      "outputs": [
        {
          "output_type": "stream",
          "name": "stdout",
          "text": [
            "7.666500000000001\n"
          ]
        },
        {
          "output_type": "execute_result",
          "data": {
            "text/plain": [
              "[<matplotlib.lines.Line2D at 0x7f85a407d370>]"
            ]
          },
          "metadata": {},
          "execution_count": 14
        },
        {
          "output_type": "display_data",
          "data": {
            "text/plain": [
              "<Figure size 432x288 with 1 Axes>"
            ],
            "image/png": "[encoded data removed]"
          },
          "metadata": {
            "needs_background": "light"
          }
        }
      ]
    },
    {
      "cell_type": "code",
      "source": [
        "print(np.sum(y*(5/7.6665)))\n",
        "plt.plot(x,y*(5/7.6665),marker='.', c=\"red\", label=\"Scaled to Fit Sum\")\n",
        "plt.plot(x,y,marker='.', c=\"blue\", label=\"Power Law\")\n",
        "plt.legend()"
      ],
      "metadata": {
        "id": "ePPBOXUY_gqR",
        "colab": {
          "base_uri": "https://localhost:8080/",
          "height": 301
        },
        "outputId": "566650aa-9e4a-4e7a-c435-5fadedbd1a9a"
      },
      "id": "ePPBOXUY_gqR",
      "execution_count": 15,
      "outputs": [
        {
          "output_type": "stream",
          "name": "stdout",
          "text": [
            "5.0\n"
          ]
        },
        {
          "output_type": "execute_result",
          "data": {
            "text/plain": [
              "<matplotlib.legend.Legend at 0x7f85a3fdba30>"
            ]
          },
          "metadata": {},
          "execution_count": 15
        },
        {
          "output_type": "display_data",
          "data": {
            "text/plain": [
              "<Figure size 432x288 with 1 Axes>"
            ],
            "image/png": "[encoded data removed]"
          },
          "metadata": {
            "needs_background": "light"
          }
        }
      ]
    },
    {
      "cell_type": "code",
      "source": [
        "def get_phase_task_frequency_matrix(new_task_cnt, \n",
        "                                    replay_fraction,\n",
        "                                    replay_distribution,\n",
        "                                    min_example,\n",
        "                                    phase_cnt,\n",
        "                                    hyperparameters):\n",
        "  if replay_fraction <= 0 or replay_fraction > 1:\n",
        "    print(\"Invalid replay fraction: \"+str(replay_fraction))\n",
        "    return None\n",
        "  replay_cnt = math.floor(new_task_cnt*replay_fraction) \n",
        "  phase_task_frequency_matrix = np.diag(np.repeat(new_task_cnt, phase_cnt))\n",
        "  if replay_distribution == \"uniform\":\n",
        "    for i in range(1, phase_cnt):\n",
        "      task_freq = replay_cnt//i\n",
        "      for j in range(i):\n",
        "        phase_task_frequency_matrix[j,i]+=task_freq\n",
        "    return phase_task_frequency_matrix\n",
        "  elif replay_distribution == \"powerlaw\":\n",
        "    if \"alpha\" not in hyperparameters.keys():\n",
        "      print(\"Missing Hyperparameter: alpha\")\n",
        "      return None\n",
        "    alpha = hyperparameters[\"alpha\"]\n",
        "    if alpha <= 2:\n",
        "      print(\"Invalid Hyperparameter: alpha\")\n",
        "      return None\n",
        "    not_enough_replay_count = False\n",
        "    for i in range(1, phase_cnt):\n",
        "      sample_positions = np.arange(10, 10 + (i)) # Hyperparameterizable for sampling?\n",
        "      sample_positions=0.01*sample_positions\n",
        "      sample_points = alpha*np.power(sample_positions, alpha - 1)\n",
        "      sample_sum = np.sum(sample_points)\n",
        "      rescaled_samples = (replay_cnt//sample_sum)*sample_points\n",
        "      # print(\"column: \"+str(i))\n",
        "      # print(np.sum(rescaled_samples))\n",
        "      # print((sample_points))\n",
        "      # print((rescaled_samples))\n",
        "      for j in range(i):\n",
        "        phase_task_frequency_matrix[j,i]+=rescaled_samples[j]\n",
        "        if rescaled_samples[i-j-1] < min_example:\n",
        "          not_enough_replay_count = True\n",
        "    if not_enough_replay_count:\n",
        "      print(\"WARNING: Replay data set size not enough to ensure existence of all previous tasks.\")\n",
        "    return phase_task_frequency_matrix\n",
        "  elif replay_distribution == \"exponential\":\n",
        "    if \"beta\" not in hyperparameters.keys():\n",
        "      print(\"Missing Hyperparameter: beta\")\n",
        "      return None\n",
        "    beta = hyperparameters[\"beta\"]\n",
        "    if beta <= 0:\n",
        "      print(\"Invalid Hyperparameter: beta\")\n",
        "      return None\n",
        "    not_enough_replay_count = False\n",
        "    for i in range(1, phase_cnt):\n",
        "      sample_positions = np.arange(1,i+1) # Hyperparameterizable for sampling?\n",
        "      sample_points = np.exp(-sample_positions/beta)/beta\n",
        "      sample_sum = np.sum(sample_points)\n",
        "      rescaled_samples = (replay_cnt//sample_sum)*sample_points\n",
        "      for j in range(i):\n",
        "        phase_task_frequency_matrix[j,i]+=rescaled_samples[i-j-1]\n",
        "        if rescaled_samples[i-j-1] < min_example:\n",
        "          not_enough_replay_count = True\n",
        "    if not_enough_replay_count:\n",
        "      print(\"WARNING: Replay data set size not enough to ensure existence of all previous tasks.\")\n",
        "    return phase_task_frequency_matrix\n",
        "  else:\n",
        "    print(\"Invalid Distribution\")\n",
        "    return None\n",
        "  \n",
        "  return phase_task_frequency_matrix"
      ],
      "metadata": {
        "id": "CMacymCFkJHY"
      },
      "id": "CMacymCFkJHY",
      "execution_count": 193,
      "outputs": []
    },
    {
      "cell_type": "code",
      "source": [
        "get_phase_task_frequency_matrix(1000, 0.5, \"powerlaw\", 1, 5, {\"alpha\": 5, \"beta\": 1})"
      ],
      "metadata": {
        "colab": {
          "base_uri": "https://localhost:8080/"
        },
        "id": "vAJun1APlsF_",
        "outputId": "9d49b623-3618-4622-8b4b-9f115f922173"
      },
      "id": "vAJun1APlsF_",
      "execution_count": 199,
      "outputs": [
        {
          "output_type": "execute_result",
          "data": {
            "text/plain": [
              "array([[1000,  499,  202,  110,   67],\n",
              "       [   0, 1000,  297,  161,   99],\n",
              "       [   0,    0, 1000,  228,  140],\n",
              "       [   0,    0,    0, 1000,  193],\n",
              "       [   0,    0,    0,    0, 1000]])"
            ]
          },
          "metadata": {},
          "execution_count": 199
        }
      ]
    },
    {
      "cell_type": "code",
      "source": [
        "alpha = 4\n",
        "x = np.arange(10, 10 + 10 - 1)\n",
        "x = 0.01*x\n",
        "y = alpha*np.power(x, alpha - 1)\n",
        "print(np.sum(y))\n",
        "fig, ax1 = plt.subplots()\n",
        "\n",
        "ax2 = ax1.twinx()\n",
        "y = [119,175,248,342,460,606,785,1001,1258]\n",
        "\n",
        "ax1.plot(x, y,marker='.', c=\"red\", label=\"Scaled to Fit Sum\")\n",
        "ax2.plot(x, alpha*np.power(x, alpha - 1),marker='.', c=\"blue\",label=\"PowerLaw\")\n",
        "ax1.legend()\n",
        "ax2.legend(loc=\"upper center\")\n",
        "plt.title(\"PowerLaw\")"
      ],
      "metadata": {
        "colab": {
          "base_uri": "https://localhost:8080/",
          "height": 317
        },
        "id": "W1QSlTMn74zq",
        "outputId": "81b48c0b-c1f1-4f88-8e9b-8b63ca384bb7"
      },
      "id": "W1QSlTMn74zq",
      "execution_count": 191,
      "outputs": [
        {
          "output_type": "stream",
          "name": "stdout",
          "text": [
            "0.108864\n"
          ]
        },
        {
          "output_type": "execute_result",
          "data": {
            "text/plain": [
              "Text(0.5, 1.0, 'PowerLaw')"
            ]
          },
          "metadata": {},
          "execution_count": 191
        },
        {
          "output_type": "display_data",
          "data": {
            "text/plain": [
              "<Figure size 432x288 with 2 Axes>"
            ],
            "image/png": "[encoded data removed]"
          },
          "metadata": {
            "needs_background": "light"
          }
        }
      ]
    },
    {
      "cell_type": "code",
      "source": [
        "beta = 1\n",
        "x = np.arange(2,11)\n",
        "y = np.exp(-x/beta)/beta\n",
        "print(np.sum(y))\n",
        "fig, ax1 = plt.subplots()\n",
        "\n",
        "ax2 = ax1.twinx()\n",
        "y = [1,2,7,21,57,157,427,1162,3160]\n",
        "y.reverse()\n",
        "ax1.plot(x, y,marker='.', c=\"red\", label=\"Scaled to Fit Sum\")\n",
        "ax2.plot(x, np.exp(-x),marker='.', c=\"blue\",label=\"Exponential\")\n",
        "ax1.legend()\n",
        "ax2.legend(loc=\"upper center\")\n",
        "plt.title(\"Exponential\")"
      ],
      "metadata": {
        "colab": {
          "base_uri": "https://localhost:8080/",
          "height": 317
        },
        "id": "IMZt-gdExyVk",
        "outputId": "12ca585e-7507-417c-de38-18799f1d9e25"
      },
      "id": "IMZt-gdExyVk",
      "execution_count": 192,
      "outputs": [
        {
          "output_type": "stream",
          "name": "stdout",
          "text": [
            "0.21407084399626886\n"
          ]
        },
        {
          "output_type": "execute_result",
          "data": {
            "text/plain": [
              "Text(0.5, 1.0, 'Exponential')"
            ]
          },
          "metadata": {},
          "execution_count": 192
        },
        {
          "output_type": "display_data",
          "data": {
            "text/plain": [
              "<Figure size 432x288 with 2 Axes>"
            ],
            "image/png": "[encoded data removed]"
          },
          "metadata": {
            "needs_background": "light"
          }
        }
      ]
    },
    {
      "cell_type": "code",
      "source": [
        "beta = 1\n",
        "x = np.arange(1,10)\n",
        "y = np.exp(-x/beta)/beta\n",
        "print(np.sum(y))\n",
        "plt.plot(x,[1,2,7,21,57,157,427,1162,3160,5000],marker='.', c=\"red\", label=\"Scaled to Fit Sum\")\n",
        "plt.plot(x,[],marker='.', c=\"blue\",label=\"Exponential\")\n",
        "plt.legend()"
      ],
      "metadata": {
        "colab": {
          "base_uri": "https://localhost:8080/",
          "height": 301
        },
        "id": "q0GAdwJDmULL",
        "outputId": "f54d114c-86cf-44a9-92e3-b4d43abd9839"
      },
      "id": "q0GAdwJDmULL",
      "execution_count": 91,
      "outputs": [
        {
          "output_type": "stream",
          "name": "stdout",
          "text": [
            "0.5819048852379487\n"
          ]
        },
        {
          "output_type": "execute_result",
          "data": {
            "text/plain": [
              "<matplotlib.legend.Legend at 0x7f85a1aaec70>"
            ]
          },
          "metadata": {},
          "execution_count": 91
        },
        {
          "output_type": "display_data",
          "data": {
            "text/plain": [
              "<Figure size 432x288 with 1 Axes>"
            ],
            "image/png": "[encoded data removed]"
          },
          "metadata": {
            "needs_background": "light"
          }
        }
      ]
    },
    {
      "cell_type": "code",
      "source": [
        "lst = [1,2,7,21,57,157,427,1162,3160,5000]\n",
        "lst.reverse()\n",
        "lst"
      ],
      "metadata": {
        "colab": {
          "base_uri": "https://localhost:8080/"
        },
        "id": "WUVZF_dWne2_",
        "outputId": "0a24c53b-8dc6-4204-8a7e-4da2c15e4600"
      },
      "id": "WUVZF_dWne2_",
      "execution_count": 110,
      "outputs": [
        {
          "output_type": "execute_result",
          "data": {
            "text/plain": [
              "[5000, 3160, 1162, 427, 157, 57, 21, 7, 2, 1]"
            ]
          },
          "metadata": {},
          "execution_count": 110
        }
      ]
    },
    {
      "cell_type": "code",
      "source": [],
      "metadata": {
        "id": "fkN7yqjYy_b7"
      },
      "id": "fkN7yqjYy_b7",
      "execution_count": null,
      "outputs": []
    }
  ],
  "metadata": {
    "accelerator": "GPU",
    "colab": {
      "provenance": [],
      "collapsed_sections": [
        "57363196",
        "b1964287",
        "65b2e05f",
        "19b35b6a",
        "60a5f548",
        "a72514b4",
        "d16e2037",
        "f765bb9b",
        "94b773f4",
        "9TxFwq9W_hKP"
      ]
    },
    "gpuClass": "standard",
    "kernelspec": {
      "display_name": "Python 3 (ipykernel)",
      "language": "python",
      "name": "python3"
    },
    "language_info": {
      "codemirror_mode": {
        "name": "ipython",
        "version": 3
      },
      "file_extension": ".py",
      "mimetype": "text/x-python",
      "name": "python",
      "nbconvert_exporter": "python",
      "pygments_lexer": "ipython3",
      "version": "3.8.8"
    },
    "widgets": {
      "application/vnd.jupyter.widget-state+json": {
        "6c3a1b3b30e947848ab3b841d7c1b246": {
          "model_module": "@jupyter-widgets/controls",
          "model_name": "HBoxModel",
          "model_module_version": "1.5.0",
          "state": {
            "_dom_classes": [],
            "_model_module": "@jupyter-widgets/controls",
            "_model_module_version": "1.5.0",
            "_model_name": "HBoxModel",
            "_view_count": null,
            "_view_module": "@jupyter-widgets/controls",
            "_view_module_version": "1.5.0",
            "_view_name": "HBoxView",
            "box_style": "",
            "children": [
              "IPY_MODEL_508b1948319d4f36bc4c0b541e670860",
              "IPY_MODEL_c4c113bdc9ac44438c50c2e4ae9cec1f",
              "IPY_MODEL_a46295ccb13f41c88e4aa8c77bd20d88"
            ],
            "layout": "IPY_MODEL_d7077592bb42495db039a7d3d76c4afb"
          }
        },
        "508b1948319d4f36bc4c0b541e670860": {
          "model_module": "@jupyter-widgets/controls",
          "model_name": "HTMLModel",
          "model_module_version": "1.5.0",
          "state": {
            "_dom_classes": [],
            "_model_module": "@jupyter-widgets/controls",
            "_model_module_version": "1.5.0",
            "_model_name": "HTMLModel",
            "_view_count": null,
            "_view_module": "@jupyter-widgets/controls",
            "_view_module_version": "1.5.0",
            "_view_name": "HTMLView",
            "description": "",
            "description_tooltip": null,
            "layout": "IPY_MODEL_5d2cd9a3f4cb49ed84d1a325536eb073",
            "placeholder": "​",
            "style": "IPY_MODEL_5038124e0ec64a609fb77d3b13feb937",
            "value": "100%"
          }
        },
        "c4c113bdc9ac44438c50c2e4ae9cec1f": {
          "model_module": "@jupyter-widgets/controls",
          "model_name": "FloatProgressModel",
          "model_module_version": "1.5.0",
          "state": {
            "_dom_classes": [],
            "_model_module": "@jupyter-widgets/controls",
            "_model_module_version": "1.5.0",
            "_model_name": "FloatProgressModel",
            "_view_count": null,
            "_view_module": "@jupyter-widgets/controls",
            "_view_module_version": "1.5.0",
            "_view_name": "ProgressView",
            "bar_style": "success",
            "description": "",
            "description_tooltip": null,
            "layout": "IPY_MODEL_6aa7466e5b414455b6a20c61d35aa71d",
            "max": 9912422,
            "min": 0,
            "orientation": "horizontal",
            "style": "IPY_MODEL_77ad76cc7f294f3badf4a109f8eb5155",
            "value": 9912422
          }
        },
        "a46295ccb13f41c88e4aa8c77bd20d88": {
          "model_module": "@jupyter-widgets/controls",
          "model_name": "HTMLModel",
          "model_module_version": "1.5.0",
          "state": {
            "_dom_classes": [],
            "_model_module": "@jupyter-widgets/controls",
            "_model_module_version": "1.5.0",
            "_model_name": "HTMLModel",
            "_view_count": null,
            "_view_module": "@jupyter-widgets/controls",
            "_view_module_version": "1.5.0",
            "_view_name": "HTMLView",
            "description": "",
            "description_tooltip": null,
            "layout": "IPY_MODEL_8360d2f336084bbb9856387519eb12b1",
            "placeholder": "​",
            "style": "IPY_MODEL_7b200f46cff3413987382a57b61e7acf",
            "value": " 9912422/9912422 [00:00&lt;00:00, 43820369.74it/s]"
          }
        },
        "d7077592bb42495db039a7d3d76c4afb": {
          "model_module": "@jupyter-widgets/base",
          "model_name": "LayoutModel",
          "model_module_version": "1.2.0",
          "state": {
            "_model_module": "@jupyter-widgets/base",
            "_model_module_version": "1.2.0",
            "_model_name": "LayoutModel",
            "_view_count": null,
            "_view_module": "@jupyter-widgets/base",
            "_view_module_version": "1.2.0",
            "_view_name": "LayoutView",
            "align_content": null,
            "align_items": null,
            "align_self": null,
            "border": null,
            "bottom": null,
            "display": null,
            "flex": null,
            "flex_flow": null,
            "grid_area": null,
            "grid_auto_columns": null,
            "grid_auto_flow": null,
            "grid_auto_rows": null,
            "grid_column": null,
            "grid_gap": null,
            "grid_row": null,
            "grid_template_areas": null,
            "grid_template_columns": null,
            "grid_template_rows": null,
            "height": null,
            "justify_content": null,
            "justify_items": null,
            "left": null,
            "margin": null,
            "max_height": null,
            "max_width": null,
            "min_height": null,
            "min_width": null,
            "object_fit": null,
            "object_position": null,
            "order": null,
            "overflow": null,
            "overflow_x": null,
            "overflow_y": null,
            "padding": null,
            "right": null,
            "top": null,
            "visibility": null,
            "width": null
          }
        },
        "5d2cd9a3f4cb49ed84d1a325536eb073": {
          "model_module": "@jupyter-widgets/base",
          "model_name": "LayoutModel",
          "model_module_version": "1.2.0",
          "state": {
            "_model_module": "@jupyter-widgets/base",
            "_model_module_version": "1.2.0",
            "_model_name": "LayoutModel",
            "_view_count": null,
            "_view_module": "@jupyter-widgets/base",
            "_view_module_version": "1.2.0",
            "_view_name": "LayoutView",
            "align_content": null,
            "align_items": null,
            "align_self": null,
            "border": null,
            "bottom": null,
            "display": null,
            "flex": null,
            "flex_flow": null,
            "grid_area": null,
            "grid_auto_columns": null,
            "grid_auto_flow": null,
            "grid_auto_rows": null,
            "grid_column": null,
            "grid_gap": null,
            "grid_row": null,
            "grid_template_areas": null,
            "grid_template_columns": null,
            "grid_template_rows": null,
            "height": null,
            "justify_content": null,
            "justify_items": null,
            "left": null,
            "margin": null,
            "max_height": null,
            "max_width": null,
            "min_height": null,
            "min_width": null,
            "object_fit": null,
            "object_position": null,
            "order": null,
            "overflow": null,
            "overflow_x": null,
            "overflow_y": null,
            "padding": null,
            "right": null,
            "top": null,
            "visibility": null,
            "width": null
          }
        },
        "5038124e0ec64a609fb77d3b13feb937": {
          "model_module": "@jupyter-widgets/controls",
          "model_name": "DescriptionStyleModel",
          "model_module_version": "1.5.0",
          "state": {
            "_model_module": "@jupyter-widgets/controls",
            "_model_module_version": "1.5.0",
            "_model_name": "DescriptionStyleModel",
            "_view_count": null,
            "_view_module": "@jupyter-widgets/base",
            "_view_module_version": "1.2.0",
            "_view_name": "StyleView",
            "description_width": ""
          }
        },
        "6aa7466e5b414455b6a20c61d35aa71d": {
          "model_module": "@jupyter-widgets/base",
          "model_name": "LayoutModel",
          "model_module_version": "1.2.0",
          "state": {
            "_model_module": "@jupyter-widgets/base",
            "_model_module_version": "1.2.0",
            "_model_name": "LayoutModel",
            "_view_count": null,
            "_view_module": "@jupyter-widgets/base",
            "_view_module_version": "1.2.0",
            "_view_name": "LayoutView",
            "align_content": null,
            "align_items": null,
            "align_self": null,
            "border": null,
            "bottom": null,
            "display": null,
            "flex": null,
            "flex_flow": null,
            "grid_area": null,
            "grid_auto_columns": null,
            "grid_auto_flow": null,
            "grid_auto_rows": null,
            "grid_column": null,
            "grid_gap": null,
            "grid_row": null,
            "grid_template_areas": null,
            "grid_template_columns": null,
            "grid_template_rows": null,
            "height": null,
            "justify_content": null,
            "justify_items": null,
            "left": null,
            "margin": null,
            "max_height": null,
            "max_width": null,
            "min_height": null,
            "min_width": null,
            "object_fit": null,
            "object_position": null,
            "order": null,
            "overflow": null,
            "overflow_x": null,
            "overflow_y": null,
            "padding": null,
            "right": null,
            "top": null,
            "visibility": null,
            "width": null
          }
        },
        "77ad76cc7f294f3badf4a109f8eb5155": {
          "model_module": "@jupyter-widgets/controls",
          "model_name": "ProgressStyleModel",
          "model_module_version": "1.5.0",
          "state": {
            "_model_module": "@jupyter-widgets/controls",
            "_model_module_version": "1.5.0",
            "_model_name": "ProgressStyleModel",
            "_view_count": null,
            "_view_module": "@jupyter-widgets/base",
            "_view_module_version": "1.2.0",
            "_view_name": "StyleView",
            "bar_color": null,
            "description_width": ""
          }
        },
        "8360d2f336084bbb9856387519eb12b1": {
          "model_module": "@jupyter-widgets/base",
          "model_name": "LayoutModel",
          "model_module_version": "1.2.0",
          "state": {
            "_model_module": "@jupyter-widgets/base",
            "_model_module_version": "1.2.0",
            "_model_name": "LayoutModel",
            "_view_count": null,
            "_view_module": "@jupyter-widgets/base",
            "_view_module_version": "1.2.0",
            "_view_name": "LayoutView",
            "align_content": null,
            "align_items": null,
            "align_self": null,
            "border": null,
            "bottom": null,
            "display": null,
            "flex": null,
            "flex_flow": null,
            "grid_area": null,
            "grid_auto_columns": null,
            "grid_auto_flow": null,
            "grid_auto_rows": null,
            "grid_column": null,
            "grid_gap": null,
            "grid_row": null,
            "grid_template_areas": null,
            "grid_template_columns": null,
            "grid_template_rows": null,
            "height": null,
            "justify_content": null,
            "justify_items": null,
            "left": null,
            "margin": null,
            "max_height": null,
            "max_width": null,
            "min_height": null,
            "min_width": null,
            "object_fit": null,
            "object_position": null,
            "order": null,
            "overflow": null,
            "overflow_x": null,
            "overflow_y": null,
            "padding": null,
            "right": null,
            "top": null,
            "visibility": null,
            "width": null
          }
        },
        "7b200f46cff3413987382a57b61e7acf": {
          "model_module": "@jupyter-widgets/controls",
          "model_name": "DescriptionStyleModel",
          "model_module_version": "1.5.0",
          "state": {
            "_model_module": "@jupyter-widgets/controls",
            "_model_module_version": "1.5.0",
            "_model_name": "DescriptionStyleModel",
            "_view_count": null,
            "_view_module": "@jupyter-widgets/base",
            "_view_module_version": "1.2.0",
            "_view_name": "StyleView",
            "description_width": ""
          }
        },
        "fa18d81095674e6f9711894526102624": {
          "model_module": "@jupyter-widgets/controls",
          "model_name": "HBoxModel",
          "model_module_version": "1.5.0",
          "state": {
            "_dom_classes": [],
            "_model_module": "@jupyter-widgets/controls",
            "_model_module_version": "1.5.0",
            "_model_name": "HBoxModel",
            "_view_count": null,
            "_view_module": "@jupyter-widgets/controls",
            "_view_module_version": "1.5.0",
            "_view_name": "HBoxView",
            "box_style": "",
            "children": [
              "IPY_MODEL_06deb56c44894bfc8002bc66a0e42b00",
              "IPY_MODEL_e19089bd676948df9814fe0a83de38d8",
              "IPY_MODEL_ac94651f6d0546d2a510654fa2b84162"
            ],
            "layout": "IPY_MODEL_f060fbb5fe364ef1a72f6eaa6112b0bb"
          }
        },
        "06deb56c44894bfc8002bc66a0e42b00": {
          "model_module": "@jupyter-widgets/controls",
          "model_name": "HTMLModel",
          "model_module_version": "1.5.0",
          "state": {
            "_dom_classes": [],
            "_model_module": "@jupyter-widgets/controls",
            "_model_module_version": "1.5.0",
            "_model_name": "HTMLModel",
            "_view_count": null,
            "_view_module": "@jupyter-widgets/controls",
            "_view_module_version": "1.5.0",
            "_view_name": "HTMLView",
            "description": "",
            "description_tooltip": null,
            "layout": "IPY_MODEL_2bd58a0ea5034841a4955e8a4301c79c",
            "placeholder": "​",
            "style": "IPY_MODEL_7e76c1617dff4785a45d4576ea436daf",
            "value": "100%"
          }
        },
        "e19089bd676948df9814fe0a83de38d8": {
          "model_module": "@jupyter-widgets/controls",
          "model_name": "FloatProgressModel",
          "model_module_version": "1.5.0",
          "state": {
            "_dom_classes": [],
            "_model_module": "@jupyter-widgets/controls",
            "_model_module_version": "1.5.0",
            "_model_name": "FloatProgressModel",
            "_view_count": null,
            "_view_module": "@jupyter-widgets/controls",
            "_view_module_version": "1.5.0",
            "_view_name": "ProgressView",
            "bar_style": "success",
            "description": "",
            "description_tooltip": null,
            "layout": "IPY_MODEL_e9b3f711ef3649c7bbb842d8e132d36c",
            "max": 28881,
            "min": 0,
            "orientation": "horizontal",
            "style": "IPY_MODEL_06c1c6a7a69f47e08ccc5632075c5eee",
            "value": 28881
          }
        },
        "ac94651f6d0546d2a510654fa2b84162": {
          "model_module": "@jupyter-widgets/controls",
          "model_name": "HTMLModel",
          "model_module_version": "1.5.0",
          "state": {
            "_dom_classes": [],
            "_model_module": "@jupyter-widgets/controls",
            "_model_module_version": "1.5.0",
            "_model_name": "HTMLModel",
            "_view_count": null,
            "_view_module": "@jupyter-widgets/controls",
            "_view_module_version": "1.5.0",
            "_view_name": "HTMLView",
            "description": "",
            "description_tooltip": null,
            "layout": "IPY_MODEL_5af6de83ffde48df908c800c763a520c",
            "placeholder": "​",
            "style": "IPY_MODEL_3178e273361647c29f48c5565f0c4ad2",
            "value": " 28881/28881 [00:00&lt;00:00, 319993.27it/s]"
          }
        },
        "f060fbb5fe364ef1a72f6eaa6112b0bb": {
          "model_module": "@jupyter-widgets/base",
          "model_name": "LayoutModel",
          "model_module_version": "1.2.0",
          "state": {
            "_model_module": "@jupyter-widgets/base",
            "_model_module_version": "1.2.0",
            "_model_name": "LayoutModel",
            "_view_count": null,
            "_view_module": "@jupyter-widgets/base",
            "_view_module_version": "1.2.0",
            "_view_name": "LayoutView",
            "align_content": null,
            "align_items": null,
            "align_self": null,
            "border": null,
            "bottom": null,
            "display": null,
            "flex": null,
            "flex_flow": null,
            "grid_area": null,
            "grid_auto_columns": null,
            "grid_auto_flow": null,
            "grid_auto_rows": null,
            "grid_column": null,
            "grid_gap": null,
            "grid_row": null,
            "grid_template_areas": null,
            "grid_template_columns": null,
            "grid_template_rows": null,
            "height": null,
            "justify_content": null,
            "justify_items": null,
            "left": null,
            "margin": null,
            "max_height": null,
            "max_width": null,
            "min_height": null,
            "min_width": null,
            "object_fit": null,
            "object_position": null,
            "order": null,
            "overflow": null,
            "overflow_x": null,
            "overflow_y": null,
            "padding": null,
            "right": null,
            "top": null,
            "visibility": null,
            "width": null
          }
        },
        "2bd58a0ea5034841a4955e8a4301c79c": {
          "model_module": "@jupyter-widgets/base",
          "model_name": "LayoutModel",
          "model_module_version": "1.2.0",
          "state": {
            "_model_module": "@jupyter-widgets/base",
            "_model_module_version": "1.2.0",
            "_model_name": "LayoutModel",
            "_view_count": null,
            "_view_module": "@jupyter-widgets/base",
            "_view_module_version": "1.2.0",
            "_view_name": "LayoutView",
            "align_content": null,
            "align_items": null,
            "align_self": null,
            "border": null,
            "bottom": null,
            "display": null,
            "flex": null,
            "flex_flow": null,
            "grid_area": null,
            "grid_auto_columns": null,
            "grid_auto_flow": null,
            "grid_auto_rows": null,
            "grid_column": null,
            "grid_gap": null,
            "grid_row": null,
            "grid_template_areas": null,
            "grid_template_columns": null,
            "grid_template_rows": null,
            "height": null,
            "justify_content": null,
            "justify_items": null,
            "left": null,
            "margin": null,
            "max_height": null,
            "max_width": null,
            "min_height": null,
            "min_width": null,
            "object_fit": null,
            "object_position": null,
            "order": null,
            "overflow": null,
            "overflow_x": null,
            "overflow_y": null,
            "padding": null,
            "right": null,
            "top": null,
            "visibility": null,
            "width": null
          }
        },
        "7e76c1617dff4785a45d4576ea436daf": {
          "model_module": "@jupyter-widgets/controls",
          "model_name": "DescriptionStyleModel",
          "model_module_version": "1.5.0",
          "state": {
            "_model_module": "@jupyter-widgets/controls",
            "_model_module_version": "1.5.0",
            "_model_name": "DescriptionStyleModel",
            "_view_count": null,
            "_view_module": "@jupyter-widgets/base",
            "_view_module_version": "1.2.0",
            "_view_name": "StyleView",
            "description_width": ""
          }
        },
        "e9b3f711ef3649c7bbb842d8e132d36c": {
          "model_module": "@jupyter-widgets/base",
          "model_name": "LayoutModel",
          "model_module_version": "1.2.0",
          "state": {
            "_model_module": "@jupyter-widgets/base",
            "_model_module_version": "1.2.0",
            "_model_name": "LayoutModel",
            "_view_count": null,
            "_view_module": "@jupyter-widgets/base",
            "_view_module_version": "1.2.0",
            "_view_name": "LayoutView",
            "align_content": null,
            "align_items": null,
            "align_self": null,
            "border": null,
            "bottom": null,
            "display": null,
            "flex": null,
            "flex_flow": null,
            "grid_area": null,
            "grid_auto_columns": null,
            "grid_auto_flow": null,
            "grid_auto_rows": null,
            "grid_column": null,
            "grid_gap": null,
            "grid_row": null,
            "grid_template_areas": null,
            "grid_template_columns": null,
            "grid_template_rows": null,
            "height": null,
            "justify_content": null,
            "justify_items": null,
            "left": null,
            "margin": null,
            "max_height": null,
            "max_width": null,
            "min_height": null,
            "min_width": null,
            "object_fit": null,
            "object_position": null,
            "order": null,
            "overflow": null,
            "overflow_x": null,
            "overflow_y": null,
            "padding": null,
            "right": null,
            "top": null,
            "visibility": null,
            "width": null
          }
        },
        "06c1c6a7a69f47e08ccc5632075c5eee": {
          "model_module": "@jupyter-widgets/controls",
          "model_name": "ProgressStyleModel",
          "model_module_version": "1.5.0",
          "state": {
            "_model_module": "@jupyter-widgets/controls",
            "_model_module_version": "1.5.0",
            "_model_name": "ProgressStyleModel",
            "_view_count": null,
            "_view_module": "@jupyter-widgets/base",
            "_view_module_version": "1.2.0",
            "_view_name": "StyleView",
            "bar_color": null,
            "description_width": ""
          }
        },
        "5af6de83ffde48df908c800c763a520c": {
          "model_module": "@jupyter-widgets/base",
          "model_name": "LayoutModel",
          "model_module_version": "1.2.0",
          "state": {
            "_model_module": "@jupyter-widgets/base",
            "_model_module_version": "1.2.0",
            "_model_name": "LayoutModel",
            "_view_count": null,
            "_view_module": "@jupyter-widgets/base",
            "_view_module_version": "1.2.0",
            "_view_name": "LayoutView",
            "align_content": null,
            "align_items": null,
            "align_self": null,
            "border": null,
            "bottom": null,
            "display": null,
            "flex": null,
            "flex_flow": null,
            "grid_area": null,
            "grid_auto_columns": null,
            "grid_auto_flow": null,
            "grid_auto_rows": null,
            "grid_column": null,
            "grid_gap": null,
            "grid_row": null,
            "grid_template_areas": null,
            "grid_template_columns": null,
            "grid_template_rows": null,
            "height": null,
            "justify_content": null,
            "justify_items": null,
            "left": null,
            "margin": null,
            "max_height": null,
            "max_width": null,
            "min_height": null,
            "min_width": null,
            "object_fit": null,
            "object_position": null,
            "order": null,
            "overflow": null,
            "overflow_x": null,
            "overflow_y": null,
            "padding": null,
            "right": null,
            "top": null,
            "visibility": null,
            "width": null
          }
        },
        "3178e273361647c29f48c5565f0c4ad2": {
          "model_module": "@jupyter-widgets/controls",
          "model_name": "DescriptionStyleModel",
          "model_module_version": "1.5.0",
          "state": {
            "_model_module": "@jupyter-widgets/controls",
            "_model_module_version": "1.5.0",
            "_model_name": "DescriptionStyleModel",
            "_view_count": null,
            "_view_module": "@jupyter-widgets/base",
            "_view_module_version": "1.2.0",
            "_view_name": "StyleView",
            "description_width": ""
          }
        },
        "ba340d1e0b5b4b72b298da3826a1f2ff": {
          "model_module": "@jupyter-widgets/controls",
          "model_name": "HBoxModel",
          "model_module_version": "1.5.0",
          "state": {
            "_dom_classes": [],
            "_model_module": "@jupyter-widgets/controls",
            "_model_module_version": "1.5.0",
            "_model_name": "HBoxModel",
            "_view_count": null,
            "_view_module": "@jupyter-widgets/controls",
            "_view_module_version": "1.5.0",
            "_view_name": "HBoxView",
            "box_style": "",
            "children": [
              "IPY_MODEL_d47aff8831f44792b52468c1747c7fc9",
              "IPY_MODEL_709c0b2017584f2d92bf3e3f97b43eed",
              "IPY_MODEL_37ae7828a79143919ba3f25a429e5d4b"
            ],
            "layout": "IPY_MODEL_004df9ceaaf849b9b947c2881d2deee3"
          }
        },
        "d47aff8831f44792b52468c1747c7fc9": {
          "model_module": "@jupyter-widgets/controls",
          "model_name": "HTMLModel",
          "model_module_version": "1.5.0",
          "state": {
            "_dom_classes": [],
            "_model_module": "@jupyter-widgets/controls",
            "_model_module_version": "1.5.0",
            "_model_name": "HTMLModel",
            "_view_count": null,
            "_view_module": "@jupyter-widgets/controls",
            "_view_module_version": "1.5.0",
            "_view_name": "HTMLView",
            "description": "",
            "description_tooltip": null,
            "layout": "IPY_MODEL_13033fe816c34055804f252adeb77a29",
            "placeholder": "​",
            "style": "IPY_MODEL_0a0a407a759d49c68029c3413042e140",
            "value": "100%"
          }
        },
        "709c0b2017584f2d92bf3e3f97b43eed": {
          "model_module": "@jupyter-widgets/controls",
          "model_name": "FloatProgressModel",
          "model_module_version": "1.5.0",
          "state": {
            "_dom_classes": [],
            "_model_module": "@jupyter-widgets/controls",
            "_model_module_version": "1.5.0",
            "_model_name": "FloatProgressModel",
            "_view_count": null,
            "_view_module": "@jupyter-widgets/controls",
            "_view_module_version": "1.5.0",
            "_view_name": "ProgressView",
            "bar_style": "success",
            "description": "",
            "description_tooltip": null,
            "layout": "IPY_MODEL_efaff4365a6c40ca97bfb742b269cc82",
            "max": 1648877,
            "min": 0,
            "orientation": "horizontal",
            "style": "IPY_MODEL_4a75bea42c5641b9b56cd5f711c7b06a",
            "value": 1648877
          }
        },
        "37ae7828a79143919ba3f25a429e5d4b": {
          "model_module": "@jupyter-widgets/controls",
          "model_name": "HTMLModel",
          "model_module_version": "1.5.0",
          "state": {
            "_dom_classes": [],
            "_model_module": "@jupyter-widgets/controls",
            "_model_module_version": "1.5.0",
            "_model_name": "HTMLModel",
            "_view_count": null,
            "_view_module": "@jupyter-widgets/controls",
            "_view_module_version": "1.5.0",
            "_view_name": "HTMLView",
            "description": "",
            "description_tooltip": null,
            "layout": "IPY_MODEL_de5d0fff14c5493793bd5fbed13489b8",
            "placeholder": "​",
            "style": "IPY_MODEL_f6a38134a24142a4acec2bc48facab2e",
            "value": " 1648877/1648877 [00:00&lt;00:00, 9763878.22it/s]"
          }
        },
        "004df9ceaaf849b9b947c2881d2deee3": {
          "model_module": "@jupyter-widgets/base",
          "model_name": "LayoutModel",
          "model_module_version": "1.2.0",
          "state": {
            "_model_module": "@jupyter-widgets/base",
            "_model_module_version": "1.2.0",
            "_model_name": "LayoutModel",
            "_view_count": null,
            "_view_module": "@jupyter-widgets/base",
            "_view_module_version": "1.2.0",
            "_view_name": "LayoutView",
            "align_content": null,
            "align_items": null,
            "align_self": null,
            "border": null,
            "bottom": null,
            "display": null,
            "flex": null,
            "flex_flow": null,
            "grid_area": null,
            "grid_auto_columns": null,
            "grid_auto_flow": null,
            "grid_auto_rows": null,
            "grid_column": null,
            "grid_gap": null,
            "grid_row": null,
            "grid_template_areas": null,
            "grid_template_columns": null,
            "grid_template_rows": null,
            "height": null,
            "justify_content": null,
            "justify_items": null,
            "left": null,
            "margin": null,
            "max_height": null,
            "max_width": null,
            "min_height": null,
            "min_width": null,
            "object_fit": null,
            "object_position": null,
            "order": null,
            "overflow": null,
            "overflow_x": null,
            "overflow_y": null,
            "padding": null,
            "right": null,
            "top": null,
            "visibility": null,
            "width": null
          }
        },
        "13033fe816c34055804f252adeb77a29": {
          "model_module": "@jupyter-widgets/base",
          "model_name": "LayoutModel",
          "model_module_version": "1.2.0",
          "state": {
            "_model_module": "@jupyter-widgets/base",
            "_model_module_version": "1.2.0",
            "_model_name": "LayoutModel",
            "_view_count": null,
            "_view_module": "@jupyter-widgets/base",
            "_view_module_version": "1.2.0",
            "_view_name": "LayoutView",
            "align_content": null,
            "align_items": null,
            "align_self": null,
            "border": null,
            "bottom": null,
            "display": null,
            "flex": null,
            "flex_flow": null,
            "grid_area": null,
            "grid_auto_columns": null,
            "grid_auto_flow": null,
            "grid_auto_rows": null,
            "grid_column": null,
            "grid_gap": null,
            "grid_row": null,
            "grid_template_areas": null,
            "grid_template_columns": null,
            "grid_template_rows": null,
            "height": null,
            "justify_content": null,
            "justify_items": null,
            "left": null,
            "margin": null,
            "max_height": null,
            "max_width": null,
            "min_height": null,
            "min_width": null,
            "object_fit": null,
            "object_position": null,
            "order": null,
            "overflow": null,
            "overflow_x": null,
            "overflow_y": null,
            "padding": null,
            "right": null,
            "top": null,
            "visibility": null,
            "width": null
          }
        },
        "0a0a407a759d49c68029c3413042e140": {
          "model_module": "@jupyter-widgets/controls",
          "model_name": "DescriptionStyleModel",
          "model_module_version": "1.5.0",
          "state": {
            "_model_module": "@jupyter-widgets/controls",
            "_model_module_version": "1.5.0",
            "_model_name": "DescriptionStyleModel",
            "_view_count": null,
            "_view_module": "@jupyter-widgets/base",
            "_view_module_version": "1.2.0",
            "_view_name": "StyleView",
            "description_width": ""
          }
        },
        "efaff4365a6c40ca97bfb742b269cc82": {
          "model_module": "@jupyter-widgets/base",
          "model_name": "LayoutModel",
          "model_module_version": "1.2.0",
          "state": {
            "_model_module": "@jupyter-widgets/base",
            "_model_module_version": "1.2.0",
            "_model_name": "LayoutModel",
            "_view_count": null,
            "_view_module": "@jupyter-widgets/base",
            "_view_module_version": "1.2.0",
            "_view_name": "LayoutView",
            "align_content": null,
            "align_items": null,
            "align_self": null,
            "border": null,
            "bottom": null,
            "display": null,
            "flex": null,
            "flex_flow": null,
            "grid_area": null,
            "grid_auto_columns": null,
            "grid_auto_flow": null,
            "grid_auto_rows": null,
            "grid_column": null,
            "grid_gap": null,
            "grid_row": null,
            "grid_template_areas": null,
            "grid_template_columns": null,
            "grid_template_rows": null,
            "height": null,
            "justify_content": null,
            "justify_items": null,
            "left": null,
            "margin": null,
            "max_height": null,
            "max_width": null,
            "min_height": null,
            "min_width": null,
            "object_fit": null,
            "object_position": null,
            "order": null,
            "overflow": null,
            "overflow_x": null,
            "overflow_y": null,
            "padding": null,
            "right": null,
            "top": null,
            "visibility": null,
            "width": null
          }
        },
        "4a75bea42c5641b9b56cd5f711c7b06a": {
          "model_module": "@jupyter-widgets/controls",
          "model_name": "ProgressStyleModel",
          "model_module_version": "1.5.0",
          "state": {
            "_model_module": "@jupyter-widgets/controls",
            "_model_module_version": "1.5.0",
            "_model_name": "ProgressStyleModel",
            "_view_count": null,
            "_view_module": "@jupyter-widgets/base",
            "_view_module_version": "1.2.0",
            "_view_name": "StyleView",
            "bar_color": null,
            "description_width": ""
          }
        },
        "de5d0fff14c5493793bd5fbed13489b8": {
          "model_module": "@jupyter-widgets/base",
          "model_name": "LayoutModel",
          "model_module_version": "1.2.0",
          "state": {
            "_model_module": "@jupyter-widgets/base",
            "_model_module_version": "1.2.0",
            "_model_name": "LayoutModel",
            "_view_count": null,
            "_view_module": "@jupyter-widgets/base",
            "_view_module_version": "1.2.0",
            "_view_name": "LayoutView",
            "align_content": null,
            "align_items": null,
            "align_self": null,
            "border": null,
            "bottom": null,
            "display": null,
            "flex": null,
            "flex_flow": null,
            "grid_area": null,
            "grid_auto_columns": null,
            "grid_auto_flow": null,
            "grid_auto_rows": null,
            "grid_column": null,
            "grid_gap": null,
            "grid_row": null,
            "grid_template_areas": null,
            "grid_template_columns": null,
            "grid_template_rows": null,
            "height": null,
            "justify_content": null,
            "justify_items": null,
            "left": null,
            "margin": null,
            "max_height": null,
            "max_width": null,
            "min_height": null,
            "min_width": null,
            "object_fit": null,
            "object_position": null,
            "order": null,
            "overflow": null,
            "overflow_x": null,
            "overflow_y": null,
            "padding": null,
            "right": null,
            "top": null,
            "visibility": null,
            "width": null
          }
        },
        "f6a38134a24142a4acec2bc48facab2e": {
          "model_module": "@jupyter-widgets/controls",
          "model_name": "DescriptionStyleModel",
          "model_module_version": "1.5.0",
          "state": {
            "_model_module": "@jupyter-widgets/controls",
            "_model_module_version": "1.5.0",
            "_model_name": "DescriptionStyleModel",
            "_view_count": null,
            "_view_module": "@jupyter-widgets/base",
            "_view_module_version": "1.2.0",
            "_view_name": "StyleView",
            "description_width": ""
          }
        },
        "6084340b89714d7ab1f3df4f1eed0e9a": {
          "model_module": "@jupyter-widgets/controls",
          "model_name": "HBoxModel",
          "model_module_version": "1.5.0",
          "state": {
            "_dom_classes": [],
            "_model_module": "@jupyter-widgets/controls",
            "_model_module_version": "1.5.0",
            "_model_name": "HBoxModel",
            "_view_count": null,
            "_view_module": "@jupyter-widgets/controls",
            "_view_module_version": "1.5.0",
            "_view_name": "HBoxView",
            "box_style": "",
            "children": [
              "IPY_MODEL_f46e733e62d74491bbae97efbff9a60e",
              "IPY_MODEL_c8db46ab83534f328934528356ac540a",
              "IPY_MODEL_cca9876642484b329e60fd62859fbe3b"
            ],
            "layout": "IPY_MODEL_4afd03e98b834eba8e928dd2c7826550"
          }
        },
        "f46e733e62d74491bbae97efbff9a60e": {
          "model_module": "@jupyter-widgets/controls",
          "model_name": "HTMLModel",
          "model_module_version": "1.5.0",
          "state": {
            "_dom_classes": [],
            "_model_module": "@jupyter-widgets/controls",
            "_model_module_version": "1.5.0",
            "_model_name": "HTMLModel",
            "_view_count": null,
            "_view_module": "@jupyter-widgets/controls",
            "_view_module_version": "1.5.0",
            "_view_name": "HTMLView",
            "description": "",
            "description_tooltip": null,
            "layout": "IPY_MODEL_7bdd679a86ea4fca9c2258bfcd9f6baf",
            "placeholder": "​",
            "style": "IPY_MODEL_af10b09f6dcf48e4a10b920843096c2a",
            "value": "100%"
          }
        },
        "c8db46ab83534f328934528356ac540a": {
          "model_module": "@jupyter-widgets/controls",
          "model_name": "FloatProgressModel",
          "model_module_version": "1.5.0",
          "state": {
            "_dom_classes": [],
            "_model_module": "@jupyter-widgets/controls",
            "_model_module_version": "1.5.0",
            "_model_name": "FloatProgressModel",
            "_view_count": null,
            "_view_module": "@jupyter-widgets/controls",
            "_view_module_version": "1.5.0",
            "_view_name": "ProgressView",
            "bar_style": "success",
            "description": "",
            "description_tooltip": null,
            "layout": "IPY_MODEL_24402dc5b1ca4ba382df5a81cc8f5ec7",
            "max": 4542,
            "min": 0,
            "orientation": "horizontal",
            "style": "IPY_MODEL_fa655db548f44f9d8a37fac91a441aa7",
            "value": 4542
          }
        },
        "cca9876642484b329e60fd62859fbe3b": {
          "model_module": "@jupyter-widgets/controls",
          "model_name": "HTMLModel",
          "model_module_version": "1.5.0",
          "state": {
            "_dom_classes": [],
            "_model_module": "@jupyter-widgets/controls",
            "_model_module_version": "1.5.0",
            "_model_name": "HTMLModel",
            "_view_count": null,
            "_view_module": "@jupyter-widgets/controls",
            "_view_module_version": "1.5.0",
            "_view_name": "HTMLView",
            "description": "",
            "description_tooltip": null,
            "layout": "IPY_MODEL_af4e64514deb4717b4dca2dca6ec74ca",
            "placeholder": "​",
            "style": "IPY_MODEL_3d0380e06c62463a898588c5c42afb6a",
            "value": " 4542/4542 [00:00&lt;00:00, 63224.00it/s]"
          }
        },
        "4afd03e98b834eba8e928dd2c7826550": {
          "model_module": "@jupyter-widgets/base",
          "model_name": "LayoutModel",
          "model_module_version": "1.2.0",
          "state": {
            "_model_module": "@jupyter-widgets/base",
            "_model_module_version": "1.2.0",
            "_model_name": "LayoutModel",
            "_view_count": null,
            "_view_module": "@jupyter-widgets/base",
            "_view_module_version": "1.2.0",
            "_view_name": "LayoutView",
            "align_content": null,
            "align_items": null,
            "align_self": null,
            "border": null,
            "bottom": null,
            "display": null,
            "flex": null,
            "flex_flow": null,
            "grid_area": null,
            "grid_auto_columns": null,
            "grid_auto_flow": null,
            "grid_auto_rows": null,
            "grid_column": null,
            "grid_gap": null,
            "grid_row": null,
            "grid_template_areas": null,
            "grid_template_columns": null,
            "grid_template_rows": null,
            "height": null,
            "justify_content": null,
            "justify_items": null,
            "left": null,
            "margin": null,
            "max_height": null,
            "max_width": null,
            "min_height": null,
            "min_width": null,
            "object_fit": null,
            "object_position": null,
            "order": null,
            "overflow": null,
            "overflow_x": null,
            "overflow_y": null,
            "padding": null,
            "right": null,
            "top": null,
            "visibility": null,
            "width": null
          }
        },
        "7bdd679a86ea4fca9c2258bfcd9f6baf": {
          "model_module": "@jupyter-widgets/base",
          "model_name": "LayoutModel",
          "model_module_version": "1.2.0",
          "state": {
            "_model_module": "@jupyter-widgets/base",
            "_model_module_version": "1.2.0",
            "_model_name": "LayoutModel",
            "_view_count": null,
            "_view_module": "@jupyter-widgets/base",
            "_view_module_version": "1.2.0",
            "_view_name": "LayoutView",
            "align_content": null,
            "align_items": null,
            "align_self": null,
            "border": null,
            "bottom": null,
            "display": null,
            "flex": null,
            "flex_flow": null,
            "grid_area": null,
            "grid_auto_columns": null,
            "grid_auto_flow": null,
            "grid_auto_rows": null,
            "grid_column": null,
            "grid_gap": null,
            "grid_row": null,
            "grid_template_areas": null,
            "grid_template_columns": null,
            "grid_template_rows": null,
            "height": null,
            "justify_content": null,
            "justify_items": null,
            "left": null,
            "margin": null,
            "max_height": null,
            "max_width": null,
            "min_height": null,
            "min_width": null,
            "object_fit": null,
            "object_position": null,
            "order": null,
            "overflow": null,
            "overflow_x": null,
            "overflow_y": null,
            "padding": null,
            "right": null,
            "top": null,
            "visibility": null,
            "width": null
          }
        },
        "af10b09f6dcf48e4a10b920843096c2a": {
          "model_module": "@jupyter-widgets/controls",
          "model_name": "DescriptionStyleModel",
          "model_module_version": "1.5.0",
          "state": {
            "_model_module": "@jupyter-widgets/controls",
            "_model_module_version": "1.5.0",
            "_model_name": "DescriptionStyleModel",
            "_view_count": null,
            "_view_module": "@jupyter-widgets/base",
            "_view_module_version": "1.2.0",
            "_view_name": "StyleView",
            "description_width": ""
          }
        },
        "24402dc5b1ca4ba382df5a81cc8f5ec7": {
          "model_module": "@jupyter-widgets/base",
          "model_name": "LayoutModel",
          "model_module_version": "1.2.0",
          "state": {
            "_model_module": "@jupyter-widgets/base",
            "_model_module_version": "1.2.0",
            "_model_name": "LayoutModel",
            "_view_count": null,
            "_view_module": "@jupyter-widgets/base",
            "_view_module_version": "1.2.0",
            "_view_name": "LayoutView",
            "align_content": null,
            "align_items": null,
            "align_self": null,
            "border": null,
            "bottom": null,
            "display": null,
            "flex": null,
            "flex_flow": null,
            "grid_area": null,
            "grid_auto_columns": null,
            "grid_auto_flow": null,
            "grid_auto_rows": null,
            "grid_column": null,
            "grid_gap": null,
            "grid_row": null,
            "grid_template_areas": null,
            "grid_template_columns": null,
            "grid_template_rows": null,
            "height": null,
            "justify_content": null,
            "justify_items": null,
            "left": null,
            "margin": null,
            "max_height": null,
            "max_width": null,
            "min_height": null,
            "min_width": null,
            "object_fit": null,
            "object_position": null,
            "order": null,
            "overflow": null,
            "overflow_x": null,
            "overflow_y": null,
            "padding": null,
            "right": null,
            "top": null,
            "visibility": null,
            "width": null
          }
        },
        "fa655db548f44f9d8a37fac91a441aa7": {
          "model_module": "@jupyter-widgets/controls",
          "model_name": "ProgressStyleModel",
          "model_module_version": "1.5.0",
          "state": {
            "_model_module": "@jupyter-widgets/controls",
            "_model_module_version": "1.5.0",
            "_model_name": "ProgressStyleModel",
            "_view_count": null,
            "_view_module": "@jupyter-widgets/base",
            "_view_module_version": "1.2.0",
            "_view_name": "StyleView",
            "bar_color": null,
            "description_width": ""
          }
        },
        "af4e64514deb4717b4dca2dca6ec74ca": {
          "model_module": "@jupyter-widgets/base",
          "model_name": "LayoutModel",
          "model_module_version": "1.2.0",
          "state": {
            "_model_module": "@jupyter-widgets/base",
            "_model_module_version": "1.2.0",
            "_model_name": "LayoutModel",
            "_view_count": null,
            "_view_module": "@jupyter-widgets/base",
            "_view_module_version": "1.2.0",
            "_view_name": "LayoutView",
            "align_content": null,
            "align_items": null,
            "align_self": null,
            "border": null,
            "bottom": null,
            "display": null,
            "flex": null,
            "flex_flow": null,
            "grid_area": null,
            "grid_auto_columns": null,
            "grid_auto_flow": null,
            "grid_auto_rows": null,
            "grid_column": null,
            "grid_gap": null,
            "grid_row": null,
            "grid_template_areas": null,
            "grid_template_columns": null,
            "grid_template_rows": null,
            "height": null,
            "justify_content": null,
            "justify_items": null,
            "left": null,
            "margin": null,
            "max_height": null,
            "max_width": null,
            "min_height": null,
            "min_width": null,
            "object_fit": null,
            "object_position": null,
            "order": null,
            "overflow": null,
            "overflow_x": null,
            "overflow_y": null,
            "padding": null,
            "right": null,
            "top": null,
            "visibility": null,
            "width": null
          }
        },
        "3d0380e06c62463a898588c5c42afb6a": {
          "model_module": "@jupyter-widgets/controls",
          "model_name": "DescriptionStyleModel",
          "model_module_version": "1.5.0",
          "state": {
            "_model_module": "@jupyter-widgets/controls",
            "_model_module_version": "1.5.0",
            "_model_name": "DescriptionStyleModel",
            "_view_count": null,
            "_view_module": "@jupyter-widgets/base",
            "_view_module_version": "1.2.0",
            "_view_name": "StyleView",
            "description_width": ""
          }
        }
      }
    }
  },
  "nbformat": 4,
  "nbformat_minor": 5
}