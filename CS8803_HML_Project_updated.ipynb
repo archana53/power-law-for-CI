{
  "cells": [
    {
      "cell_type": "code",
      "execution_count": 2,
      "id": "5dd60fa2",
      "metadata": {
        "id": "5dd60fa2"
      },
      "outputs": [],
      "source": [
        "import pandas as pd\n",
        "import numpy as np\n",
        "import matplotlib.pyplot as plt\n",
        "import seaborn as sns\n",
        "import tensorflow as tf\n",
        "from sklearn import metrics\n",
        "%matplotlib inline"
      ]
    },
    {
      "cell_type": "markdown",
      "id": "57363196",
      "metadata": {
        "id": "57363196"
      },
      "source": [
        "## Get Dataset"
      ]
    },
    {
      "cell_type": "code",
      "execution_count": 1,
      "id": "c57464a6",
      "metadata": {
        "id": "c57464a6"
      },
      "outputs": [],
      "source": [
        "import tensorflow_datasets as tfds\n",
        "from tensorflow.keras.datasets import mnist"
      ]
    },
    {
      "cell_type": "code",
      "execution_count": null,
      "id": "7eef1359",
      "metadata": {
        "id": "7eef1359"
      },
      "outputs": [],
      "source": [
        "# (ds_train, ds_test), ds_info = tfds.load(\n",
        "#     'mnist',\n",
        "#     split=['train', 'test'],\n",
        "#     shuffle_files=True,\n",
        "#     as_supervised=True,\n",
        "#     with_info=True,\n",
        "# )"
      ]
    },
    {
      "cell_type": "code",
      "execution_count": null,
      "id": "0a0f13cc",
      "metadata": {
        "id": "0a0f13cc"
      },
      "outputs": [],
      "source": [
        "# def normalize_img(image, label):\n",
        "#   \"\"\"Normalizes images: `uint8` -> `float32`.\"\"\"\n",
        "#   return tf.cast(image, tf.float32) / 255., label\n",
        "\n",
        "# ds_train = ds_train.map(\n",
        "#     normalize_img, num_parallel_calls=tf.data.AUTOTUNE)\n",
        "# ds_train = ds_train.cache()\n",
        "# ds_train = ds_train.shuffle(ds_info.splits['train'].num_examples)\n",
        "# ds_train = ds_train.batch(128)\n",
        "# ds_train = ds_train.prefetch(tf.data.AUTOTUNE)"
      ]
    },
    {
      "cell_type": "code",
      "execution_count": null,
      "id": "dd34cecb",
      "metadata": {
        "id": "dd34cecb"
      },
      "outputs": [],
      "source": [
        "# ds_test = ds_test.map(\n",
        "#     normalize_img, num_parallel_calls=tf.data.AUTOTUNE)\n",
        "# ds_test = ds_test.batch(128)\n",
        "# ds_test = ds_test.cache()\n",
        "# ds_test = ds_test.prefetch(tf.data.AUTOTUNE)"
      ]
    },
    {
      "cell_type": "code",
      "execution_count": null,
      "id": "ed110df2",
      "metadata": {
        "id": "ed110df2"
      },
      "outputs": [],
      "source": [
        "(x_train, y_train), (x_test, y_test) = mnist.load_data()\n",
        "x_train = x_train/255.0\n",
        "x_test = x_test/255.0"
      ]
    },
    {
      "cell_type": "code",
      "execution_count": null,
      "id": "475ffbc0",
      "metadata": {
        "id": "475ffbc0"
      },
      "outputs": [],
      "source": [
        "plt.imshow(x_train[10], cmap = \"gray\")\n",
        "plt.show()"
      ]
    },
    {
      "cell_type": "markdown",
      "id": "b1964287",
      "metadata": {
        "id": "b1964287"
      },
      "source": [
        "## Custom Loss"
      ]
    },
    {
      "cell_type": "code",
      "execution_count": null,
      "id": "0cf1dc19",
      "metadata": {
        "id": "0cf1dc19"
      },
      "outputs": [],
      "source": [
        "# Might Need to implement the loss function defined in EWC\n",
        "def custom_loss_fn(y_true, y_pred):\n",
        "    squared_difference = tf.square(y_true - y_pred)\n",
        "    return tf.reduce_mean(squared_difference, axis=-1) "
      ]
    },
    {
      "cell_type": "markdown",
      "id": "65b2e05f",
      "metadata": {
        "id": "65b2e05f"
      },
      "source": [
        "## Model 1"
      ]
    },
    {
      "cell_type": "code",
      "execution_count": null,
      "id": "8ffa8b93",
      "metadata": {
        "id": "8ffa8b93"
      },
      "outputs": [],
      "source": [
        "model_1 = tf.keras.models.Sequential([\n",
        "  tf.keras.layers.Flatten(input_shape=(28, 28)),\n",
        "  tf.keras.layers.Dense(400, activation='relu'),\n",
        "  tf.keras.layers.Dense(400, activation='relu'),\n",
        "  tf.keras.layers.Dense(10, activation='softmax')\n",
        "])\n",
        "model_1.compile(\n",
        "    optimizer=tf.keras.optimizers.RMSprop(0.001),\n",
        "    loss=tf.keras.losses.SparseCategoricalCrossentropy(from_logits=True),\n",
        "    metrics=[tf.keras.metrics.SparseCategoricalAccuracy()],\n",
        ")\n",
        "model_1.fit(x_train, \n",
        "            y_train,\n",
        "            batch_size = 32,\n",
        "            epochs = 20,\n",
        "            verbose = True)"
      ]
    },
    {
      "cell_type": "markdown",
      "id": "19b35b6a",
      "metadata": {
        "id": "19b35b6a"
      },
      "source": [
        "## Model 2 - Range Hyperparameters"
      ]
    },
    {
      "cell_type": "code",
      "execution_count": null,
      "id": "88f3c3ad",
      "metadata": {
        "id": "88f3c3ad"
      },
      "outputs": [],
      "source": [
        "model_2 = tf.keras.models.Sequential([\n",
        "  tf.keras.layers.Flatten(input_shape=(28, 28)),\n",
        "  tf.keras.layers.Dropout(0.2),\n",
        "  tf.keras.layers.Dense(1000, activation='relu'),\n",
        "  tf.keras.layers.Dropout(0.5),\n",
        "  tf.keras.layers.Dense(1000, activation='relu'),\n",
        "  tf.keras.layers.Dropout(0.5),\n",
        "  tf.keras.layers.Dense(10, activation='softmax')\n",
        "])\n",
        "model_2.compile(\n",
        "    optimizer=tf.keras.optimizers.RMSprop(0.0001),\n",
        "    loss=tf.keras.losses.SparseCategoricalCrossentropy(from_logits=True),\n",
        "    metrics=[tf.keras.metrics.SparseCategoricalAccuracy()],\n",
        ")\n",
        "model_2.fit(x_train, \n",
        "            y_train,\n",
        "            batch_size = 32,\n",
        "            epochs = 100,\n",
        "            verbose = True\n",
        ")"
      ]
    },
    {
      "cell_type": "markdown",
      "id": "60a5f548",
      "metadata": {
        "id": "60a5f548"
      },
      "source": [
        "## Model 3"
      ]
    },
    {
      "cell_type": "code",
      "execution_count": null,
      "id": "cab2db53",
      "metadata": {
        "id": "cab2db53"
      },
      "outputs": [],
      "source": [
        "model_3 = tf.keras.models.Sequential([\n",
        "  tf.keras.layers.Flatten(input_shape=(28, 28)),\n",
        "  tf.keras.layers.Dense(100, activation='relu'),\n",
        "  tf.keras.layers.Dense(100, activation='relu'),\n",
        "  tf.keras.layers.Dense(100, activation='relu'),\n",
        "  tf.keras.layers.Dense(100, activation='relu'),\n",
        "  tf.keras.layers.Dense(100, activation='relu'),\n",
        "  tf.keras.layers.Dense(100, activation='relu'),\n",
        "  tf.keras.layers.Dense(10, activation='softmax')\n",
        "])\n",
        "model_3.compile(\n",
        "    optimizer=tf.keras.optimizers.RMSprop(0.001),\n",
        "    loss=tf.keras.losses.SparseCategoricalCrossentropy(from_logits=True),\n",
        "    metrics=[tf.keras.metrics.SparseCategoricalAccuracy()],\n",
        ")\n",
        "model_3.fit(x_train, \n",
        "            y_train,\n",
        "            batch_size = 32,\n",
        "            epochs = 100,\n",
        "            verbose = True\n",
        ")"
      ]
    },
    {
      "cell_type": "markdown",
      "id": "a72514b4",
      "metadata": {
        "id": "a72514b4"
      },
      "source": [
        "## Evaluation"
      ]
    },
    {
      "cell_type": "markdown",
      "id": "d16e2037",
      "metadata": {
        "id": "d16e2037"
      },
      "source": [
        "### Select Model"
      ]
    },
    {
      "cell_type": "code",
      "execution_count": null,
      "id": "de29b9f1",
      "metadata": {
        "id": "de29b9f1"
      },
      "outputs": [],
      "source": [
        "model = model_1"
      ]
    },
    {
      "cell_type": "markdown",
      "id": "f765bb9b",
      "metadata": {
        "id": "f765bb9b"
      },
      "source": [
        "### Get Fraction Correct Score"
      ]
    },
    {
      "cell_type": "code",
      "execution_count": null,
      "id": "f48c69bf",
      "metadata": {
        "id": "f48c69bf"
      },
      "outputs": [],
      "source": [
        "y_pred = model.predict(x_test)"
      ]
    },
    {
      "cell_type": "code",
      "execution_count": null,
      "id": "b538d3bb",
      "metadata": {
        "id": "b538d3bb"
      },
      "outputs": [],
      "source": [
        "y_pred = np.argmax(y_pred, axis=1)"
      ]
    },
    {
      "cell_type": "code",
      "execution_count": null,
      "id": "7f42f9ee",
      "metadata": {
        "id": "7f42f9ee"
      },
      "outputs": [],
      "source": [
        "print(y_pred.shape)\n",
        "print(y_test.shape)"
      ]
    },
    {
      "cell_type": "code",
      "execution_count": null,
      "id": "746fd038",
      "metadata": {
        "id": "746fd038"
      },
      "outputs": [],
      "source": [
        "print(y_pred)\n",
        "print(y_test)"
      ]
    },
    {
      "cell_type": "code",
      "execution_count": null,
      "id": "d659519e",
      "metadata": {
        "id": "d659519e"
      },
      "outputs": [],
      "source": [
        "print(metrics.accuracy_score(y_test, y_pred))"
      ]
    },
    {
      "cell_type": "code",
      "execution_count": null,
      "id": "8e2a6322",
      "metadata": {
        "id": "8e2a6322"
      },
      "outputs": [],
      "source": [
        "np.unique(y_train, return_counts=True)"
      ]
    },
    {
      "cell_type": "code",
      "execution_count": null,
      "id": "f22ea913",
      "metadata": {
        "id": "f22ea913"
      },
      "outputs": [],
      "source": [
        "!pip install torchvision"
      ]
    },
    {
      "cell_type": "markdown",
      "id": "94b773f4",
      "metadata": {
        "id": "94b773f4"
      },
      "source": [
        "# Training Environment"
      ]
    },
    {
      "cell_type": "code",
      "execution_count": 3,
      "id": "577dc8ad",
      "metadata": {
        "colab": {
          "base_uri": "https://localhost:8080/"
        },
        "id": "577dc8ad",
        "outputId": "a00962ee-455b-4e02-c8b9-8612a0d91e37"
      },
      "outputs": [
        {
          "output_type": "stream",
          "name": "stdout",
          "text": [
            "Downloading data from https://storage.googleapis.com/tensorflow/tf-keras-datasets/mnist.npz\n",
            "11490434/11490434 [==============================] - 2s 0us/step\n"
          ]
        }
      ],
      "source": [
        "(x_train, y_train), (x_test, y_test) = mnist.load_data()\n",
        "x_train = x_train/255.0\n",
        "x_test = x_test/255.0"
      ]
    },
    {
      "cell_type": "code",
      "execution_count": 17,
      "id": "919c06e3",
      "metadata": {
        "id": "919c06e3"
      },
      "outputs": [],
      "source": [
        "from torchvision import datasets,transforms"
      ]
    },
    {
      "cell_type": "markdown",
      "source": [
        "## Data_loading module"
      ],
      "metadata": {
        "id": "DQhiuFH__B23"
      },
      "id": "DQhiuFH__B23"
    },
    {
      "cell_type": "code",
      "source": [
        "import numpy as np\n",
        "from torchvision import datasets,transforms\n",
        "from torch.utils.data import Dataset\n",
        "\n",
        "\n",
        "def permutate_image_pixels(image, permutation):\n",
        "    '''Permutate the pixels of an image according to [permutation].\n",
        "    [image]         3D-tensor containing the image\n",
        "    [permutation]   <ndarray> of pixel-indeces in their new order'''\n",
        "\n",
        "    if permutation is None:\n",
        "        return image\n",
        "    else:\n",
        "        c, h, w = image.size()\n",
        "        image = image.view(c, -1)\n",
        "        image = image[:, permutation[1]]  #--> same permutation for each channel\n",
        "        image = image.view(c, h, w)\n",
        "        return image\n",
        "\n",
        "class TransformedDataset(Dataset):\n",
        "    '''To modify an existing dataset with a transform.\n",
        "    This is useful for creating different permutations of MNIST without loading the data multiple times.'''\n",
        "\n",
        "    def __init__(self, original_dataset, transform=None, target_transform=None):\n",
        "        super().__init__()\n",
        "        self.dataset = original_dataset\n",
        "        self.transform = transform\n",
        "        self.target_transform = target_transform\n",
        "\n",
        "    def __len__(self):\n",
        "        return len(self.dataset)\n",
        "\n",
        "    def __getitem__(self, index):\n",
        "        (input, target) = self.dataset[index]\n",
        "        if self.transform:\n",
        "            input = self.transform(input)\n",
        "        if self.target_transform:\n",
        "            target = self.target_transform(target)\n",
        "        return (input, target)\n",
        "\n",
        "def permute_train_test_data(mnist_trainset, mnist_testset) :\n",
        "        # get train and test datasets\n",
        "        # generate pixel-permutations\n",
        "        permutations = [np.random.permutation(32**2) for _ in range(10)]\n",
        "        # specify transformed datasets per context\n",
        "        train_datasets = []\n",
        "        test_datasets = []\n",
        "        for perm in enumerate(permutations):\n",
        "            target_transform = None\n",
        "            train_datasets.append(TransformedDataset(\n",
        "                mnist_trainset, transform=transforms.Lambda(lambda x, p=perm: permutate_image_pixels(x, p)),\n",
        "                target_transform=target_transform\n",
        "            ))\n",
        "            test_datasets.append(TransformedDataset(\n",
        "                mnist_testset, transform=transforms.Lambda(lambda x, p=perm: permutate_image_pixels(x, p)),\n",
        "                target_transform=target_transform\n",
        "            ))\n",
        "\n",
        "        return train_datasets, test_datasets\n",
        "\n",
        "\n",
        "\n"
      ],
      "metadata": {
        "id": "x1Bl1M5h_FZL"
      },
      "id": "x1Bl1M5h_FZL",
      "execution_count": 19,
      "outputs": []
    },
    {
      "cell_type": "markdown",
      "source": [
        "## Data Loading, Transformations and Permutation"
      ],
      "metadata": {
        "id": "CZeUiYFLCdJJ"
      },
      "id": "CZeUiYFLCdJJ"
    },
    {
      "cell_type": "code",
      "execution_count": 20,
      "id": "e7448446",
      "metadata": {
        "id": "e7448446"
      },
      "outputs": [],
      "source": [
        "dataset_tranforms = transforms.Compose([\n",
        "        transforms.Pad(2),\n",
        "        transforms.ToTensor(),\n",
        "    ]\n",
        ")"
      ]
    },
    {
      "cell_type": "code",
      "execution_count": 21,
      "id": "ca1c3d46",
      "metadata": {
        "colab": {
          "base_uri": "https://localhost:8080/",
          "height": 439,
          "referenced_widgets": [
            "0a29e6631b944122a28685016cde6954",
            "21640e7738b24c809822ff9df9a9a048",
            "e270debe1200486b94b4440dfc8c7cf3",
            "cc57393548b24102bdaf49221f21b287",
            "ee263f6b7b6d493490246fbffbee9d72",
            "645d816b66054b00a9eb07bc4db86a84",
            "f401addb4b4644649e1abae8a5d58a21",
            "415625981c6e4da88aeb6d806f6dfd07",
            "9795c59565c34be2b3ca73e0fdc45200",
            "a67ac298441849829c4591bcec289398",
            "cd121d604b834587a541fd88685ced93",
            "5d97263b29df4954b71c6714b3e09e76",
            "84645e58169140fd8f549126317f2d66",
            "02c7602a7fd24d58827bf579127a1a08",
            "455c14b35b2642ea8b652cb0eea2810a",
            "29b879edf80b44be8d6fec7e02ebd3a0",
            "978686a86279407ea7c1e175b8e96862",
            "b3560eb231034388a06141818684fb74",
            "f477aa862ea346eb820889e940c92d1b",
            "d89a028ce76040dca26b34a4b0faac7d",
            "a7f13a68de9444fead5089b02d1d96aa",
            "5a52a4ba7cca40ee8d83d171eb97cf1a",
            "7449ceefca5b430a86e7658e0d733dad",
            "fa5ca305c8a94b8492145f4fc18d2e1a",
            "0f38689d8d2a4d05a663544a23fd92ea",
            "2ce8d7068b524d8eb316e1ed00acebaf",
            "7825d97fb2bd4240bed0289eeb3a7677",
            "4e0871ae6c0d4f21bb8bc629c7b9052c",
            "6d4a03d23c5340ada806c1d7bcd0b0e9",
            "09e1411157aa4e2b95889173c740badc",
            "6238b2397c9242a3a71e64b55f220d4c",
            "504d018779c74bdbb8c266051cf575f6",
            "d9bafc875f8942e4ae04cb00ae8a9cdb",
            "f245de1d973b4b4b8d399225bc7cb231",
            "a6535647de7b4f078c61222865df3607",
            "4f2aa2cd1eb7418ea612f52a2d3ff492",
            "09cbda42b21847a5bc64d114fcbb7e3c",
            "08f4d0059411430e9e03c2e2fcce1847",
            "223175d7c2484628a3210f53c90f27ba",
            "124a9d55fe76483e9bb28d159aa4d9da",
            "7057f561ded245ceb55583347c264ff7",
            "07879c1d4c544952901feb3dc33d7bc0",
            "62cbdcb574bf45cb883d491f3a28cdd1",
            "b7a0a4d27d9a4ed5bc36f283d15449d0"
          ]
        },
        "id": "ca1c3d46",
        "outputId": "7a36e0db-6832-4ffb-a455-1c399d3a2717"
      },
      "outputs": [
        {
          "output_type": "stream",
          "name": "stdout",
          "text": [
            "Downloading http://yann.lecun.com/exdb/mnist/train-images-idx3-ubyte.gz\n",
            "Downloading http://yann.lecun.com/exdb/mnist/train-images-idx3-ubyte.gz to ./data/MNIST/raw/train-images-idx3-ubyte.gz\n"
          ]
        },
        {
          "output_type": "display_data",
          "data": {
            "text/plain": [
              "  0%|          | 0/9912422 [00:00<?, ?it/s]"
            ],
            "application/vnd.jupyter.widget-view+json": {
              "version_major": 2,
              "version_minor": 0,
              "model_id": "0a29e6631b944122a28685016cde6954"
            }
          },
          "metadata": {}
        },
        {
          "output_type": "stream",
          "name": "stdout",
          "text": [
            "Extracting ./data/MNIST/raw/train-images-idx3-ubyte.gz to ./data/MNIST/raw\n",
            "\n",
            "Downloading http://yann.lecun.com/exdb/mnist/train-labels-idx1-ubyte.gz\n",
            "Downloading http://yann.lecun.com/exdb/mnist/train-labels-idx1-ubyte.gz to ./data/MNIST/raw/train-labels-idx1-ubyte.gz\n"
          ]
        },
        {
          "output_type": "display_data",
          "data": {
            "text/plain": [
              "  0%|          | 0/28881 [00:00<?, ?it/s]"
            ],
            "application/vnd.jupyter.widget-view+json": {
              "version_major": 2,
              "version_minor": 0,
              "model_id": "5d97263b29df4954b71c6714b3e09e76"
            }
          },
          "metadata": {}
        },
        {
          "output_type": "stream",
          "name": "stdout",
          "text": [
            "Extracting ./data/MNIST/raw/train-labels-idx1-ubyte.gz to ./data/MNIST/raw\n",
            "\n",
            "Downloading http://yann.lecun.com/exdb/mnist/t10k-images-idx3-ubyte.gz\n",
            "Downloading http://yann.lecun.com/exdb/mnist/t10k-images-idx3-ubyte.gz to ./data/MNIST/raw/t10k-images-idx3-ubyte.gz\n"
          ]
        },
        {
          "output_type": "display_data",
          "data": {
            "text/plain": [
              "  0%|          | 0/1648877 [00:00<?, ?it/s]"
            ],
            "application/vnd.jupyter.widget-view+json": {
              "version_major": 2,
              "version_minor": 0,
              "model_id": "7449ceefca5b430a86e7658e0d733dad"
            }
          },
          "metadata": {}
        },
        {
          "output_type": "stream",
          "name": "stdout",
          "text": [
            "Extracting ./data/MNIST/raw/t10k-images-idx3-ubyte.gz to ./data/MNIST/raw\n",
            "\n",
            "Downloading http://yann.lecun.com/exdb/mnist/t10k-labels-idx1-ubyte.gz\n",
            "Downloading http://yann.lecun.com/exdb/mnist/t10k-labels-idx1-ubyte.gz to ./data/MNIST/raw/t10k-labels-idx1-ubyte.gz\n"
          ]
        },
        {
          "output_type": "display_data",
          "data": {
            "text/plain": [
              "  0%|          | 0/4542 [00:00<?, ?it/s]"
            ],
            "application/vnd.jupyter.widget-view+json": {
              "version_major": 2,
              "version_minor": 0,
              "model_id": "f245de1d973b4b4b8d399225bc7cb231"
            }
          },
          "metadata": {}
        },
        {
          "output_type": "stream",
          "name": "stdout",
          "text": [
            "Extracting ./data/MNIST/raw/t10k-labels-idx1-ubyte.gz to ./data/MNIST/raw\n",
            "\n"
          ]
        }
      ],
      "source": [
        "mnist_trainset = datasets.MNIST(root='./data', train=True, download=True, transform=dataset_tranforms)\n",
        "mnist_testset = datasets.MNIST(root='./data', train=False, download=True, transform=dataset_tranforms)"
      ]
    },
    {
      "cell_type": "code",
      "execution_count": 22,
      "id": "00e3dc09",
      "metadata": {
        "id": "00e3dc09"
      },
      "outputs": [],
      "source": [
        "training_permutations , test_permutations = permute_train_test_data((mnist_trainset),\n",
        "                                                                    (mnist_testset))"
      ]
    },
    {
      "cell_type": "markdown",
      "source": [
        "## Power Law Sampling "
      ],
      "metadata": {
        "id": "OIhma_AjCklF"
      },
      "id": "OIhma_AjCklF"
    },
    {
      "cell_type": "code",
      "execution_count": 8,
      "id": "6cde2e8f",
      "metadata": {
        "id": "6cde2e8f"
      },
      "outputs": [],
      "source": [
        "power_law_sampling = [57927,\n",
        "44078,\n",
        "33969,\n",
        "26483,\n",
        "20867,\n",
        "16603,\n",
        "13329,\n",
        "10790,\n",
        "8802,\n",
        "7232,\n",
        "5981,\n",
        "4978,\n",
        "4167,\n",
        "3508,\n",
        "2968,\n",
        "2523,\n",
        "2155,\n",
        "1849,\n",
        "1592,\n",
        "1377,\n",
        "1195]\n",
        "MAX_TASK_EXAMPLES = 57927\n",
        "MIN_TASK_EXAMPLES = 1195\n",
        "NUM_TASKS = 10"
      ]
    },
    {
      "cell_type": "code",
      "execution_count": 9,
      "id": "3244c657",
      "metadata": {
        "id": "3244c657",
        "colab": {
          "base_uri": "https://localhost:8080/",
          "height": 285
        },
        "outputId": "376c026c-01f8-45dc-8f90-db04fd2b398c"
      },
      "outputs": [
        {
          "output_type": "execute_result",
          "data": {
            "text/plain": [
              "[<matplotlib.lines.Line2D at 0x7fdd23138910>]"
            ]
          },
          "metadata": {},
          "execution_count": 9
        },
        {
          "output_type": "display_data",
          "data": {
            "text/plain": [
              "<Figure size 432x288 with 1 Axes>"
            ],
            "image/png": "[encoded data removed]"
          },
          "metadata": {
            "needs_background": "light"
          }
        }
      ],
      "source": [
        "plt.plot([*range(20,41,1)], power_law_sampling)"
      ]
    },
    {
      "cell_type": "code",
      "execution_count": 10,
      "id": "cad79c17",
      "metadata": {
        "id": "cad79c17",
        "colab": {
          "base_uri": "https://localhost:8080/",
          "height": 299
        },
        "outputId": "b5252fc9-c904-4a5c-9840-008b430a2c8a"
      },
      "outputs": [
        {
          "output_type": "execute_result",
          "data": {
            "text/plain": [
              "Text(0.5, 1.0, 'LOG-LOG Plot')"
            ]
          },
          "metadata": {},
          "execution_count": 10
        },
        {
          "output_type": "display_data",
          "data": {
            "text/plain": [
              "<Figure size 432x288 with 1 Axes>"
            ],
            "image/png": "[encoded data removed]"
          },
          "metadata": {
            "needs_background": "light"
          }
        }
      ],
      "source": [
        "plt.plot(np.log2([*range(20,41,1)]), np.log2(power_law_sampling))\n",
        "plt.title(\"LOG-LOG Plot\")"
      ]
    },
    {
      "cell_type": "markdown",
      "id": "ac585afc",
      "metadata": {
        "id": "ac585afc"
      },
      "source": [
        "## Skip Alternate Policy"
      ]
    },
    {
      "cell_type": "code",
      "execution_count": 11,
      "id": "44e0a7a1",
      "metadata": {
        "id": "44e0a7a1",
        "colab": {
          "base_uri": "https://localhost:8080/"
        },
        "outputId": "fc91c0af-0da9-4e59-c32f-65b195bb47d8"
      },
      "outputs": [
        {
          "output_type": "execute_result",
          "data": {
            "text/plain": [
              "[57927, 33969, 20867, 13329, 8802, 5981, 4167, 2968, 2155, 1592]"
            ]
          },
          "metadata": {},
          "execution_count": 11
        }
      ],
      "source": [
        "freq_vector = []\n",
        "for idx in range(0,20,2):\n",
        "    freq_vector.append(power_law_sampling[idx])\n",
        "freq_vector"
      ]
    },
    {
      "cell_type": "code",
      "execution_count": 12,
      "id": "02bbc057",
      "metadata": {
        "id": "02bbc057"
      },
      "outputs": [],
      "source": [
        "phase_task_freq_count = np.zeros((NUM_TASKS,NUM_TASKS)) \n",
        "for row in range(NUM_TASKS):\n",
        "    phase_task_freq_count[row,:]+=freq_vector\n",
        "    freq_vector.insert(0, 0)\n",
        "    freq_vector.pop()"
      ]
    },
    {
      "cell_type": "code",
      "execution_count": 13,
      "id": "8968a64a",
      "metadata": {
        "id": "8968a64a",
        "colab": {
          "base_uri": "https://localhost:8080/"
        },
        "outputId": "4ed5bfc6-39dc-49bb-d4ef-5ae26ea6f3ae"
      },
      "outputs": [
        {
          "output_type": "execute_result",
          "data": {
            "text/plain": [
              "array([[57927., 33969., 20867., 13329.,  8802.,  5981.,  4167.,  2968.,\n",
              "         2155.,  1592.],\n",
              "       [    0., 57927., 33969., 20867., 13329.,  8802.,  5981.,  4167.,\n",
              "         2968.,  2155.],\n",
              "       [    0.,     0., 57927., 33969., 20867., 13329.,  8802.,  5981.,\n",
              "         4167.,  2968.],\n",
              "       [    0.,     0.,     0., 57927., 33969., 20867., 13329.,  8802.,\n",
              "         5981.,  4167.],\n",
              "       [    0.,     0.,     0.,     0., 57927., 33969., 20867., 13329.,\n",
              "         8802.,  5981.],\n",
              "       [    0.,     0.,     0.,     0.,     0., 57927., 33969., 20867.,\n",
              "        13329.,  8802.],\n",
              "       [    0.,     0.,     0.,     0.,     0.,     0., 57927., 33969.,\n",
              "        20867., 13329.],\n",
              "       [    0.,     0.,     0.,     0.,     0.,     0.,     0., 57927.,\n",
              "        33969., 20867.],\n",
              "       [    0.,     0.,     0.,     0.,     0.,     0.,     0.,     0.,\n",
              "        57927., 33969.],\n",
              "       [    0.,     0.,     0.,     0.,     0.,     0.,     0.,     0.,\n",
              "            0., 57927.]])"
            ]
          },
          "metadata": {},
          "execution_count": 13
        }
      ],
      "source": [
        "phase_task_freq_count"
      ]
    },
    {
      "cell_type": "code",
      "execution_count": 14,
      "id": "9b303081",
      "metadata": {
        "id": "9b303081",
        "colab": {
          "base_uri": "https://localhost:8080/"
        },
        "outputId": "216a7436-2441-4b2b-ba33-49735c592556"
      },
      "outputs": [
        {
          "output_type": "execute_result",
          "data": {
            "text/plain": [
              "array([[1.        , 0.36964612, 0.18505183, 0.10570853, 0.06525123,\n",
              "        0.04245608, 0.02872961, 0.0200527 , 0.01435088, 0.01049046],\n",
              "       [0.        , 0.63035388, 0.30124243, 0.16549028, 0.09881092,\n",
              "        0.06248092, 0.04123633, 0.0281535 , 0.01976493, 0.01420033],\n",
              "       [0.        , 0.        , 0.51370574, 0.26939853, 0.15469183,\n",
              "        0.09461579, 0.06068587, 0.04040943, 0.02774948, 0.01955758],\n",
              "       [0.        , 0.        , 0.        , 0.45940266, 0.25181995,\n",
              "        0.14812422, 0.09189752, 0.05946895, 0.03982952, 0.02745837],\n",
              "       [0.        , 0.        , 0.        , 0.        , 0.42942607,\n",
              "        0.24112866, 0.14386867, 0.09005473, 0.05861552, 0.03941169],\n",
              "       [0.        , 0.        , 0.        , 0.        , 0.        ,\n",
              "        0.41119432, 0.23420113, 0.14098372, 0.08876236, 0.05800062],\n",
              "       [0.        , 0.        , 0.        , 0.        , 0.        ,\n",
              "        0.        , 0.39938087, 0.22950476, 0.13896048, 0.0878312 ],\n",
              "       [0.        , 0.        , 0.        , 0.        , 0.        ,\n",
              "        0.        , 0.        , 0.3913722 , 0.22621117, 0.13750272],\n",
              "       [0.        , 0.        , 0.        , 0.        , 0.        ,\n",
              "        0.        , 0.        , 0.        , 0.38575567, 0.22383811],\n",
              "       [0.        , 0.        , 0.        , 0.        , 0.        ,\n",
              "        0.        , 0.        , 0.        , 0.        , 0.38170892]])"
            ]
          },
          "metadata": {},
          "execution_count": 14
        }
      ],
      "source": [
        "phase_task_freq_frac=phase_task_freq_count/np.sum(phase_task_freq_count, axis=0)\n",
        "phase_task_freq_frac"
      ]
    },
    {
      "cell_type": "markdown",
      "source": [
        "### Creating Unified Testing Dataset for each phase"
      ],
      "metadata": {
        "id": "SvV1uPTs_UcQ"
      },
      "id": "SvV1uPTs_UcQ"
    },
    {
      "cell_type": "code",
      "source": [
        "from torch.utils.data import ConcatDataset\n",
        "import torch"
      ],
      "metadata": {
        "id": "Ua6Wprh3AA-O"
      },
      "id": "Ua6Wprh3AA-O",
      "execution_count": 27,
      "outputs": []
    },
    {
      "cell_type": "code",
      "source": [
        "training_environments = []\n",
        "np.random.seed(10)\n",
        "MAX_TASK_EXAMPLES = 60000\n",
        "# NUM_PHASES = NUM_TASKS\n",
        "for phase in range(NUM_TASKS): \n",
        "    phase_training = []\n",
        "    for task in range(NUM_TASKS):\n",
        "        num_ele_to_pick = phase_task_freq_count[task,phase]\n",
        "        selected_indices = np.random.choice([*range(int(MAX_TASK_EXAMPLES)+1)], int(num_ele_to_pick), replace=False)\n",
        "        task_subset = torch.utils.data.Subset(training_permutations[task], selected_indices)\n",
        "        phase_training.append(task_subset)\n",
        "    final_phase_dataset = ConcatDataset(phase_training)\n",
        "    training_environments.append(final_phase_dataset)\n"
      ],
      "metadata": {
        "id": "evduXvB6-lDo"
      },
      "id": "evduXvB6-lDo",
      "execution_count": 30,
      "outputs": []
    },
    {
      "cell_type": "code",
      "execution_count": 42,
      "id": "31376bc9",
      "metadata": {
        "id": "31376bc9",
        "colab": {
          "base_uri": "https://localhost:8080/",
          "height": 777
        },
        "outputId": "9929c780-ad71-4518-e583-ba349e0ca095"
      },
      "outputs": [
        {
          "output_type": "stream",
          "name": "stdout",
          "text": [
            "10\n",
            "Training environment size for task  1 is : 57927\n",
            "Training environment size for task  2 is : 91896\n",
            "Training environment size for task  3 is : 112763\n",
            "Training environment size for task  4 is : 126092\n",
            "Training environment size for task  5 is : 134894\n",
            "Training environment size for task  6 is : 140875\n",
            "Training environment size for task  7 is : 145042\n",
            "Training environment size for task  8 is : 148010\n",
            "Training environment size for task  9 is : 150165\n",
            "Training environment size for task  10 is : 151757\n"
          ]
        },
        {
          "output_type": "display_data",
          "data": {
            "text/plain": [
              "<Figure size 720x720 with 10 Axes>"
            ],
            "image/png": "[encoded data removed]"
          },
          "metadata": {
            "needs_background": "light"
          }
        }
      ],
      "source": [
        "print(len(training_environments))\n",
        "figure = plt.figure(figsize=(10, 10))\n",
        "cols, rows = 2, 5\n",
        "for i in range(1,NUM_TASKS+1):\n",
        "  print(\"Training environment size for task \", i , \"is :\", len(training_environments[i-1]))\n",
        "  img, label = training_permutations[i-1][0]\n",
        "  figure.add_subplot(rows, cols, i)\n",
        "  plt.axis(\"off\")\n",
        "  plt.imshow(img.squeeze(), cmap=\"gray\")\n",
        "plt.show()"
      ]
    },
    {
      "cell_type": "code",
      "execution_count": null,
      "id": "ced66b92",
      "metadata": {
        "id": "ced66b92"
      },
      "outputs": [],
      "source": [
        "shapes = []\n",
        "for arr in training_environments[:][0]:\n",
        "    shapes.append(arr.shape)\n",
        "print(shapes)"
      ]
    },
    {
      "cell_type": "code",
      "execution_count": null,
      "id": "cb4118ec",
      "metadata": {
        "id": "cb4118ec"
      },
      "outputs": [],
      "source": [
        "col_sum"
      ]
    },
    {
      "cell_type": "code",
      "source": [
        "img, label = training_permutations[1][0]\n",
        "plt.axis(\"off\")\n",
        "plt.imshow(img.squeeze(), cmap=\"gray\")"
      ],
      "metadata": {
        "colab": {
          "base_uri": "https://localhost:8080/",
          "height": 266
        },
        "id": "LxQWE6PSBaoO",
        "outputId": "c9324548-9295-4161-9c2c-1a3ccbfdab0b"
      },
      "id": "LxQWE6PSBaoO",
      "execution_count": 36,
      "outputs": [
        {
          "output_type": "execute_result",
          "data": {
            "text/plain": [
              "<matplotlib.image.AxesImage at 0x7fdd21cf4090>"
            ]
          },
          "metadata": {},
          "execution_count": 36
        },
        {
          "output_type": "display_data",
          "data": {
            "text/plain": [
              "<Figure size 432x288 with 1 Axes>"
            ],
            "image/png": "[encoded data removed]"
          },
          "metadata": {
            "needs_background": "light"
          }
        }
      ]
    },
    {
      "cell_type": "code",
      "execution_count": null,
      "id": "9820fe12",
      "metadata": {
        "id": "9820fe12"
      },
      "outputs": [],
      "source": [
        "print(training_environments[9][1][112763])"
      ]
    },
    {
      "cell_type": "code",
      "execution_count": null,
      "id": "6f0f62b6",
      "metadata": {
        "id": "6f0f62b6"
      },
      "outputs": [],
      "source": []
    }
  ],
  "metadata": {
    "kernelspec": {
      "display_name": "Python 3 (ipykernel)",
      "language": "python",
      "name": "python3"
    },
    "language_info": {
      "codemirror_mode": {
        "name": "ipython",
        "version": 3
      },
      "file_extension": ".py",
      "mimetype": "text/x-python",
      "name": "python",
      "nbconvert_exporter": "python",
      "pygments_lexer": "ipython3",
      "version": "3.8.8"
    },
    "colab": {
      "provenance": []
    },
    "accelerator": "GPU",
    "gpuClass": "standard",
    "widgets": {
      "application/vnd.jupyter.widget-state+json": {
        "0a29e6631b944122a28685016cde6954": {
          "model_module": "@jupyter-widgets/controls",
          "model_name": "HBoxModel",
          "model_module_version": "1.5.0",
          "state": {
            "_dom_classes": [],
            "_model_module": "@jupyter-widgets/controls",
            "_model_module_version": "1.5.0",
            "_model_name": "HBoxModel",
            "_view_count": null,
            "_view_module": "@jupyter-widgets/controls",
            "_view_module_version": "1.5.0",
            "_view_name": "HBoxView",
            "box_style": "",
            "children": [
              "IPY_MODEL_21640e7738b24c809822ff9df9a9a048",
              "IPY_MODEL_e270debe1200486b94b4440dfc8c7cf3",
              "IPY_MODEL_cc57393548b24102bdaf49221f21b287"
            ],
            "layout": "IPY_MODEL_ee263f6b7b6d493490246fbffbee9d72"
          }
        },
        "21640e7738b24c809822ff9df9a9a048": {
          "model_module": "@jupyter-widgets/controls",
          "model_name": "HTMLModel",
          "model_module_version": "1.5.0",
          "state": {
            "_dom_classes": [],
            "_model_module": "@jupyter-widgets/controls",
            "_model_module_version": "1.5.0",
            "_model_name": "HTMLModel",
            "_view_count": null,
            "_view_module": "@jupyter-widgets/controls",
            "_view_module_version": "1.5.0",
            "_view_name": "HTMLView",
            "description": "",
            "description_tooltip": null,
            "layout": "IPY_MODEL_645d816b66054b00a9eb07bc4db86a84",
            "placeholder": "​",
            "style": "IPY_MODEL_f401addb4b4644649e1abae8a5d58a21",
            "value": "100%"
          }
        },
        "e270debe1200486b94b4440dfc8c7cf3": {
          "model_module": "@jupyter-widgets/controls",
          "model_name": "FloatProgressModel",
          "model_module_version": "1.5.0",
          "state": {
            "_dom_classes": [],
            "_model_module": "@jupyter-widgets/controls",
            "_model_module_version": "1.5.0",
            "_model_name": "FloatProgressModel",
            "_view_count": null,
            "_view_module": "@jupyter-widgets/controls",
            "_view_module_version": "1.5.0",
            "_view_name": "ProgressView",
            "bar_style": "success",
            "description": "",
            "description_tooltip": null,
            "layout": "IPY_MODEL_415625981c6e4da88aeb6d806f6dfd07",
            "max": 9912422,
            "min": 0,
            "orientation": "horizontal",
            "style": "IPY_MODEL_9795c59565c34be2b3ca73e0fdc45200",
            "value": 9912422
          }
        },
        "cc57393548b24102bdaf49221f21b287": {
          "model_module": "@jupyter-widgets/controls",
          "model_name": "HTMLModel",
          "model_module_version": "1.5.0",
          "state": {
            "_dom_classes": [],
            "_model_module": "@jupyter-widgets/controls",
            "_model_module_version": "1.5.0",
            "_model_name": "HTMLModel",
            "_view_count": null,
            "_view_module": "@jupyter-widgets/controls",
            "_view_module_version": "1.5.0",
            "_view_name": "HTMLView",
            "description": "",
            "description_tooltip": null,
            "layout": "IPY_MODEL_a67ac298441849829c4591bcec289398",
            "placeholder": "​",
            "style": "IPY_MODEL_cd121d604b834587a541fd88685ced93",
            "value": " 9912422/9912422 [00:00&lt;00:00, 111268834.41it/s]"
          }
        },
        "ee263f6b7b6d493490246fbffbee9d72": {
          "model_module": "@jupyter-widgets/base",
          "model_name": "LayoutModel",
          "model_module_version": "1.2.0",
          "state": {
            "_model_module": "@jupyter-widgets/base",
            "_model_module_version": "1.2.0",
            "_model_name": "LayoutModel",
            "_view_count": null,
            "_view_module": "@jupyter-widgets/base",
            "_view_module_version": "1.2.0",
            "_view_name": "LayoutView",
            "align_content": null,
            "align_items": null,
            "align_self": null,
            "border": null,
            "bottom": null,
            "display": null,
            "flex": null,
            "flex_flow": null,
            "grid_area": null,
            "grid_auto_columns": null,
            "grid_auto_flow": null,
            "grid_auto_rows": null,
            "grid_column": null,
            "grid_gap": null,
            "grid_row": null,
            "grid_template_areas": null,
            "grid_template_columns": null,
            "grid_template_rows": null,
            "height": null,
            "justify_content": null,
            "justify_items": null,
            "left": null,
            "margin": null,
            "max_height": null,
            "max_width": null,
            "min_height": null,
            "min_width": null,
            "object_fit": null,
            "object_position": null,
            "order": null,
            "overflow": null,
            "overflow_x": null,
            "overflow_y": null,
            "padding": null,
            "right": null,
            "top": null,
            "visibility": null,
            "width": null
          }
        },
        "645d816b66054b00a9eb07bc4db86a84": {
          "model_module": "@jupyter-widgets/base",
          "model_name": "LayoutModel",
          "model_module_version": "1.2.0",
          "state": {
            "_model_module": "@jupyter-widgets/base",
            "_model_module_version": "1.2.0",
            "_model_name": "LayoutModel",
            "_view_count": null,
            "_view_module": "@jupyter-widgets/base",
            "_view_module_version": "1.2.0",
            "_view_name": "LayoutView",
            "align_content": null,
            "align_items": null,
            "align_self": null,
            "border": null,
            "bottom": null,
            "display": null,
            "flex": null,
            "flex_flow": null,
            "grid_area": null,
            "grid_auto_columns": null,
            "grid_auto_flow": null,
            "grid_auto_rows": null,
            "grid_column": null,
            "grid_gap": null,
            "grid_row": null,
            "grid_template_areas": null,
            "grid_template_columns": null,
            "grid_template_rows": null,
            "height": null,
            "justify_content": null,
            "justify_items": null,
            "left": null,
            "margin": null,
            "max_height": null,
            "max_width": null,
            "min_height": null,
            "min_width": null,
            "object_fit": null,
            "object_position": null,
            "order": null,
            "overflow": null,
            "overflow_x": null,
            "overflow_y": null,
            "padding": null,
            "right": null,
            "top": null,
            "visibility": null,
            "width": null
          }
        },
        "f401addb4b4644649e1abae8a5d58a21": {
          "model_module": "@jupyter-widgets/controls",
          "model_name": "DescriptionStyleModel",
          "model_module_version": "1.5.0",
          "state": {
            "_model_module": "@jupyter-widgets/controls",
            "_model_module_version": "1.5.0",
            "_model_name": "DescriptionStyleModel",
            "_view_count": null,
            "_view_module": "@jupyter-widgets/base",
            "_view_module_version": "1.2.0",
            "_view_name": "StyleView",
            "description_width": ""
          }
        },
        "415625981c6e4da88aeb6d806f6dfd07": {
          "model_module": "@jupyter-widgets/base",
          "model_name": "LayoutModel",
          "model_module_version": "1.2.0",
          "state": {
            "_model_module": "@jupyter-widgets/base",
            "_model_module_version": "1.2.0",
            "_model_name": "LayoutModel",
            "_view_count": null,
            "_view_module": "@jupyter-widgets/base",
            "_view_module_version": "1.2.0",
            "_view_name": "LayoutView",
            "align_content": null,
            "align_items": null,
            "align_self": null,
            "border": null,
            "bottom": null,
            "display": null,
            "flex": null,
            "flex_flow": null,
            "grid_area": null,
            "grid_auto_columns": null,
            "grid_auto_flow": null,
            "grid_auto_rows": null,
            "grid_column": null,
            "grid_gap": null,
            "grid_row": null,
            "grid_template_areas": null,
            "grid_template_columns": null,
            "grid_template_rows": null,
            "height": null,
            "justify_content": null,
            "justify_items": null,
            "left": null,
            "margin": null,
            "max_height": null,
            "max_width": null,
            "min_height": null,
            "min_width": null,
            "object_fit": null,
            "object_position": null,
            "order": null,
            "overflow": null,
            "overflow_x": null,
            "overflow_y": null,
            "padding": null,
            "right": null,
            "top": null,
            "visibility": null,
            "width": null
          }
        },
        "9795c59565c34be2b3ca73e0fdc45200": {
          "model_module": "@jupyter-widgets/controls",
          "model_name": "ProgressStyleModel",
          "model_module_version": "1.5.0",
          "state": {
            "_model_module": "@jupyter-widgets/controls",
            "_model_module_version": "1.5.0",
            "_model_name": "ProgressStyleModel",
            "_view_count": null,
            "_view_module": "@jupyter-widgets/base",
            "_view_module_version": "1.2.0",
            "_view_name": "StyleView",
            "bar_color": null,
            "description_width": ""
          }
        },
        "a67ac298441849829c4591bcec289398": {
          "model_module": "@jupyter-widgets/base",
          "model_name": "LayoutModel",
          "model_module_version": "1.2.0",
          "state": {
            "_model_module": "@jupyter-widgets/base",
            "_model_module_version": "1.2.0",
            "_model_name": "LayoutModel",
            "_view_count": null,
            "_view_module": "@jupyter-widgets/base",
            "_view_module_version": "1.2.0",
            "_view_name": "LayoutView",
            "align_content": null,
            "align_items": null,
            "align_self": null,
            "border": null,
            "bottom": null,
            "display": null,
            "flex": null,
            "flex_flow": null,
            "grid_area": null,
            "grid_auto_columns": null,
            "grid_auto_flow": null,
            "grid_auto_rows": null,
            "grid_column": null,
            "grid_gap": null,
            "grid_row": null,
            "grid_template_areas": null,
            "grid_template_columns": null,
            "grid_template_rows": null,
            "height": null,
            "justify_content": null,
            "justify_items": null,
            "left": null,
            "margin": null,
            "max_height": null,
            "max_width": null,
            "min_height": null,
            "min_width": null,
            "object_fit": null,
            "object_position": null,
            "order": null,
            "overflow": null,
            "overflow_x": null,
            "overflow_y": null,
            "padding": null,
            "right": null,
            "top": null,
            "visibility": null,
            "width": null
          }
        },
        "cd121d604b834587a541fd88685ced93": {
          "model_module": "@jupyter-widgets/controls",
          "model_name": "DescriptionStyleModel",
          "model_module_version": "1.5.0",
          "state": {
            "_model_module": "@jupyter-widgets/controls",
            "_model_module_version": "1.5.0",
            "_model_name": "DescriptionStyleModel",
            "_view_count": null,
            "_view_module": "@jupyter-widgets/base",
            "_view_module_version": "1.2.0",
            "_view_name": "StyleView",
            "description_width": ""
          }
        },
        "5d97263b29df4954b71c6714b3e09e76": {
          "model_module": "@jupyter-widgets/controls",
          "model_name": "HBoxModel",
          "model_module_version": "1.5.0",
          "state": {
            "_dom_classes": [],
            "_model_module": "@jupyter-widgets/controls",
            "_model_module_version": "1.5.0",
            "_model_name": "HBoxModel",
            "_view_count": null,
            "_view_module": "@jupyter-widgets/controls",
            "_view_module_version": "1.5.0",
            "_view_name": "HBoxView",
            "box_style": "",
            "children": [
              "IPY_MODEL_84645e58169140fd8f549126317f2d66",
              "IPY_MODEL_02c7602a7fd24d58827bf579127a1a08",
              "IPY_MODEL_455c14b35b2642ea8b652cb0eea2810a"
            ],
            "layout": "IPY_MODEL_29b879edf80b44be8d6fec7e02ebd3a0"
          }
        },
        "84645e58169140fd8f549126317f2d66": {
          "model_module": "@jupyter-widgets/controls",
          "model_name": "HTMLModel",
          "model_module_version": "1.5.0",
          "state": {
            "_dom_classes": [],
            "_model_module": "@jupyter-widgets/controls",
            "_model_module_version": "1.5.0",
            "_model_name": "HTMLModel",
            "_view_count": null,
            "_view_module": "@jupyter-widgets/controls",
            "_view_module_version": "1.5.0",
            "_view_name": "HTMLView",
            "description": "",
            "description_tooltip": null,
            "layout": "IPY_MODEL_978686a86279407ea7c1e175b8e96862",
            "placeholder": "​",
            "style": "IPY_MODEL_b3560eb231034388a06141818684fb74",
            "value": "100%"
          }
        },
        "02c7602a7fd24d58827bf579127a1a08": {
          "model_module": "@jupyter-widgets/controls",
          "model_name": "FloatProgressModel",
          "model_module_version": "1.5.0",
          "state": {
            "_dom_classes": [],
            "_model_module": "@jupyter-widgets/controls",
            "_model_module_version": "1.5.0",
            "_model_name": "FloatProgressModel",
            "_view_count": null,
            "_view_module": "@jupyter-widgets/controls",
            "_view_module_version": "1.5.0",
            "_view_name": "ProgressView",
            "bar_style": "success",
            "description": "",
            "description_tooltip": null,
            "layout": "IPY_MODEL_f477aa862ea346eb820889e940c92d1b",
            "max": 28881,
            "min": 0,
            "orientation": "horizontal",
            "style": "IPY_MODEL_d89a028ce76040dca26b34a4b0faac7d",
            "value": 28881
          }
        },
        "455c14b35b2642ea8b652cb0eea2810a": {
          "model_module": "@jupyter-widgets/controls",
          "model_name": "HTMLModel",
          "model_module_version": "1.5.0",
          "state": {
            "_dom_classes": [],
            "_model_module": "@jupyter-widgets/controls",
            "_model_module_version": "1.5.0",
            "_model_name": "HTMLModel",
            "_view_count": null,
            "_view_module": "@jupyter-widgets/controls",
            "_view_module_version": "1.5.0",
            "_view_name": "HTMLView",
            "description": "",
            "description_tooltip": null,
            "layout": "IPY_MODEL_a7f13a68de9444fead5089b02d1d96aa",
            "placeholder": "​",
            "style": "IPY_MODEL_5a52a4ba7cca40ee8d83d171eb97cf1a",
            "value": " 28881/28881 [00:00&lt;00:00, 872320.75it/s]"
          }
        },
        "29b879edf80b44be8d6fec7e02ebd3a0": {
          "model_module": "@jupyter-widgets/base",
          "model_name": "LayoutModel",
          "model_module_version": "1.2.0",
          "state": {
            "_model_module": "@jupyter-widgets/base",
            "_model_module_version": "1.2.0",
            "_model_name": "LayoutModel",
            "_view_count": null,
            "_view_module": "@jupyter-widgets/base",
            "_view_module_version": "1.2.0",
            "_view_name": "LayoutView",
            "align_content": null,
            "align_items": null,
            "align_self": null,
            "border": null,
            "bottom": null,
            "display": null,
            "flex": null,
            "flex_flow": null,
            "grid_area": null,
            "grid_auto_columns": null,
            "grid_auto_flow": null,
            "grid_auto_rows": null,
            "grid_column": null,
            "grid_gap": null,
            "grid_row": null,
            "grid_template_areas": null,
            "grid_template_columns": null,
            "grid_template_rows": null,
            "height": null,
            "justify_content": null,
            "justify_items": null,
            "left": null,
            "margin": null,
            "max_height": null,
            "max_width": null,
            "min_height": null,
            "min_width": null,
            "object_fit": null,
            "object_position": null,
            "order": null,
            "overflow": null,
            "overflow_x": null,
            "overflow_y": null,
            "padding": null,
            "right": null,
            "top": null,
            "visibility": null,
            "width": null
          }
        },
        "978686a86279407ea7c1e175b8e96862": {
          "model_module": "@jupyter-widgets/base",
          "model_name": "LayoutModel",
          "model_module_version": "1.2.0",
          "state": {
            "_model_module": "@jupyter-widgets/base",
            "_model_module_version": "1.2.0",
            "_model_name": "LayoutModel",
            "_view_count": null,
            "_view_module": "@jupyter-widgets/base",
            "_view_module_version": "1.2.0",
            "_view_name": "LayoutView",
            "align_content": null,
            "align_items": null,
            "align_self": null,
            "border": null,
            "bottom": null,
            "display": null,
            "flex": null,
            "flex_flow": null,
            "grid_area": null,
            "grid_auto_columns": null,
            "grid_auto_flow": null,
            "grid_auto_rows": null,
            "grid_column": null,
            "grid_gap": null,
            "grid_row": null,
            "grid_template_areas": null,
            "grid_template_columns": null,
            "grid_template_rows": null,
            "height": null,
            "justify_content": null,
            "justify_items": null,
            "left": null,
            "margin": null,
            "max_height": null,
            "max_width": null,
            "min_height": null,
            "min_width": null,
            "object_fit": null,
            "object_position": null,
            "order": null,
            "overflow": null,
            "overflow_x": null,
            "overflow_y": null,
            "padding": null,
            "right": null,
            "top": null,
            "visibility": null,
            "width": null
          }
        },
        "b3560eb231034388a06141818684fb74": {
          "model_module": "@jupyter-widgets/controls",
          "model_name": "DescriptionStyleModel",
          "model_module_version": "1.5.0",
          "state": {
            "_model_module": "@jupyter-widgets/controls",
            "_model_module_version": "1.5.0",
            "_model_name": "DescriptionStyleModel",
            "_view_count": null,
            "_view_module": "@jupyter-widgets/base",
            "_view_module_version": "1.2.0",
            "_view_name": "StyleView",
            "description_width": ""
          }
        },
        "f477aa862ea346eb820889e940c92d1b": {
          "model_module": "@jupyter-widgets/base",
          "model_name": "LayoutModel",
          "model_module_version": "1.2.0",
          "state": {
            "_model_module": "@jupyter-widgets/base",
            "_model_module_version": "1.2.0",
            "_model_name": "LayoutModel",
            "_view_count": null,
            "_view_module": "@jupyter-widgets/base",
            "_view_module_version": "1.2.0",
            "_view_name": "LayoutView",
            "align_content": null,
            "align_items": null,
            "align_self": null,
            "border": null,
            "bottom": null,
            "display": null,
            "flex": null,
            "flex_flow": null,
            "grid_area": null,
            "grid_auto_columns": null,
            "grid_auto_flow": null,
            "grid_auto_rows": null,
            "grid_column": null,
            "grid_gap": null,
            "grid_row": null,
            "grid_template_areas": null,
            "grid_template_columns": null,
            "grid_template_rows": null,
            "height": null,
            "justify_content": null,
            "justify_items": null,
            "left": null,
            "margin": null,
            "max_height": null,
            "max_width": null,
            "min_height": null,
            "min_width": null,
            "object_fit": null,
            "object_position": null,
            "order": null,
            "overflow": null,
            "overflow_x": null,
            "overflow_y": null,
            "padding": null,
            "right": null,
            "top": null,
            "visibility": null,
            "width": null
          }
        },
        "d89a028ce76040dca26b34a4b0faac7d": {
          "model_module": "@jupyter-widgets/controls",
          "model_name": "ProgressStyleModel",
          "model_module_version": "1.5.0",
          "state": {
            "_model_module": "@jupyter-widgets/controls",
            "_model_module_version": "1.5.0",
            "_model_name": "ProgressStyleModel",
            "_view_count": null,
            "_view_module": "@jupyter-widgets/base",
            "_view_module_version": "1.2.0",
            "_view_name": "StyleView",
            "bar_color": null,
            "description_width": ""
          }
        },
        "a7f13a68de9444fead5089b02d1d96aa": {
          "model_module": "@jupyter-widgets/base",
          "model_name": "LayoutModel",
          "model_module_version": "1.2.0",
          "state": {
            "_model_module": "@jupyter-widgets/base",
            "_model_module_version": "1.2.0",
            "_model_name": "LayoutModel",
            "_view_count": null,
            "_view_module": "@jupyter-widgets/base",
            "_view_module_version": "1.2.0",
            "_view_name": "LayoutView",
            "align_content": null,
            "align_items": null,
            "align_self": null,
            "border": null,
            "bottom": null,
            "display": null,
            "flex": null,
            "flex_flow": null,
            "grid_area": null,
            "grid_auto_columns": null,
            "grid_auto_flow": null,
            "grid_auto_rows": null,
            "grid_column": null,
            "grid_gap": null,
            "grid_row": null,
            "grid_template_areas": null,
            "grid_template_columns": null,
            "grid_template_rows": null,
            "height": null,
            "justify_content": null,
            "justify_items": null,
            "left": null,
            "margin": null,
            "max_height": null,
            "max_width": null,
            "min_height": null,
            "min_width": null,
            "object_fit": null,
            "object_position": null,
            "order": null,
            "overflow": null,
            "overflow_x": null,
            "overflow_y": null,
            "padding": null,
            "right": null,
            "top": null,
            "visibility": null,
            "width": null
          }
        },
        "5a52a4ba7cca40ee8d83d171eb97cf1a": {
          "model_module": "@jupyter-widgets/controls",
          "model_name": "DescriptionStyleModel",
          "model_module_version": "1.5.0",
          "state": {
            "_model_module": "@jupyter-widgets/controls",
            "_model_module_version": "1.5.0",
            "_model_name": "DescriptionStyleModel",
            "_view_count": null,
            "_view_module": "@jupyter-widgets/base",
            "_view_module_version": "1.2.0",
            "_view_name": "StyleView",
            "description_width": ""
          }
        },
        "7449ceefca5b430a86e7658e0d733dad": {
          "model_module": "@jupyter-widgets/controls",
          "model_name": "HBoxModel",
          "model_module_version": "1.5.0",
          "state": {
            "_dom_classes": [],
            "_model_module": "@jupyter-widgets/controls",
            "_model_module_version": "1.5.0",
            "_model_name": "HBoxModel",
            "_view_count": null,
            "_view_module": "@jupyter-widgets/controls",
            "_view_module_version": "1.5.0",
            "_view_name": "HBoxView",
            "box_style": "",
            "children": [
              "IPY_MODEL_fa5ca305c8a94b8492145f4fc18d2e1a",
              "IPY_MODEL_0f38689d8d2a4d05a663544a23fd92ea",
              "IPY_MODEL_2ce8d7068b524d8eb316e1ed00acebaf"
            ],
            "layout": "IPY_MODEL_7825d97fb2bd4240bed0289eeb3a7677"
          }
        },
        "fa5ca305c8a94b8492145f4fc18d2e1a": {
          "model_module": "@jupyter-widgets/controls",
          "model_name": "HTMLModel",
          "model_module_version": "1.5.0",
          "state": {
            "_dom_classes": [],
            "_model_module": "@jupyter-widgets/controls",
            "_model_module_version": "1.5.0",
            "_model_name": "HTMLModel",
            "_view_count": null,
            "_view_module": "@jupyter-widgets/controls",
            "_view_module_version": "1.5.0",
            "_view_name": "HTMLView",
            "description": "",
            "description_tooltip": null,
            "layout": "IPY_MODEL_4e0871ae6c0d4f21bb8bc629c7b9052c",
            "placeholder": "​",
            "style": "IPY_MODEL_6d4a03d23c5340ada806c1d7bcd0b0e9",
            "value": "100%"
          }
        },
        "0f38689d8d2a4d05a663544a23fd92ea": {
          "model_module": "@jupyter-widgets/controls",
          "model_name": "FloatProgressModel",
          "model_module_version": "1.5.0",
          "state": {
            "_dom_classes": [],
            "_model_module": "@jupyter-widgets/controls",
            "_model_module_version": "1.5.0",
            "_model_name": "FloatProgressModel",
            "_view_count": null,
            "_view_module": "@jupyter-widgets/controls",
            "_view_module_version": "1.5.0",
            "_view_name": "ProgressView",
            "bar_style": "success",
            "description": "",
            "description_tooltip": null,
            "layout": "IPY_MODEL_09e1411157aa4e2b95889173c740badc",
            "max": 1648877,
            "min": 0,
            "orientation": "horizontal",
            "style": "IPY_MODEL_6238b2397c9242a3a71e64b55f220d4c",
            "value": 1648877
          }
        },
        "2ce8d7068b524d8eb316e1ed00acebaf": {
          "model_module": "@jupyter-widgets/controls",
          "model_name": "HTMLModel",
          "model_module_version": "1.5.0",
          "state": {
            "_dom_classes": [],
            "_model_module": "@jupyter-widgets/controls",
            "_model_module_version": "1.5.0",
            "_model_name": "HTMLModel",
            "_view_count": null,
            "_view_module": "@jupyter-widgets/controls",
            "_view_module_version": "1.5.0",
            "_view_name": "HTMLView",
            "description": "",
            "description_tooltip": null,
            "layout": "IPY_MODEL_504d018779c74bdbb8c266051cf575f6",
            "placeholder": "​",
            "style": "IPY_MODEL_d9bafc875f8942e4ae04cb00ae8a9cdb",
            "value": " 1648877/1648877 [00:00&lt;00:00, 42506754.09it/s]"
          }
        },
        "7825d97fb2bd4240bed0289eeb3a7677": {
          "model_module": "@jupyter-widgets/base",
          "model_name": "LayoutModel",
          "model_module_version": "1.2.0",
          "state": {
            "_model_module": "@jupyter-widgets/base",
            "_model_module_version": "1.2.0",
            "_model_name": "LayoutModel",
            "_view_count": null,
            "_view_module": "@jupyter-widgets/base",
            "_view_module_version": "1.2.0",
            "_view_name": "LayoutView",
            "align_content": null,
            "align_items": null,
            "align_self": null,
            "border": null,
            "bottom": null,
            "display": null,
            "flex": null,
            "flex_flow": null,
            "grid_area": null,
            "grid_auto_columns": null,
            "grid_auto_flow": null,
            "grid_auto_rows": null,
            "grid_column": null,
            "grid_gap": null,
            "grid_row": null,
            "grid_template_areas": null,
            "grid_template_columns": null,
            "grid_template_rows": null,
            "height": null,
            "justify_content": null,
            "justify_items": null,
            "left": null,
            "margin": null,
            "max_height": null,
            "max_width": null,
            "min_height": null,
            "min_width": null,
            "object_fit": null,
            "object_position": null,
            "order": null,
            "overflow": null,
            "overflow_x": null,
            "overflow_y": null,
            "padding": null,
            "right": null,
            "top": null,
            "visibility": null,
            "width": null
          }
        },
        "4e0871ae6c0d4f21bb8bc629c7b9052c": {
          "model_module": "@jupyter-widgets/base",
          "model_name": "LayoutModel",
          "model_module_version": "1.2.0",
          "state": {
            "_model_module": "@jupyter-widgets/base",
            "_model_module_version": "1.2.0",
            "_model_name": "LayoutModel",
            "_view_count": null,
            "_view_module": "@jupyter-widgets/base",
            "_view_module_version": "1.2.0",
            "_view_name": "LayoutView",
            "align_content": null,
            "align_items": null,
            "align_self": null,
            "border": null,
            "bottom": null,
            "display": null,
            "flex": null,
            "flex_flow": null,
            "grid_area": null,
            "grid_auto_columns": null,
            "grid_auto_flow": null,
            "grid_auto_rows": null,
            "grid_column": null,
            "grid_gap": null,
            "grid_row": null,
            "grid_template_areas": null,
            "grid_template_columns": null,
            "grid_template_rows": null,
            "height": null,
            "justify_content": null,
            "justify_items": null,
            "left": null,
            "margin": null,
            "max_height": null,
            "max_width": null,
            "min_height": null,
            "min_width": null,
            "object_fit": null,
            "object_position": null,
            "order": null,
            "overflow": null,
            "overflow_x": null,
            "overflow_y": null,
            "padding": null,
            "right": null,
            "top": null,
            "visibility": null,
            "width": null
          }
        },
        "6d4a03d23c5340ada806c1d7bcd0b0e9": {
          "model_module": "@jupyter-widgets/controls",
          "model_name": "DescriptionStyleModel",
          "model_module_version": "1.5.0",
          "state": {
            "_model_module": "@jupyter-widgets/controls",
            "_model_module_version": "1.5.0",
            "_model_name": "DescriptionStyleModel",
            "_view_count": null,
            "_view_module": "@jupyter-widgets/base",
            "_view_module_version": "1.2.0",
            "_view_name": "StyleView",
            "description_width": ""
          }
        },
        "09e1411157aa4e2b95889173c740badc": {
          "model_module": "@jupyter-widgets/base",
          "model_name": "LayoutModel",
          "model_module_version": "1.2.0",
          "state": {
            "_model_module": "@jupyter-widgets/base",
            "_model_module_version": "1.2.0",
            "_model_name": "LayoutModel",
            "_view_count": null,
            "_view_module": "@jupyter-widgets/base",
            "_view_module_version": "1.2.0",
            "_view_name": "LayoutView",
            "align_content": null,
            "align_items": null,
            "align_self": null,
            "border": null,
            "bottom": null,
            "display": null,
            "flex": null,
            "flex_flow": null,
            "grid_area": null,
            "grid_auto_columns": null,
            "grid_auto_flow": null,
            "grid_auto_rows": null,
            "grid_column": null,
            "grid_gap": null,
            "grid_row": null,
            "grid_template_areas": null,
            "grid_template_columns": null,
            "grid_template_rows": null,
            "height": null,
            "justify_content": null,
            "justify_items": null,
            "left": null,
            "margin": null,
            "max_height": null,
            "max_width": null,
            "min_height": null,
            "min_width": null,
            "object_fit": null,
            "object_position": null,
            "order": null,
            "overflow": null,
            "overflow_x": null,
            "overflow_y": null,
            "padding": null,
            "right": null,
            "top": null,
            "visibility": null,
            "width": null
          }
        },
        "6238b2397c9242a3a71e64b55f220d4c": {
          "model_module": "@jupyter-widgets/controls",
          "model_name": "ProgressStyleModel",
          "model_module_version": "1.5.0",
          "state": {
            "_model_module": "@jupyter-widgets/controls",
            "_model_module_version": "1.5.0",
            "_model_name": "ProgressStyleModel",
            "_view_count": null,
            "_view_module": "@jupyter-widgets/base",
            "_view_module_version": "1.2.0",
            "_view_name": "StyleView",
            "bar_color": null,
            "description_width": ""
          }
        },
        "504d018779c74bdbb8c266051cf575f6": {
          "model_module": "@jupyter-widgets/base",
          "model_name": "LayoutModel",
          "model_module_version": "1.2.0",
          "state": {
            "_model_module": "@jupyter-widgets/base",
            "_model_module_version": "1.2.0",
            "_model_name": "LayoutModel",
            "_view_count": null,
            "_view_module": "@jupyter-widgets/base",
            "_view_module_version": "1.2.0",
            "_view_name": "LayoutView",
            "align_content": null,
            "align_items": null,
            "align_self": null,
            "border": null,
            "bottom": null,
            "display": null,
            "flex": null,
            "flex_flow": null,
            "grid_area": null,
            "grid_auto_columns": null,
            "grid_auto_flow": null,
            "grid_auto_rows": null,
            "grid_column": null,
            "grid_gap": null,
            "grid_row": null,
            "grid_template_areas": null,
            "grid_template_columns": null,
            "grid_template_rows": null,
            "height": null,
            "justify_content": null,
            "justify_items": null,
            "left": null,
            "margin": null,
            "max_height": null,
            "max_width": null,
            "min_height": null,
            "min_width": null,
            "object_fit": null,
            "object_position": null,
            "order": null,
            "overflow": null,
            "overflow_x": null,
            "overflow_y": null,
            "padding": null,
            "right": null,
            "top": null,
            "visibility": null,
            "width": null
          }
        },
        "d9bafc875f8942e4ae04cb00ae8a9cdb": {
          "model_module": "@jupyter-widgets/controls",
          "model_name": "DescriptionStyleModel",
          "model_module_version": "1.5.0",
          "state": {
            "_model_module": "@jupyter-widgets/controls",
            "_model_module_version": "1.5.0",
            "_model_name": "DescriptionStyleModel",
            "_view_count": null,
            "_view_module": "@jupyter-widgets/base",
            "_view_module_version": "1.2.0",
            "_view_name": "StyleView",
            "description_width": ""
          }
        },
        "f245de1d973b4b4b8d399225bc7cb231": {
          "model_module": "@jupyter-widgets/controls",
          "model_name": "HBoxModel",
          "model_module_version": "1.5.0",
          "state": {
            "_dom_classes": [],
            "_model_module": "@jupyter-widgets/controls",
            "_model_module_version": "1.5.0",
            "_model_name": "HBoxModel",
            "_view_count": null,
            "_view_module": "@jupyter-widgets/controls",
            "_view_module_version": "1.5.0",
            "_view_name": "HBoxView",
            "box_style": "",
            "children": [
              "IPY_MODEL_a6535647de7b4f078c61222865df3607",
              "IPY_MODEL_4f2aa2cd1eb7418ea612f52a2d3ff492",
              "IPY_MODEL_09cbda42b21847a5bc64d114fcbb7e3c"
            ],
            "layout": "IPY_MODEL_08f4d0059411430e9e03c2e2fcce1847"
          }
        },
        "a6535647de7b4f078c61222865df3607": {
          "model_module": "@jupyter-widgets/controls",
          "model_name": "HTMLModel",
          "model_module_version": "1.5.0",
          "state": {
            "_dom_classes": [],
            "_model_module": "@jupyter-widgets/controls",
            "_model_module_version": "1.5.0",
            "_model_name": "HTMLModel",
            "_view_count": null,
            "_view_module": "@jupyter-widgets/controls",
            "_view_module_version": "1.5.0",
            "_view_name": "HTMLView",
            "description": "",
            "description_tooltip": null,
            "layout": "IPY_MODEL_223175d7c2484628a3210f53c90f27ba",
            "placeholder": "​",
            "style": "IPY_MODEL_124a9d55fe76483e9bb28d159aa4d9da",
            "value": "100%"
          }
        },
        "4f2aa2cd1eb7418ea612f52a2d3ff492": {
          "model_module": "@jupyter-widgets/controls",
          "model_name": "FloatProgressModel",
          "model_module_version": "1.5.0",
          "state": {
            "_dom_classes": [],
            "_model_module": "@jupyter-widgets/controls",
            "_model_module_version": "1.5.0",
            "_model_name": "FloatProgressModel",
            "_view_count": null,
            "_view_module": "@jupyter-widgets/controls",
            "_view_module_version": "1.5.0",
            "_view_name": "ProgressView",
            "bar_style": "success",
            "description": "",
            "description_tooltip": null,
            "layout": "IPY_MODEL_7057f561ded245ceb55583347c264ff7",
            "max": 4542,
            "min": 0,
            "orientation": "horizontal",
            "style": "IPY_MODEL_07879c1d4c544952901feb3dc33d7bc0",
            "value": 4542
          }
        },
        "09cbda42b21847a5bc64d114fcbb7e3c": {
          "model_module": "@jupyter-widgets/controls",
          "model_name": "HTMLModel",
          "model_module_version": "1.5.0",
          "state": {
            "_dom_classes": [],
            "_model_module": "@jupyter-widgets/controls",
            "_model_module_version": "1.5.0",
            "_model_name": "HTMLModel",
            "_view_count": null,
            "_view_module": "@jupyter-widgets/controls",
            "_view_module_version": "1.5.0",
            "_view_name": "HTMLView",
            "description": "",
            "description_tooltip": null,
            "layout": "IPY_MODEL_62cbdcb574bf45cb883d491f3a28cdd1",
            "placeholder": "​",
            "style": "IPY_MODEL_b7a0a4d27d9a4ed5bc36f283d15449d0",
            "value": " 4542/4542 [00:00&lt;00:00, 141966.83it/s]"
          }
        },
        "08f4d0059411430e9e03c2e2fcce1847": {
          "model_module": "@jupyter-widgets/base",
          "model_name": "LayoutModel",
          "model_module_version": "1.2.0",
          "state": {
            "_model_module": "@jupyter-widgets/base",
            "_model_module_version": "1.2.0",
            "_model_name": "LayoutModel",
            "_view_count": null,
            "_view_module": "@jupyter-widgets/base",
            "_view_module_version": "1.2.0",
            "_view_name": "LayoutView",
            "align_content": null,
            "align_items": null,
            "align_self": null,
            "border": null,
            "bottom": null,
            "display": null,
            "flex": null,
            "flex_flow": null,
            "grid_area": null,
            "grid_auto_columns": null,
            "grid_auto_flow": null,
            "grid_auto_rows": null,
            "grid_column": null,
            "grid_gap": null,
            "grid_row": null,
            "grid_template_areas": null,
            "grid_template_columns": null,
            "grid_template_rows": null,
            "height": null,
            "justify_content": null,
            "justify_items": null,
            "left": null,
            "margin": null,
            "max_height": null,
            "max_width": null,
            "min_height": null,
            "min_width": null,
            "object_fit": null,
            "object_position": null,
            "order": null,
            "overflow": null,
            "overflow_x": null,
            "overflow_y": null,
            "padding": null,
            "right": null,
            "top": null,
            "visibility": null,
            "width": null
          }
        },
        "223175d7c2484628a3210f53c90f27ba": {
          "model_module": "@jupyter-widgets/base",
          "model_name": "LayoutModel",
          "model_module_version": "1.2.0",
          "state": {
            "_model_module": "@jupyter-widgets/base",
            "_model_module_version": "1.2.0",
            "_model_name": "LayoutModel",
            "_view_count": null,
            "_view_module": "@jupyter-widgets/base",
            "_view_module_version": "1.2.0",
            "_view_name": "LayoutView",
            "align_content": null,
            "align_items": null,
            "align_self": null,
            "border": null,
            "bottom": null,
            "display": null,
            "flex": null,
            "flex_flow": null,
            "grid_area": null,
            "grid_auto_columns": null,
            "grid_auto_flow": null,
            "grid_auto_rows": null,
            "grid_column": null,
            "grid_gap": null,
            "grid_row": null,
            "grid_template_areas": null,
            "grid_template_columns": null,
            "grid_template_rows": null,
            "height": null,
            "justify_content": null,
            "justify_items": null,
            "left": null,
            "margin": null,
            "max_height": null,
            "max_width": null,
            "min_height": null,
            "min_width": null,
            "object_fit": null,
            "object_position": null,
            "order": null,
            "overflow": null,
            "overflow_x": null,
            "overflow_y": null,
            "padding": null,
            "right": null,
            "top": null,
            "visibility": null,
            "width": null
          }
        },
        "124a9d55fe76483e9bb28d159aa4d9da": {
          "model_module": "@jupyter-widgets/controls",
          "model_name": "DescriptionStyleModel",
          "model_module_version": "1.5.0",
          "state": {
            "_model_module": "@jupyter-widgets/controls",
            "_model_module_version": "1.5.0",
            "_model_name": "DescriptionStyleModel",
            "_view_count": null,
            "_view_module": "@jupyter-widgets/base",
            "_view_module_version": "1.2.0",
            "_view_name": "StyleView",
            "description_width": ""
          }
        },
        "7057f561ded245ceb55583347c264ff7": {
          "model_module": "@jupyter-widgets/base",
          "model_name": "LayoutModel",
          "model_module_version": "1.2.0",
          "state": {
            "_model_module": "@jupyter-widgets/base",
            "_model_module_version": "1.2.0",
            "_model_name": "LayoutModel",
            "_view_count": null,
            "_view_module": "@jupyter-widgets/base",
            "_view_module_version": "1.2.0",
            "_view_name": "LayoutView",
            "align_content": null,
            "align_items": null,
            "align_self": null,
            "border": null,
            "bottom": null,
            "display": null,
            "flex": null,
            "flex_flow": null,
            "grid_area": null,
            "grid_auto_columns": null,
            "grid_auto_flow": null,
            "grid_auto_rows": null,
            "grid_column": null,
            "grid_gap": null,
            "grid_row": null,
            "grid_template_areas": null,
            "grid_template_columns": null,
            "grid_template_rows": null,
            "height": null,
            "justify_content": null,
            "justify_items": null,
            "left": null,
            "margin": null,
            "max_height": null,
            "max_width": null,
            "min_height": null,
            "min_width": null,
            "object_fit": null,
            "object_position": null,
            "order": null,
            "overflow": null,
            "overflow_x": null,
            "overflow_y": null,
            "padding": null,
            "right": null,
            "top": null,
            "visibility": null,
            "width": null
          }
        },
        "07879c1d4c544952901feb3dc33d7bc0": {
          "model_module": "@jupyter-widgets/controls",
          "model_name": "ProgressStyleModel",
          "model_module_version": "1.5.0",
          "state": {
            "_model_module": "@jupyter-widgets/controls",
            "_model_module_version": "1.5.0",
            "_model_name": "ProgressStyleModel",
            "_view_count": null,
            "_view_module": "@jupyter-widgets/base",
            "_view_module_version": "1.2.0",
            "_view_name": "StyleView",
            "bar_color": null,
            "description_width": ""
          }
        },
        "62cbdcb574bf45cb883d491f3a28cdd1": {
          "model_module": "@jupyter-widgets/base",
          "model_name": "LayoutModel",
          "model_module_version": "1.2.0",
          "state": {
            "_model_module": "@jupyter-widgets/base",
            "_model_module_version": "1.2.0",
            "_model_name": "LayoutModel",
            "_view_count": null,
            "_view_module": "@jupyter-widgets/base",
            "_view_module_version": "1.2.0",
            "_view_name": "LayoutView",
            "align_content": null,
            "align_items": null,
            "align_self": null,
            "border": null,
            "bottom": null,
            "display": null,
            "flex": null,
            "flex_flow": null,
            "grid_area": null,
            "grid_auto_columns": null,
            "grid_auto_flow": null,
            "grid_auto_rows": null,
            "grid_column": null,
            "grid_gap": null,
            "grid_row": null,
            "grid_template_areas": null,
            "grid_template_columns": null,
            "grid_template_rows": null,
            "height": null,
            "justify_content": null,
            "justify_items": null,
            "left": null,
            "margin": null,
            "max_height": null,
            "max_width": null,
            "min_height": null,
            "min_width": null,
            "object_fit": null,
            "object_position": null,
            "order": null,
            "overflow": null,
            "overflow_x": null,
            "overflow_y": null,
            "padding": null,
            "right": null,
            "top": null,
            "visibility": null,
            "width": null
          }
        },
        "b7a0a4d27d9a4ed5bc36f283d15449d0": {
          "model_module": "@jupyter-widgets/controls",
          "model_name": "DescriptionStyleModel",
          "model_module_version": "1.5.0",
          "state": {
            "_model_module": "@jupyter-widgets/controls",
            "_model_module_version": "1.5.0",
            "_model_name": "DescriptionStyleModel",
            "_view_count": null,
            "_view_module": "@jupyter-widgets/base",
            "_view_module_version": "1.2.0",
            "_view_name": "StyleView",
            "description_width": ""
          }
        }
      }
    }
  },
  "nbformat": 4,
  "nbformat_minor": 5
}